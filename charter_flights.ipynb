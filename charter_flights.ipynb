{
 "cells": [
  {
   "cell_type": "code",
   "execution_count": 1,
   "id": "82065cf6",
   "metadata": {},
   "outputs": [],
   "source": [
    "import pyomo.environ as pe\n",
    "import pyomo.opt as po\n"
   ]
  },
  {
   "cell_type": "markdown",
   "id": "9a80cb51",
   "metadata": {},
   "source": [
    "## Charter flights\n",
    "\n",
    "Cristina Hernández, Macarena Vargas, Guillermo Ruiz, Beatriz Jiménez. 3ºIMAT B\n"
   ]
  },
  {
   "cell_type": "markdown",
   "id": "a537c39c",
   "metadata": {},
   "source": [
    "Resumen del enunciado: \n",
    "\n",
    "Una compañía tiene 5 aviones de cada tipo (A,B,C). Cada tipo admite 80, 68 y 55 pasajeros. \n",
    "Quiere encontrar la mejor combinación de estos tipos para llevar a 372 pasajeros para tener el minimo coste . \n",
    "Tenemos una tabla del coste de cada tipo de avion, cuanto cuesta usar de 1-5 aviones. \n",
    "Además, tenemos un coste fijo de 6k € para cada tipo de avión que se usa. \n",
    "\n",
    "\n",
    "\n"
   ]
  },
  {
   "cell_type": "markdown",
   "id": "2ae421c8",
   "metadata": {},
   "source": [
    "#### Creamos el modelo "
   ]
  },
  {
   "cell_type": "code",
   "execution_count": 2,
   "id": "7f9be4c4",
   "metadata": {},
   "outputs": [],
   "source": [
    "modelo = pe.ConcreteModel()\n"
   ]
  },
  {
   "cell_type": "markdown",
   "id": "7e1a0050",
   "metadata": {},
   "source": [
    "#### Sets \n",
    "\n",
    "${i}$: tipo de avión\n",
    "\n",
    "${j}$: numero de aviones \n",
    "\n"
   ]
  },
  {
   "cell_type": "code",
   "execution_count": 3,
   "id": "1f7d0a12",
   "metadata": {},
   "outputs": [],
   "source": [
    "modelo.aviones= pe.Set(initialize=['A', 'B', 'C'])\n",
    "modelo.numero_aviones = pe.Set(initialize=[1, 2, 3, 4, 5])\n"
   ]
  },
  {
   "cell_type": "markdown",
   "id": "75150265",
   "metadata": {},
   "source": [
    "#### Parámetros \n",
    "$Q_{i}$: capacidad del avión i (número de pasajeros máximo)\n",
    "\n"
   ]
  },
  {
   "cell_type": "code",
   "execution_count": 4,
   "id": "7d947b1f",
   "metadata": {},
   "outputs": [],
   "source": [
    "modelo.capacidad= pe.Param(modelo.aviones, initialize={'A': 80, 'B':68, 'C': 55})"
   ]
  },
  {
   "cell_type": "markdown",
   "id": "36876e6e",
   "metadata": {},
   "source": [
    "$FC$: costes fijos [en miles de €]\n",
    "\n"
   ]
  },
  {
   "cell_type": "code",
   "execution_count": 5,
   "id": "e0af2d95",
   "metadata": {},
   "outputs": [],
   "source": [
    "modelo.coste_fijo = pe.Param(initialize=6)"
   ]
  },
  {
   "cell_type": "markdown",
   "id": "f6fb86cc",
   "metadata": {},
   "source": [
    "$C_{ij}$ : coste de usar j aviones del tipo i"
   ]
  },
  {
   "cell_type": "code",
   "execution_count": 6,
   "id": "132ab12a",
   "metadata": {},
   "outputs": [],
   "source": [
    "costes = {('A', 1): 11, ('A', 2): 20, ('A', 3): 30, ('A', 4): 40, ('A', 5): 50,\n",
    "            ('B', 1): 9, ('B', 2): 17, ('B', 3): 24, ('B', 4): 34, ('B', 5): 45,\n",
    "            ('C', 1): 8, ('C', 2): 15, ('C', 3): 21, ('C', 4): 26, ('C', 5): 31}\n",
    "\n",
    "modelo.costes = pe.Param(modelo.aviones, modelo.numero_aviones, initialize=costes)"
   ]
  },
  {
   "cell_type": "markdown",
   "id": "8435b61e",
   "metadata": {},
   "source": [
    "#### Variables\n",
    "\n",
    "$x_{ij}$ : se usan j aviones del tipo i [bool]. "
   ]
  },
  {
   "cell_type": "code",
   "execution_count": 7,
   "id": "2e14bc4f",
   "metadata": {},
   "outputs": [],
   "source": [
    "modelo.x = pe.Var(modelo.aviones, modelo.numero_aviones, domain=pe.Binary)"
   ]
  },
  {
   "cell_type": "markdown",
   "id": "831ad36b",
   "metadata": {},
   "source": [
    "#### Función objetivo \n",
    "\n",
    "Queremos minimizar los costes. \n",
    "Para cada tipo de avión (i) y cada numero de avion j, si se elije esa combinación (xij=1), \n",
    "entonces se le suman los costes. los costes son los fijos (FC) + los variables (el coste de esa celda en la matriz de costes C)\n",
    "\n",
    "\n",
    "min $\\sum_{ij} (C_{ij} + FC) * x_{ij} $"
   ]
  },
  {
   "cell_type": "code",
   "execution_count": 8,
   "id": "9b777084",
   "metadata": {},
   "outputs": [],
   "source": [
    "def funcion_objetivo(modelo):\n",
    "    fc = modelo.coste_fijo\n",
    "\n",
    "    return sum((modelo.costes[i,j] + fc) * modelo.x[i,j] for i in modelo.aviones for j in modelo.numero_aviones)\n",
    "\n",
    "modelo.coste = pe.Objective(rule=funcion_objetivo, sense=pe.minimize)\n"
   ]
  },
  {
   "cell_type": "markdown",
   "id": "65deb8fb",
   "metadata": {},
   "source": [
    "#### Constrains \n",
    "\n",
    "Restricción 1) El número de pasajeros debe ser igual o superior a 372 \n",
    "\n"
   ]
  },
  {
   "cell_type": "markdown",
   "id": "4c61fd59",
   "metadata": {},
   "source": [
    "$\\sum_{i,j}j·Q_{i}·x_{i,j} \\ge 372$\n"
   ]
  },
  {
   "cell_type": "code",
   "execution_count": 12,
   "id": "f5a53710",
   "metadata": {},
   "outputs": [
    {
     "name": "stdout",
     "output_type": "stream",
     "text": [
      "WARNING: Implicitly replacing the Component attribute\n",
      "passenger_number_constraint (type=<class\n",
      "'pyomo.core.base.constraint.ConstraintList'>) on block unknown with a new\n",
      "Component (type=<class 'pyomo.core.base.constraint.ConstraintList'>). This is\n",
      "usually indicative of a modelling error. To avoid this warning, use\n",
      "block.del_component() and block.add_component().\n"
     ]
    },
    {
     "data": {
      "text/plain": [
       "<pyomo.core.base.constraint.ConstraintData at 0x1c7aa3fd1c0>"
      ]
     },
     "execution_count": 12,
     "metadata": {},
     "output_type": "execute_result"
    }
   ],
   "source": [
    "modelo.passenger_number_constraint=pe.ConstraintList()\n",
    "\n",
    "modelo.passenger_number_constraint.add(\n",
    "sum(modelo.capacidad[i]*modelo.x[i,j]*j for i in modelo.aviones for j in modelo.numero_aviones) >=372\n",
    ")      "
   ]
  },
  {
   "cell_type": "markdown",
   "id": "14fbda0e",
   "metadata": {},
   "source": [
    "Restricción 2) Para cada avión i, solo puede haber una xij que tenga un 1. "
   ]
  },
  {
   "cell_type": "markdown",
   "id": "2f6ce0a2",
   "metadata": {},
   "source": [
    "$\\sum_j x_{ij}\\le 1$"
   ]
  },
  {
   "cell_type": "code",
   "execution_count": null,
   "id": "dde30157",
   "metadata": {},
   "outputs": [],
   "source": [
    "modelo.airplane_number_constraint=pe.ConstraintList()\n",
    "\n",
    "for i in modelo.aviones:\n",
    "    modelo.airplane_number_constraint.add(\n",
    "    sum(modelo.x[i,j] for j in modelo.numero_aviones) <=1\n",
    ")     "
   ]
  },
  {
   "cell_type": "code",
   "execution_count": 15,
   "id": "9c44c62b",
   "metadata": {},
   "outputs": [
    {
     "name": "stdout",
     "output_type": "stream",
     "text": [
      "Set parameter Username\n",
      "Set parameter LicenseID to value 2703329\n",
      "Academic license - for non-commercial use only - expires 2026-09-04\n",
      "Read LP format model from file C:\\Users\\macar\\AppData\\Local\\Temp\\tmpc46hwef1.pyomo.lp\n",
      "Reading time = 0.02 seconds\n",
      "x1: 4 rows, 15 columns, 30 nonzeros\n",
      "Gurobi Optimizer version 12.0.3 build v12.0.3rc0 (win64 - Windows 11.0 (26100.2))\n",
      "\n",
      "CPU model: Intel(R) Core(TM) i5-10210U CPU @ 1.60GHz, instruction set [SSE2|AVX|AVX2]\n",
      "Thread count: 4 physical cores, 8 logical processors, using up to 8 threads\n",
      "\n",
      "Optimize a model with 4 rows, 15 columns and 30 nonzeros\n",
      "Model fingerprint: 0x50666697\n",
      "Variable types: 0 continuous, 15 integer (15 binary)\n",
      "Coefficient statistics:\n",
      "  Matrix range     [1e+00, 4e+02]\n",
      "  Objective range  [1e+01, 6e+01]\n",
      "  Bounds range     [1e+00, 1e+00]\n",
      "  RHS range        [1e+00, 4e+02]\n",
      "Found heuristic solution: objective 56.0000000\n",
      "Presolve time: 0.02s\n",
      "Presolved: 4 rows, 15 columns, 30 nonzeros\n",
      "Variable types: 0 continuous, 15 integer (15 binary)\n",
      "\n",
      "Root relaxation: objective 5.296215e+01, 1 iterations, 0.01 seconds (0.00 work units)\n",
      "\n",
      "    Nodes    |    Current Node    |     Objective Bounds      |     Work\n",
      " Expl Unexpl |  Obj  Depth IntInf | Incumbent    BestBd   Gap | It/Node Time\n",
      "\n",
      "     0     0   52.96215    0    1   56.00000   52.96215  5.42%     -    0s\n",
      "     0     0     cutoff    0        56.00000   56.00000  0.00%     -    0s\n",
      "\n",
      "Cutting planes:\n",
      "  Cover: 1\n",
      "\n",
      "Explored 1 nodes (1 simplex iterations) in 0.06 seconds (0.00 work units)\n",
      "Thread count was 8 (of 8 available processors)\n",
      "\n",
      "Solution count 1: 56 \n",
      "\n",
      "Optimal solution found (tolerance 1.00e-04)\n",
      "Best objective 5.600000000000e+01, best bound 5.600000000000e+01, gap 0.0000%\n"
     ]
    }
   ],
   "source": [
    "#solver = po.SolverFactory('glpk')\n",
    "solver = po.SolverFactory('gurobi')\n",
    "results = solver.solve (modelo, tee=True)"
   ]
  },
  {
   "cell_type": "code",
   "execution_count": 16,
   "id": "a4c81c5d",
   "metadata": {},
   "outputs": [
    {
     "name": "stdout",
     "output_type": "stream",
     "text": [
      "56.0\n"
     ]
    }
   ],
   "source": [
    "\n",
    "print(pe.value(modelo.coste))"
   ]
  },
  {
   "cell_type": "code",
   "execution_count": 20,
   "id": "40741151",
   "metadata": {},
   "outputs": [
    {
     "name": "stdout",
     "output_type": "stream",
     "text": [
      "Se han elegido 5 aviones de tipo A\n"
     ]
    }
   ],
   "source": [
    "for i in modelo.aviones:\n",
    "    for j in modelo.numero_aviones:\n",
    "        if pe.value(modelo.x[i, j]) == 1:\n",
    "            print('Se han elegido {} aviones de tipo {}'.format(j, i))"
   ]
  },
  {
   "cell_type": "code",
   "execution_count": 21,
   "id": "655c3743",
   "metadata": {},
   "outputs": [
    {
     "name": "stdout",
     "output_type": "stream",
     "text": [
      "Se transportan un total de 400.0 pasajeros\n"
     ]
    }
   ],
   "source": [
    "# Capacidad total transportada\n",
    "total_pasajeros = sum(\n",
    "    pe.value(modelo.x[i, j]) * modelo.capacidad[i] * j\n",
    "    for i in modelo.aviones\n",
    "    for j in modelo.numero_aviones\n",
    ")\n",
    "print('Se transportan un total de', total_pasajeros, 'pasajeros')"
   ]
  },
  {
   "cell_type": "code",
   "execution_count": 24,
   "id": "13372f83",
   "metadata": {},
   "outputs": [
    {
     "name": "stdout",
     "output_type": "stream",
     "text": [
      "2 Set Declarations\n",
      "    aviones : Size=1, Index=None, Ordered=Insertion\n",
      "        Key  : Dimen : Domain : Size : Members\n",
      "        None :     1 :    Any :    3 : {'A', 'B', 'C'}\n",
      "    numero_aviones : Size=1, Index=None, Ordered=Insertion\n",
      "        Key  : Dimen : Domain : Size : Members\n",
      "        None :     1 :    Any :    5 : {1, 2, 3, 4, 5}\n",
      "\n",
      "3 Param Declarations\n",
      "    capacidad : Size=3, Index=aviones, Domain=Any, Default=None, Mutable=False\n",
      "        Key : Value\n",
      "          A :    80\n",
      "          B :    68\n",
      "          C :    55\n",
      "    coste_fijo : Size=1, Index=None, Domain=Any, Default=None, Mutable=False\n",
      "        Key  : Value\n",
      "        None :     6\n",
      "    costes : Size=15, Index=aviones*numero_aviones, Domain=Any, Default=None, Mutable=False\n",
      "        Key      : Value\n",
      "        ('A', 1) :    11\n",
      "        ('A', 2) :    20\n",
      "        ('A', 3) :    30\n",
      "        ('A', 4) :    40\n",
      "        ('A', 5) :    50\n",
      "        ('B', 1) :     9\n",
      "        ('B', 2) :    17\n",
      "        ('B', 3) :    24\n",
      "        ('B', 4) :    34\n",
      "        ('B', 5) :    45\n",
      "        ('C', 1) :     8\n",
      "        ('C', 2) :    15\n",
      "        ('C', 3) :    21\n",
      "        ('C', 4) :    26\n",
      "        ('C', 5) :    31\n",
      "\n",
      "1 Var Declarations\n",
      "    x : Size=15, Index=aviones*numero_aviones\n",
      "        Key      : Lower : Value : Upper : Fixed : Stale : Domain\n",
      "        ('A', 1) :     0 :   0.0 :     1 : False : False : Binary\n",
      "        ('A', 2) :     0 :   0.0 :     1 : False : False : Binary\n",
      "        ('A', 3) :     0 :   0.0 :     1 : False : False : Binary\n",
      "        ('A', 4) :     0 :   0.0 :     1 : False : False : Binary\n",
      "        ('A', 5) :     0 :   1.0 :     1 : False : False : Binary\n",
      "        ('B', 1) :     0 :   0.0 :     1 : False : False : Binary\n",
      "        ('B', 2) :     0 :   0.0 :     1 : False : False : Binary\n",
      "        ('B', 3) :     0 :   0.0 :     1 : False : False : Binary\n",
      "        ('B', 4) :     0 :   0.0 :     1 : False : False : Binary\n",
      "        ('B', 5) :     0 :   0.0 :     1 : False : False : Binary\n",
      "        ('C', 1) :     0 :   0.0 :     1 : False : False : Binary\n",
      "        ('C', 2) :     0 :   0.0 :     1 : False : False : Binary\n",
      "        ('C', 3) :     0 :   0.0 :     1 : False : False : Binary\n",
      "        ('C', 4) :     0 :   0.0 :     1 : False : False : Binary\n",
      "        ('C', 5) :     0 :   0.0 :     1 : False : False : Binary\n",
      "\n",
      "1 Objective Declarations\n",
      "    coste : Size=1, Index=None, Active=True\n",
      "        Key  : Active : Sense    : Expression\n",
      "        None :   True : minimize : 17*x[A,1] + 26*x[A,2] + 36*x[A,3] + 46*x[A,4] + 56*x[A,5] + 15*x[B,1] + 23*x[B,2] + 30*x[B,3] + 40*x[B,4] + 51*x[B,5] + 14*x[C,1] + 21*x[C,2] + 27*x[C,3] + 32*x[C,4] + 37*x[C,5]\n",
      "\n",
      "3 Constraint Declarations\n",
      "    airplane_numbre_constraint : Size=3, Index={1, 2, 3}, Active=True\n",
      "        Key : Lower : Body                                       : Upper : Active\n",
      "          1 :  -Inf : x[A,1] + x[A,2] + x[A,3] + x[A,4] + x[A,5] :   1.0 :   True\n",
      "          2 :  -Inf : x[B,1] + x[B,2] + x[B,3] + x[B,4] + x[B,5] :   1.0 :   True\n",
      "          3 :  -Inf : x[C,1] + x[C,2] + x[C,3] + x[C,4] + x[C,5] :   1.0 :   True\n",
      "    passenger_number_constraint : Size=1, Index={1}, Active=True\n",
      "        Key : Lower : Body                                                                                                                                                                                          : Upper : Active\n",
      "          1 : 372.0 : 80*x[A,1] + 160*x[A,2] + 240*x[A,3] + 320*x[A,4] + 400*x[A,5] + 68*x[B,1] + 136*x[B,2] + 204*x[B,3] + 272*x[B,4] + 340*x[B,5] + 55*x[C,1] + 110*x[C,2] + 165*x[C,3] + 220*x[C,4] + 275*x[C,5] :  +Inf :   True\n",
      "    passenger_number_contstraint : Size=0, Index={}, Active=True\n",
      "        Key : Lower : Body : Upper : Active\n",
      "\n",
      "10 Declarations: aviones numero_aviones capacidad coste_fijo costes x coste passenger_number_contstraint passenger_number_constraint airplane_numbre_constraint\n"
     ]
    }
   ],
   "source": [
    "modelo.pprint()"
   ]
  },
  {
   "cell_type": "code",
   "execution_count": 25,
   "id": "5c67f10c",
   "metadata": {},
   "outputs": [
    {
     "name": "stdout",
     "output_type": "stream",
     "text": [
      "Model unknown\n",
      "\n",
      "  Variables:\n",
      "    x : Size=15, Index=aviones*numero_aviones\n",
      "        Key      : Lower : Value : Upper : Fixed : Stale : Domain\n",
      "        ('A', 1) :     0 :   0.0 :     1 : False : False : Binary\n",
      "        ('A', 2) :     0 :   0.0 :     1 : False : False : Binary\n",
      "        ('A', 3) :     0 :   0.0 :     1 : False : False : Binary\n",
      "        ('A', 4) :     0 :   0.0 :     1 : False : False : Binary\n",
      "        ('A', 5) :     0 :   1.0 :     1 : False : False : Binary\n",
      "        ('B', 1) :     0 :   0.0 :     1 : False : False : Binary\n",
      "        ('B', 2) :     0 :   0.0 :     1 : False : False : Binary\n",
      "        ('B', 3) :     0 :   0.0 :     1 : False : False : Binary\n",
      "        ('B', 4) :     0 :   0.0 :     1 : False : False : Binary\n",
      "        ('B', 5) :     0 :   0.0 :     1 : False : False : Binary\n",
      "        ('C', 1) :     0 :   0.0 :     1 : False : False : Binary\n",
      "        ('C', 2) :     0 :   0.0 :     1 : False : False : Binary\n",
      "        ('C', 3) :     0 :   0.0 :     1 : False : False : Binary\n",
      "        ('C', 4) :     0 :   0.0 :     1 : False : False : Binary\n",
      "        ('C', 5) :     0 :   0.0 :     1 : False : False : Binary\n",
      "\n",
      "  Objectives:\n",
      "    coste : Size=1, Index=None, Active=True\n",
      "        Key  : Active : Value\n",
      "        None :   True :  56.0\n",
      "\n",
      "  Constraints:\n",
      "    passenger_number_contstraint : Size=0\n",
      "        Key : Lower : Body : Upper\n",
      "    passenger_number_constraint : Size=1\n",
      "        Key : Lower : Body  : Upper\n",
      "          1 : 372.0 : 400.0 :  None\n",
      "    airplane_numbre_constraint : Size=3\n",
      "        Key : Lower : Body : Upper\n",
      "          1 :  None :  1.0 :   1.0\n",
      "          2 :  None :  0.0 :   1.0\n",
      "          3 :  None :  0.0 :   1.0\n"
     ]
    }
   ],
   "source": [
    "modelo.display() "
   ]
  }
 ],
 "metadata": {
  "kernelspec": {
   "display_name": "Python 3",
   "language": "python",
   "name": "python3"
  },
  "language_info": {
   "codemirror_mode": {
    "name": "ipython",
    "version": 3
   },
   "file_extension": ".py",
   "mimetype": "text/x-python",
   "name": "python",
   "nbconvert_exporter": "python",
   "pygments_lexer": "ipython3",
   "version": "3.10.11"
  }
 },
 "nbformat": 4,
 "nbformat_minor": 5
}
