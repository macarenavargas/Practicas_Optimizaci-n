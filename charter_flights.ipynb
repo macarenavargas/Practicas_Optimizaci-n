{
 "cells": [
  {
   "cell_type": "code",
   "execution_count": 9,
   "id": "82065cf6",
   "metadata": {},
   "outputs": [],
   "source": [
    "import pyomo.environ as pe\n",
    "import pyomo.opt as po\n"
   ]
  },
  {
   "cell_type": "markdown",
   "id": "9a80cb51",
   "metadata": {},
   "source": [
    "## Charter flights\n",
    "\n",
    "Cristina Hernández, Macarena Vargas, Guillermo Ruiz, Beatriz Jiménez. 3ºIMAT B\n"
   ]
  },
  {
   "cell_type": "markdown",
   "id": "a537c39c",
   "metadata": {},
   "source": [
    "Resumen del enunciado: \n",
    "\n",
    "Una compañía tiene 5 aviones de cada tipo (A,B,C). Cada tipo admite 80, 68 y 55 pasajeros. \n",
    "Quiere encontrar la mejor combinación de estos tipos para llevar a 372 pasajeros para tener el minimo coste . \n",
    "Tenemos una tabla del coste de cada tipo de avion, cuanto cuesta usar de 1-5 aviones. \n",
    "Además, tenemos un coste fijo de 6k € para cada tipo de avión que se usa. \n",
    "\n",
    "\n",
    "\n"
   ]
  },
  {
   "cell_type": "markdown",
   "id": "2ae421c8",
   "metadata": {},
   "source": [
    "#### Creamos el modelo "
   ]
  },
  {
   "cell_type": "code",
   "execution_count": 10,
   "id": "7f9be4c4",
   "metadata": {},
   "outputs": [],
   "source": [
    "modelo = pe.ConcreteModel()\n"
   ]
  },
  {
   "cell_type": "markdown",
   "id": "7e1a0050",
   "metadata": {},
   "source": [
    "#### Sets \n",
    "\n",
    "${i}$: tipo de avión\n",
    "\n",
    "${j}$: numero de aviones \n",
    "\n"
   ]
  },
  {
   "cell_type": "code",
   "execution_count": 11,
   "id": "1f7d0a12",
   "metadata": {},
   "outputs": [],
   "source": [
    "modelo.aviones= pe.Set(initialize=['A', 'B', 'C'])\n",
    "modelo.numero_aviones = pe.Set(initialize=[1, 2, 3, 4, 5])\n"
   ]
  },
  {
   "cell_type": "markdown",
   "id": "75150265",
   "metadata": {},
   "source": [
    "#### Parámetros \n",
    "$Q_{i}$: capacidad del avión i (número de pasajeros máximo)\n",
    "\n"
   ]
  },
  {
   "cell_type": "code",
   "execution_count": 12,
   "id": "7d947b1f",
   "metadata": {},
   "outputs": [],
   "source": [
    "modelo.capacidad= pe.Param(modelo.aviones, initialize={'A': 80, 'B':68, 'C': 55})"
   ]
  },
  {
   "cell_type": "markdown",
   "id": "36876e6e",
   "metadata": {},
   "source": [
    "$FC$: costes fijos [en miles de €]\n",
    "\n"
   ]
  },
  {
   "cell_type": "code",
   "execution_count": 13,
   "id": "e0af2d95",
   "metadata": {},
   "outputs": [],
   "source": [
    "modelo.coste_fijo = pe.Param(initialize=6)"
   ]
  },
  {
   "cell_type": "markdown",
   "id": "f6fb86cc",
   "metadata": {},
   "source": [
    "$C_{ij}$ : coste de usar j aviones del tipo i"
   ]
  },
  {
   "cell_type": "code",
   "execution_count": 14,
   "id": "132ab12a",
   "metadata": {},
   "outputs": [],
   "source": [
    "costes = {('A', 1): 11, ('A', 2): 20, ('A', 3): 30, ('A', 4): 40, ('A', 5): 50,\n",
    "            ('B', 1): 9, ('B', 2): 17, ('B', 3): 24, ('B', 4): 34, ('B', 5): 45,\n",
    "            ('C', 1): 8, ('C', 2): 15, ('C', 3): 21, ('C', 4): 26, ('C', 5): 31}\n",
    "\n",
    "modelo.costes = pe.Param(modelo.aviones, modelo.numero_aviones, initialize=costes)"
   ]
  },
  {
   "cell_type": "markdown",
   "id": "8435b61e",
   "metadata": {},
   "source": [
    "#### Variables\n",
    "\n",
    "$x_{ij}$ : se usan j aviones del tipo i [bool]. "
   ]
  },
  {
   "cell_type": "code",
   "execution_count": 15,
   "id": "2e14bc4f",
   "metadata": {},
   "outputs": [],
   "source": [
    "modelo.x = pe.Var(modelo.aviones, modelo.numero_aviones, domain=pe.Binary)"
   ]
  },
  {
   "cell_type": "markdown",
   "id": "831ad36b",
   "metadata": {},
   "source": [
    "#### Función objetivo \n",
    "\n",
    "Queremos minimizar los costes. \n",
    "Para cada tipo de avión (i) y cada numero de avion j, si se elije esa combinación (xij=1), \n",
    "entonces se le suman los costes. los costes son los fijos (FC) + los variables (el coste de esa celda en la matriz de costes C)\n",
    "\n",
    "\n",
    "min $\\sum_{ij} (C_{ij} + FC) * x_{ij} $"
   ]
  },
  {
   "cell_type": "code",
   "execution_count": null,
   "id": "9b777084",
   "metadata": {},
   "outputs": [],
   "source": [
    "def funcion_objetivo(modelo):\n",
    "    fc = modelo.coste_fijo\n",
    "\n",
    "    return sum((modelo.costes[i,j] + fc) * modelo.x[i,j] for i in modelo.aviones for j in modelo.numero_aviones)\n",
    "\n",
    "modelo.coste = pe.Objective(rule=funcion_objetivo, sense=pe.minimize)\n"
   ]
  },
  {
   "cell_type": "markdown",
   "id": "65deb8fb",
   "metadata": {},
   "source": [
    "#### Constrains \n",
    "\n",
    "Restricción 1) El número de pasajeros debe ser igual o superior a 372 \n",
    "Restricción 2) Para cada avión i, solo puede haber una xij que tenga un 1. \n"
   ]
  }
 ],
 "metadata": {
  "kernelspec": {
   "display_name": "base",
   "language": "python",
   "name": "python3"
  },
  "language_info": {
   "codemirror_mode": {
    "name": "ipython",
    "version": 3
   },
   "file_extension": ".py",
   "mimetype": "text/x-python",
   "name": "python",
   "nbconvert_exporter": "python",
   "pygments_lexer": "ipython3",
   "version": "3.11.4"
  }
 },
 "nbformat": 4,
 "nbformat_minor": 5
}
