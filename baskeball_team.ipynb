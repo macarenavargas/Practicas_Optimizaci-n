{
 "cells": [
  {
   "cell_type": "code",
   "execution_count": 1,
   "id": "4c0b56bb",
   "metadata": {},
   "outputs": [],
   "source": [
    "#for building the pyomo model\n",
    "import pyomo.environ as pe"
   ]
  },
  {
   "cell_type": "code",
   "execution_count": 2,
   "id": "010a2a7a",
   "metadata": {},
   "outputs": [],
   "source": [
    "#for solving the pyomo model\n",
    "import pyomo.opt as po"
   ]
  },
  {
   "cell_type": "markdown",
   "id": "6bed623d",
   "metadata": {},
   "source": [
    "#### Basketball Team Problem\n",
    "Cristina Hernández, Macarena Vargas, Guillermo Ruiz, Beatriz Jiménez. 3ºIMAT B "
   ]
  },
  {
   "cell_type": "code",
   "execution_count": 3,
   "id": "e8828a33",
   "metadata": {},
   "outputs": [],
   "source": [
    "#create the model\n",
    "model = pe.ConcreteModel()"
   ]
  },
  {
   "cell_type": "markdown",
   "id": "1d8282f4",
   "metadata": {},
   "source": [
    "#### SETS\n",
    "\n",
    "p: players [1,2,3,4,5,6,7,8,9]\n",
    "\n",
    "\n",
    "z: position [guard, forward, center]"
   ]
  },
  {
   "cell_type": "code",
   "execution_count": 4,
   "id": "2c9f91b1",
   "metadata": {},
   "outputs": [],
   "source": [
    "model.players = pe.Set(initialize=[1,2,3,4,5,6,7,8,9])\n",
    "model.positions = pe.Set(initialize=['Guard', 'Forward', 'Center'])"
   ]
  },
  {
   "cell_type": "markdown",
   "id": "be144178",
   "metadata": {},
   "source": [
    "#### Parameters\n",
    "$H_{p}$: Handle of player p\n",
    "\n",
    "\n",
    "$S_{p}$: Shot of player p\n",
    "\n",
    "\n",
    "$R_{p}$: Rebound of player p \n",
    "\n",
    "\n",
    "$D_{p}$: defense of player p\n",
    "\n",
    "\n",
    "$A_{pz}$: player p can play in position z (binary)\n",
    "\n",
    "\n",
    "$NP_{z}$: minimum numer of players in position z\n",
    "\n",
    "\n",
    "$AV$:minimum average value of shot, rebound and handle"
   ]
  },
  {
   "cell_type": "code",
   "execution_count": 5,
   "id": "4604a201",
   "metadata": {},
   "outputs": [],
   "source": [
    "# inicialize all the parameters: \n",
    "# parameters H, S, R , D\n",
    "handle_dict = {\n",
    "    1:2, 2:3, 3:2, 4:1, 5:1, 6:3, 7:3, 8:2, 9:3\n",
    "}\n",
    "shot_dict = {\n",
    "    1:1, 2:3, 3:3, 4:3, 5:3, 6:1, 7:2, 8:1, 9:3\n",
    "}\n",
    "rebound_dict = {\n",
    "    1:3, 2:1, 3:2, 4:3, 5:1, 6:2, 7:2, 8:3, 9:1\n",
    "}\n",
    "defense_dict = {\n",
    "    1:3, 2:2, 3:2, 4:1, 5:2, 6:3, 7:1, 8:2, 9:3\n",
    "}\n",
    "model.H = pe.Param(model.players, initialize=handle_dict)\n",
    "model.S = pe.Param(model.players, initialize=shot_dict)\n",
    "model.R = pe.Param(model.players, initialize=rebound_dict)\n",
    "model.D = pe.Param(model.players, initialize=defense_dict)\n",
    "# parameter A\n",
    "\n",
    "elig_dict = {\n",
    "    # Player 1\n",
    "    (1,'Guard'):0,   (1,'Forward'):0, (1,'Center'):1,\n",
    "    # Player 2\n",
    "    (2,'Guard'):1,   (2,'Forward'):0, (2,'Center'):0,\n",
    "    # Player 3\n",
    "    (3,'Guard'):0,   (3,'Forward'):1, (3,'Center'):1,\n",
    "    # Player 4\n",
    "    (4,'Guard'):1,   (4,'Forward'):1, (4,'Center'):0,\n",
    "    # Player 5\n",
    "    (5,'Guard'):0,   (5,'Forward'):1, (5,'Center'):1,\n",
    "    # Player 6\n",
    "    (6,'Guard'):1,   (6,'Forward'):1, (6,'Center'):0,\n",
    "    # Player 7\n",
    "    (7,'Guard'):0,   (7,'Forward'):1, (7,'Center'):1,\n",
    "    # Player 8\n",
    "    (8,'Guard'):0,   (8,'Forward'):0, (8,'Center'):1,\n",
    "    # Player 9\n",
    "    (9,'Guard'):0,   (9,'Forward'):1, (9,'Center'):0,\n",
    "}\n",
    "\n",
    "model.A = pe.Param(model.players, model.positions, initialize=elig_dict)\n",
    "\n",
    "#parameter NP\n",
    "NP_dict = {\n",
    "    'Guard':2,\n",
    "    'Forward':2,\n",
    "    'Center':1\n",
    "}\n",
    "model.NP = pe.Param(model.positions, initialize=NP_dict)\n",
    "\n",
    "# parameter AV\n",
    "model.AV = pe.Param(initialize=2)\n"
   ]
  },
  {
   "cell_type": "markdown",
   "id": "05353174",
   "metadata": {},
   "source": [
    "#### Variables\n",
    "\n",
    "$X_{pz}$: if the player p is selected in the position z (binary)"
   ]
  },
  {
   "cell_type": "code",
   "execution_count": 6,
   "id": "ef661ba3",
   "metadata": {},
   "outputs": [],
   "source": [
    "model.X = pe.Var(model.players,model.positions, within = pe.Binary)\n"
   ]
  },
  {
   "cell_type": "markdown",
   "id": "539914f0",
   "metadata": {},
   "source": [
    "#### Objective Function\n",
    "\n",
    "max $\\sum_{pz}(D_{p} *X_{pz} )$"
   ]
  },
  {
   "cell_type": "code",
   "execution_count": 7,
   "id": "ce8868bf",
   "metadata": {},
   "outputs": [],
   "source": [
    "def funcion_objetivo(m):\n",
    "    return sum(m.D[p] * m.X[p, z] for p in m.players for z in m.positions)\n",
    "\n",
    "model.cost = pe.Objective(rule=funcion_objetivo, sense=pe.maximize)"
   ]
  },
  {
   "cell_type": "markdown",
   "id": "428f2b90",
   "metadata": {},
   "source": [
    "#### Constrains\n",
    "\n",
    "Limit number of players per position z"
   ]
  },
  {
   "cell_type": "code",
   "execution_count": 8,
   "id": "2232dbd2",
   "metadata": {},
   "outputs": [],
   "source": [
    "model.players_per_position = pe.ConstraintList()\n",
    "for z in model.positions:\n",
    "    model.players_per_position.add(\n",
    "        sum(model.X[p, z] for p in model.players) == model.NP[z]\n",
    "    )"
   ]
  },
  {
   "cell_type": "markdown",
   "id": "1367c682",
   "metadata": {},
   "source": [
    "Only available positions"
   ]
  },
  {
   "cell_type": "code",
   "execution_count": 9,
   "id": "3b95eb0a",
   "metadata": {},
   "outputs": [],
   "source": [
    "model.available_position = pe.ConstraintList()\n",
    "for p in model.players:\n",
    "    for z in model.positions:\n",
    "        model.available_position.add(model.X[p, z] <= model.A[p, z])"
   ]
  },
  {
   "cell_type": "markdown",
   "id": "b12c9ac7",
   "metadata": {},
   "source": [
    "one position per player"
   ]
  },
  {
   "cell_type": "code",
   "execution_count": 10,
   "id": "d3bec2cc",
   "metadata": {},
   "outputs": [],
   "source": [
    "model.one_pos_per_player = pe.ConstraintList()\n",
    "for p in model.players:\n",
    "    model.one_pos_per_player.add(\n",
    "        sum(model.X[p, z] for z in model.positions) <= 1\n",
    "    )"
   ]
  },
  {
   "cell_type": "markdown",
   "id": "0d24e274",
   "metadata": {},
   "source": [
    "Minimum average value of handle, shot, rebound"
   ]
  },
  {
   "cell_type": "code",
   "execution_count": 11,
   "id": "d171e4eb",
   "metadata": {},
   "outputs": [
    {
     "data": {
      "text/plain": [
       "<pyomo.core.base.constraint.ConstraintData at 0x2918ccb80f0>"
      ]
     },
     "execution_count": 11,
     "metadata": {},
     "output_type": "execute_result"
    }
   ],
   "source": [
    "team_size = sum(model.NP[z] for z in model.positions)\n",
    "\n",
    "model.min_avg_handle = pe.ConstraintList()\n",
    "model.min_avg_handle.add(\n",
    "    sum(model.H[p] * model.X[p, z] for p in model.players for z in model.positions) >= team_size * model.AV\n",
    ")\n",
    "\n",
    "model.min_avg_shot = pe.ConstraintList()\n",
    "model.min_avg_shot.add(\n",
    "    sum(model.S[p] * model.X[p, z] for p in model.players for z in model.positions) >= team_size * model.AV\n",
    ")\n",
    "\n",
    "model.min_avg_rebound = pe.ConstraintList()\n",
    "model.min_avg_rebound.add(\n",
    "    sum(model.R[p] * model.X[p, z] for p in model.players for z in model.positions) >= team_size * model.AV\n",
    ")"
   ]
  },
  {
   "cell_type": "markdown",
   "id": "fa064403",
   "metadata": {},
   "source": [
    "If player 3 is selected then player 6 cannot be selected"
   ]
  },
  {
   "cell_type": "code",
   "execution_count": 12,
   "id": "2944cef7",
   "metadata": {},
   "outputs": [
    {
     "data": {
      "text/plain": [
       "<pyomo.core.base.constraint.ConstraintData at 0x2918cc9bac0>"
      ]
     },
     "execution_count": 12,
     "metadata": {},
     "output_type": "execute_result"
    }
   ],
   "source": [
    "model.no_3_with_6 = pe.ConstraintList()\n",
    "model.no_3_with_6.add(\n",
    "    sum(model.X[3, z] for z in model.positions) + sum(model.X[6, z] for z in model.positions) <= 1\n",
    ")"
   ]
  },
  {
   "cell_type": "markdown",
   "id": "2b19ed4f",
   "metadata": {},
   "source": [
    "If player 1 is selected, then player 4 or 5 must be\n",
    "selected but not both."
   ]
  },
  {
   "cell_type": "code",
   "execution_count": 13,
   "id": "22c45d7c",
   "metadata": {},
   "outputs": [
    {
     "data": {
      "text/plain": [
       "<pyomo.core.base.constraint.ConstraintData at 0x2918cce2030>"
      ]
     },
     "execution_count": 13,
     "metadata": {},
     "output_type": "execute_result"
    }
   ],
   "source": [
    "model.if1then4xor5 = pe.ConstraintList()\n",
    "sum45 = sum(model.X[4, z] + model.X[5, z] for z in model.positions)\n",
    "sum1  = sum(model.X[1, z] for z in model.positions)\n",
    "model.if1then4xor5.add(sum45 <= 2 - sum1)\n",
    "model.if1then4xor5.add(sum45 >=     sum1)"
   ]
  },
  {
   "cell_type": "markdown",
   "id": "b83110a4",
   "metadata": {},
   "source": [
    "Player 8 or play 9 must be selected, but not both"
   ]
  },
  {
   "cell_type": "code",
   "execution_count": 14,
   "id": "e8462350",
   "metadata": {},
   "outputs": [
    {
     "data": {
      "text/plain": [
       "<pyomo.core.base.constraint.ConstraintData at 0x2918bfa42d0>"
      ]
     },
     "execution_count": 14,
     "metadata": {},
     "output_type": "execute_result"
    }
   ],
   "source": [
    "model.only8or9 = pe.ConstraintList()\n",
    "model.only8or9.add(\n",
    "    sum(model.X[8, z] for z in model.positions) + sum(model.X[9, z] for z in model.positions) == 1\n",
    ")"
   ]
  },
  {
   "cell_type": "markdown",
   "id": "59e9f7f3",
   "metadata": {},
   "source": [
    "Solver\n"
   ]
  },
  {
   "cell_type": "code",
   "execution_count": 15,
   "id": "447f6446",
   "metadata": {},
   "outputs": [
    {
     "name": "stdout",
     "output_type": "stream",
     "text": [
      "Set parameter Username\n",
      "Set parameter LicenseID to value 2707272\n",
      "Academic license - for non-commercial use only - expires 2026-09-11\n",
      "Read LP format model from file C:\\Users\\crist\\AppData\\Local\\Temp\\tmpfwn1hzbo.pyomo.lp\n",
      "Reading time = 0.01 seconds\n",
      "x1: 46 rows, 27 columns, 192 nonzeros\n",
      "Gurobi Optimizer version 12.0.3 build v12.0.3rc0 (win64 - Windows 11.0 (26100.2))\n",
      "\n",
      "CPU model: 13th Gen Intel(R) Core(TM) i7-1355U, instruction set [SSE2|AVX|AVX2]\n",
      "Thread count: 10 physical cores, 12 logical processors, using up to 12 threads\n",
      "\n",
      "Optimize a model with 46 rows, 27 columns and 192 nonzeros\n",
      "Model fingerprint: 0xc98609d6\n",
      "Variable types: 0 continuous, 27 integer (27 binary)\n",
      "Coefficient statistics:\n",
      "  Matrix range     [1e+00, 3e+00]\n",
      "  Objective range  [1e+00, 3e+00]\n",
      "  Bounds range     [1e+00, 1e+00]\n",
      "  RHS range        [1e+00, 1e+01]\n",
      "Found heuristic solution: objective 8.0000000\n",
      "Presolve removed 43 rows and 22 columns\n",
      "Presolve time: 0.00s\n",
      "Presolved: 3 rows, 5 columns, 11 nonzeros\n",
      "Found heuristic solution: objective 12.0000000\n",
      "Variable types: 0 continuous, 5 integer (5 binary)\n",
      "\n",
      "Explored 0 nodes (0 simplex iterations) in 0.00 seconds (0.00 work units)\n",
      "Thread count was 12 (of 12 available processors)\n",
      "\n",
      "Solution count 2: 12 8 \n",
      "\n",
      "Optimal solution found (tolerance 1.00e-04)\n",
      "Best objective 1.200000000000e+01, best bound 1.200000000000e+01, gap 0.0000%\n",
      "Solver Status: ok\n",
      "Termination Condition: optimal\n"
     ]
    }
   ],
   "source": [
    "solver = pe.SolverFactory('gurobi')\n",
    "results = solver.solve(model, tee=True)\n",
    "\n",
    "# Mostrar estado de la optimización\n",
    "print(\"Solver Status:\", results.solver.status)\n",
    "print(\"Termination Condition:\", results.solver.termination_condition)\n",
    "\n"
   ]
  },
  {
   "cell_type": "code",
   "execution_count": 16,
   "id": "a48dbc41",
   "metadata": {},
   "outputs": [
    {
     "name": "stdout",
     "output_type": "stream",
     "text": [
      "Optimal cost: 12.0\n"
     ]
    }
   ],
   "source": [
    "print(\"Optimal cost:\", pe.value(model.cost))"
   ]
  },
  {
   "cell_type": "code",
   "execution_count": null,
   "id": "92fc5add",
   "metadata": {},
   "outputs": [],
   "source": []
  },
  {
   "cell_type": "code",
   "execution_count": 17,
   "id": "1c82ea62",
   "metadata": {},
   "outputs": [
    {
     "name": "stdout",
     "output_type": "stream",
     "text": [
      "The player 1 plays in the position Center\n",
      "The player 2 plays in the position Guard\n",
      "The player 4 plays in the position Forward\n",
      "The player 6 plays in the position Guard\n",
      "The player 9 plays in the position Forward\n"
     ]
    }
   ],
   "source": [
    "for player in model.players:\n",
    "    for position in model.positions:\n",
    "        play = pe.value(model.X[player,position])\n",
    "        if play > 1e-6:  # mostramos solo valores positivos\n",
    "            print(f\"The player {player} plays in the position {position}\")"
   ]
  },
  {
   "cell_type": "code",
   "execution_count": null,
   "id": "b1d0478f",
   "metadata": {},
   "outputs": [],
   "source": []
  }
 ],
 "metadata": {
  "kernelspec": {
   "display_name": "icai",
   "language": "python",
   "name": "python3"
  },
  "language_info": {
   "codemirror_mode": {
    "name": "ipython",
    "version": 3
   },
   "file_extension": ".py",
   "mimetype": "text/x-python",
   "name": "python",
   "nbconvert_exporter": "python",
   "pygments_lexer": "ipython3",
   "version": "3.12.7"
  }
 },
 "nbformat": 4,
 "nbformat_minor": 5
}
