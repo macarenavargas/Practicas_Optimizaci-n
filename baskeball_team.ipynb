{
 "cells": [
  {
   "cell_type": "code",
   "execution_count": 1,
   "id": "4c0b56bb",
   "metadata": {},
   "outputs": [],
   "source": [
    "#for building the pyomo model\n",
    "import pyomo.environ as pe"
   ]
  },
  {
   "cell_type": "code",
   "execution_count": 2,
   "id": "010a2a7a",
   "metadata": {},
   "outputs": [],
   "source": [
    "#for solving the pyomo model\n",
    "import pyomo.opt as po"
   ]
  },
  {
   "cell_type": "markdown",
   "id": "6bed623d",
   "metadata": {},
   "source": [
    "#### Basketball Team Problem\n",
    "Cristina Hernández, Macarena Vargas, Guillermo Ruiz, Beatriz Jiménez. 3ºIMAT B "
   ]
  },
  {
   "cell_type": "code",
   "execution_count": 3,
   "id": "e8828a33",
   "metadata": {},
   "outputs": [],
   "source": [
    "#create the model\n",
    "model = pe.ConcreteModel()"
   ]
  },
  {
   "cell_type": "markdown",
   "id": "1d8282f4",
   "metadata": {},
   "source": [
    "#### SETS\n",
    "\n",
    "p: players [1,2,3,4,5,6,7,8,9]\n",
    "\n",
    "\n",
    "z: position [guard, forward, center]"
   ]
  },
  {
   "cell_type": "code",
   "execution_count": 4,
   "id": "2c9f91b1",
   "metadata": {},
   "outputs": [],
   "source": [
    "model.players = pe.Set(initialize=[1,2,3,4,5,6,7,8,9])\n",
    "model.positions = pe.Set(initialize=['Guard', 'Forward', 'Center'])"
   ]
  },
  {
   "cell_type": "markdown",
   "id": "be144178",
   "metadata": {},
   "source": [
    "#### Parameters\n",
    "$H_{p}$: Handle of player p\n",
    "\n",
    "\n",
    "$S_{p}$: Shot of player p\n",
    "\n",
    "\n",
    "$R_{p}$: Rebound of player p \n",
    "\n",
    "\n",
    "$D_{p}$: defense of player p\n",
    "\n",
    "\n",
    "$A_{pz}$: player p can play in position z (binary)\n",
    "\n",
    "\n",
    "$NP_{z}$: minimum numer of players in position z\n",
    "\n",
    "\n",
    "$AV$:minimum average value of shot, rebound and handle"
   ]
  },
  {
   "cell_type": "code",
   "execution_count": 5,
   "id": "4604a201",
   "metadata": {},
   "outputs": [],
   "source": [
    "# inicialize all the parameters: \n",
    "# parameters H, S, R , D\n",
    "handle_dict = {\n",
    "    1:2, 2:3, 3:2, 4:1, 5:1, 6:3, 7:3, 8:2, 9:3\n",
    "}\n",
    "shot_dict = {\n",
    "    1:1, 2:3, 3:3, 4:3, 5:3, 6:1, 7:2, 8:1, 9:3\n",
    "}\n",
    "rebound_dict = {\n",
    "    1:3, 2:1, 3:2, 4:3, 5:1, 6:2, 7:2, 8:3, 9:1\n",
    "}\n",
    "defense_dict = {\n",
    "    1:3, 2:2, 3:2, 4:1, 5:2, 6:3, 7:1, 8:2, 9:3\n",
    "}\n",
    "model.H = pe.Param(model.players, initialize=handle_dict)\n",
    "model.S = pe.Param(model.players, initialize=shot_dict)\n",
    "model.R = pe.Param(model.players, initialize=rebound_dict)\n",
    "model.D = pe.Param(model.players, initialize=defense_dict)\n",
    "# parameter A\n",
    "\n",
    "elig_dict = {\n",
    "    (1,'Center'):1,\n",
    "    (2,'Guard'):1,\n",
    "    (3,'Forward'):1, (3,'Center'):1,\n",
    "    (4,'Guard'):1,   (4,'Forward'):1,\n",
    "    (5,'Forward'):1, (5,'Center'):1,\n",
    "    (6,'Guard'):1,   (6,'Forward'):1,\n",
    "    (7,'Forward'):1, (7,'Center'):1,\n",
    "    (8,'Center'):1,\n",
    "    (9,'Forward'):1,\n",
    "}\n",
    "model.A = pe.Param(model.players, model.positions, initialize=elig_dict)\n",
    "\n",
    "#parameter NP\n",
    "NP_dict = {\n",
    "    'Guard':2,\n",
    "    'Forward':2,\n",
    "    'Center':1\n",
    "}\n",
    "model.NP = pe.Param(model.positions, initialize=NP_dict)\n",
    "\n",
    "# parameter AV\n",
    "model.AV = pe.Param(initialize=2)\n"
   ]
  },
  {
   "cell_type": "markdown",
   "id": "05353174",
   "metadata": {},
   "source": [
    "#### Variables\n",
    "\n",
    "$X_{pz}$: if the player p is selected in the position z (binary)"
   ]
  },
  {
   "cell_type": "code",
   "execution_count": 6,
   "id": "ef661ba3",
   "metadata": {},
   "outputs": [],
   "source": [
    "model.X = pe.Var(model.players,model.positions, within = pe.Binary)\n"
   ]
  },
  {
   "cell_type": "markdown",
   "id": "539914f0",
   "metadata": {},
   "source": [
    "#### Objective Function\n",
    "\n",
    "max $\\sum_{pz}(D_{p} *X_{pz} )$"
   ]
  },
  {
   "cell_type": "code",
   "execution_count": null,
   "id": "ce8868bf",
   "metadata": {},
   "outputs": [
    {
     "name": "stdout",
     "output_type": "stream",
     "text": [
      "WARNING: Implicitly replacing the Component attribute cost (type=<class\n",
      "'pyomo.core.base.objective.ScalarObjective'>) on block unknown with a new\n",
      "Component (type=<class 'pyomo.core.base.objective.AbstractScalarObjective'>).\n",
      "This is usually indicative of a modelling error. To avoid this warning, use\n",
      "block.del_component() and block.add_component().\n"
     ]
    }
   ],
   "source": [
    "def funcion_objetivo(m):\n",
    "    return sum(m.D[p] * m.X[p, z] for p in m.players for z in m.positions)\n",
    "\n",
    "model.cost = pe.Objective(rule=funcion_objetivo, sense=pe.maximize)"
   ]
  },
  {
   "cell_type": "code",
   "execution_count": null,
   "id": "2232dbd2",
   "metadata": {},
   "outputs": [],
   "source": []
  }
 ],
 "metadata": {
  "kernelspec": {
   "display_name": "base",
   "language": "python",
   "name": "python3"
  },
  "language_info": {
   "codemirror_mode": {
    "name": "ipython",
    "version": 3
   },
   "file_extension": ".py",
   "mimetype": "text/x-python",
   "name": "python",
   "nbconvert_exporter": "python",
   "pygments_lexer": "ipython3",
   "version": "3.11.4"
  }
 },
 "nbformat": 4,
 "nbformat_minor": 5
}
