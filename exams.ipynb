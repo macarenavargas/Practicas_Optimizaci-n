{
 "cells": [
  {
   "cell_type": "markdown",
   "id": "f4706598",
   "metadata": {},
   "source": [
    "# Exam Problem \n",
    "\n",
    "Cristina Hernández, Beatriz Jimenez, Macarena Vargas, Guillermo Ruiz\n"
   ]
  },
  {
   "cell_type": "code",
   "execution_count": 45,
   "id": "2e63da24",
   "metadata": {},
   "outputs": [],
   "source": [
    "import pyomo.environ as pe\n",
    "import pyomo.opt as po"
   ]
  },
  {
   "cell_type": "markdown",
   "id": "8e23f44d",
   "metadata": {},
   "source": [
    "#### Create the model "
   ]
  },
  {
   "cell_type": "code",
   "execution_count": 46,
   "id": "636874e3",
   "metadata": {},
   "outputs": [],
   "source": [
    "model = pe.ConcreteModel()"
   ]
  },
  {
   "cell_type": "markdown",
   "id": "545fc86a",
   "metadata": {},
   "source": [
    "#### Sets\n",
    "\n",
    "\n",
    "${i}$: Course i = {A, B, C, D}\n",
    "${j}$: Number of days j = {1, 2, 3 , 4}\n",
    "\n"
   ]
  },
  {
   "cell_type": "code",
   "execution_count": 47,
   "id": "12be9faf",
   "metadata": {},
   "outputs": [],
   "source": [
    "model.courses = pe.Set(initialize=['A', 'B', 'C', 'D'])\n",
    "model.days = pe.Set(initialize=[1, 2, 3, 4])"
   ]
  },
  {
   "cell_type": "markdown",
   "id": "620924b6",
   "metadata": {},
   "source": [
    "#### Parameters\n",
    "\n",
    "\n",
    "${n}$ : number of days to study \n",
    "\n",
    "${G_{ij}}$ : grade if the student studies the course i , j days "
   ]
  },
  {
   "cell_type": "code",
   "execution_count": 48,
   "id": "c9a8c66b",
   "metadata": {},
   "outputs": [],
   "source": [
    "model.num_days = pe.Param(initialize = 7)\n",
    "\n",
    "dict_grades_per_days =  {\n",
    "    ('A', 1): 3, ('A', 2): 5, ('A', 3): 6, ('A', 4): 7, \n",
    "    ('B', 1): 4, ('B', 2): 5, ('B', 3): 6, ('B', 4): 9, \n",
    "    ('C', 1): 2, ('C', 2): 5, ('C', 3): 7, ('C', 4): 8, \n",
    "    ('D', 1): 5, ('D', 2): 6, ('D', 3): 7, ('D', 4): 9}\n",
    "\n",
    "model.grades_per_days = pe.Param(model.courses, model.days, initialize = dict_grades_per_days)"
   ]
  },
  {
   "cell_type": "markdown",
   "id": "7fe8c65c",
   "metadata": {},
   "source": [
    "#### Variables \n",
    "\n",
    "${x_{ij}}$: the student studies j days the course i(bool)"
   ]
  },
  {
   "cell_type": "code",
   "execution_count": null,
   "id": "5d2cca7c",
   "metadata": {},
   "outputs": [],
   "source": [
    "model.days_per_course = pe.Var(model.courses, model.days, within = pe.NonNegativeReals)"
   ]
  },
  {
   "cell_type": "markdown",
   "id": "7f2a0af5",
   "metadata": {},
   "source": [
    "${p_{ij}}$ : the student passes the course i with j days of study (bool)"
   ]
  },
  {
   "cell_type": "code",
   "execution_count": 50,
   "id": "a6ce3036",
   "metadata": {},
   "outputs": [],
   "source": [
    "model.pass_course = pe.Var(model.courses, model.days, within = pe.Binary)"
   ]
  },
  {
   "cell_type": "markdown",
   "id": "a07de31d",
   "metadata": {},
   "source": [
    "#### Constrains \n",
    "\n",
    "1)The students studies either 1, 2, 3 or four days\n",
    "(equivalent to have only value of 1 in \"number of days\" j )\n",
    "\n",
    "$\\sum_{j}(x_{ij}) = 1$ "
   ]
  },
  {
   "cell_type": "code",
   "execution_count": null,
   "id": "0e445c7a",
   "metadata": {},
   "outputs": [],
   "source": []
  },
  {
   "cell_type": "markdown",
   "id": "47df0fc1",
   "metadata": {},
   "source": [
    "2) The student only has seven days to study\n",
    "\n",
    "$\\sum_{i,j} (x_{ij})* ord(n) = 7 $ \n"
   ]
  },
  {
   "cell_type": "code",
   "execution_count": null,
   "id": "9b6b9e0b",
   "metadata": {},
   "outputs": [],
   "source": []
  },
  {
   "cell_type": "markdown",
   "id": "5b503a50",
   "metadata": {},
   "source": [
    "3) The student passes the course i if the grade assigned to the j days he studied is >= 5\n",
    "\n",
    "$\\sum_{j}(G_{ij}) * x_{ij}  \\;\\geq\\; 5  ;  p_{i} = 1 $\n",
    "\n",
    "$\\sum_{j}(G_{ij}) * x_{ij}  < 5  ;  p_{i} = 0 $\n",
    "\n",
    "This is rephrased as : \n",
    "$\\sum_{j}(G_{ij}) * x_{ij}  \\;\\geq\\;  5 - \\varepsilon  + (M + \\varepsilon ) * p_{i}$\n",
    "\n"
   ]
  },
  {
   "cell_type": "markdown",
   "id": "8cb4ba7a",
   "metadata": {},
   "source": [
    "####"
   ]
  }
 ],
 "metadata": {
  "kernelspec": {
   "display_name": "base",
   "language": "python",
   "name": "python3"
  },
  "language_info": {
   "codemirror_mode": {
    "name": "ipython",
    "version": 3
   },
   "file_extension": ".py",
   "mimetype": "text/x-python",
   "name": "python",
   "nbconvert_exporter": "python",
   "pygments_lexer": "ipython3",
   "version": "3.11.4"
  }
 },
 "nbformat": 4,
 "nbformat_minor": 5
}
