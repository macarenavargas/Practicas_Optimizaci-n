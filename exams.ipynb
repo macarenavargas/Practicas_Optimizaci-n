{
 "cells": [
  {
   "cell_type": "markdown",
   "id": "f4706598",
   "metadata": {},
   "source": [
    "# Exam Problem \n",
    "\n",
    "Cristina Hernández, Beatriz Jimenez, Macarena Vargas, Guillermo Ruiz\n"
   ]
  },
  {
   "cell_type": "code",
   "execution_count": 70,
   "id": "2e63da24",
   "metadata": {},
   "outputs": [],
   "source": [
    "import pyomo.environ as pe\n",
    "import pyomo.opt as po"
   ]
  },
  {
   "cell_type": "markdown",
   "id": "8e23f44d",
   "metadata": {},
   "source": [
    "#### Create the model "
   ]
  },
  {
   "cell_type": "code",
   "execution_count": 71,
   "id": "636874e3",
   "metadata": {},
   "outputs": [],
   "source": [
    "model = pe.ConcreteModel()"
   ]
  },
  {
   "cell_type": "markdown",
   "id": "545fc86a",
   "metadata": {},
   "source": [
    "#### Sets\n",
    "\n",
    "\n",
    "${i}$: Course i = {A, B, C, D}\n",
    "${j}$: Number of days j = {1, 2, 3 , 4}\n",
    "\n"
   ]
  },
  {
   "cell_type": "code",
   "execution_count": 72,
   "id": "12be9faf",
   "metadata": {},
   "outputs": [],
   "source": [
    "model.courses = pe.Set(initialize=['A', 'B', 'C', 'D'])\n",
    "model.days = pe.Set(initialize=[1, 2, 3, 4])"
   ]
  },
  {
   "cell_type": "markdown",
   "id": "620924b6",
   "metadata": {},
   "source": [
    "#### Parameters\n",
    "\n",
    "\n",
    "${n}$ : number of days to study \n",
    "\n",
    "${G_{ij}}$ : grade if the student studies the course i , j days "
   ]
  },
  {
   "cell_type": "code",
   "execution_count": 73,
   "id": "c9a8c66b",
   "metadata": {},
   "outputs": [],
   "source": [
    "model.num_days = pe.Param(initialize = 7)\n",
    "\n",
    "dict_grades_per_days =  {\n",
    "    ('A', 1): 3, ('A', 2): 5, ('A', 3): 6, ('A', 4): 7, \n",
    "    ('B', 1): 4, ('B', 2): 5, ('B', 3): 6, ('B', 4): 9, \n",
    "    ('C', 1): 2, ('C', 2): 5, ('C', 3): 7, ('C', 4): 8, \n",
    "    ('D', 1): 5, ('D', 2): 6, ('D', 3): 7, ('D', 4): 9}\n",
    "\n",
    "model.grades_per_days = pe.Param(model.courses, model.days, initialize = dict_grades_per_days)"
   ]
  },
  {
   "cell_type": "markdown",
   "id": "7fe8c65c",
   "metadata": {},
   "source": [
    "#### Variables \n",
    "\n",
    "${x_{ij}}$: the student studies j days the course i(bool)"
   ]
  },
  {
   "cell_type": "code",
   "execution_count": 74,
   "id": "5d2cca7c",
   "metadata": {},
   "outputs": [],
   "source": [
    "model.days_per_course = pe.Var(model.courses, model.days, within = pe.NonNegativeReals)"
   ]
  },
  {
   "cell_type": "markdown",
   "id": "7f2a0af5",
   "metadata": {},
   "source": [
    "${p_{i}}$ : the student passes the course i(bool)"
   ]
  },
  {
   "cell_type": "code",
   "execution_count": 75,
   "id": "a6ce3036",
   "metadata": {},
   "outputs": [],
   "source": [
    "model.pass_course = pe.Var(model.courses,within = pe.Binary)"
   ]
  },
  {
   "cell_type": "markdown",
   "id": "a07de31d",
   "metadata": {},
   "source": [
    "#### Constrains \n",
    "\n",
    "1)The students studies either 1, 2, 3 or four days\n",
    "(equivalent to have only value of 1 in \"number of days\" j )\n",
    "\n",
    "$\\sum_{j}(x_{ij}) = 1$ "
   ]
  },
  {
   "cell_type": "code",
   "execution_count": null,
   "id": "0e445c7a",
   "metadata": {},
   "outputs": [],
   "source": []
  },
  {
   "cell_type": "markdown",
   "id": "47df0fc1",
   "metadata": {},
   "source": [
    "2) The student only has seven days to study\n",
    "\n",
    "$\\sum_{i,j} (x_{ij})* ord(n) = 7 $ \n"
   ]
  },
  {
   "cell_type": "code",
   "execution_count": null,
   "id": "9b6b9e0b",
   "metadata": {},
   "outputs": [],
   "source": []
  },
  {
   "cell_type": "markdown",
   "id": "5b503a50",
   "metadata": {},
   "source": [
    "3) The student passes the course i if the grade assigned to the j days he studied is >= 5\n",
    "\n",
    "$\\sum_{j}(G_{ij}) * x_{ij}  \\;\\geq\\; 5  ;  p_{i} = 1 $\n",
    "\n",
    "$\\sum_{j}(G_{ij}) * x_{ij}  < 5  ;  p_{i} = 0 $\n",
    "\n",
    "This is rephrased as : \n",
    "$\\sum_{j}(G_{ij}) * x_{ij}  \\;\\geq\\;  5 - \\varepsilon  + (M + \\varepsilon ) * p_{i}$\n",
    "\n"
   ]
  },
  {
   "cell_type": "code",
   "execution_count": 76,
   "id": "d9b42e9c",
   "metadata": {},
   "outputs": [
    {
     "name": "stdout",
     "output_type": "stream",
     "text": [
      "WARNING: Implicitly replacing the Component attribute pass_course (type=<class\n",
      "'pyomo.core.base.var.IndexedVar'>) on block unknown with a new Component\n",
      "(type=<class 'pyomo.core.base.constraint.IndexedConstraint'>). This is usually\n",
      "indicative of a modelling error. To avoid this warning, use\n",
      "block.del_component() and block.add_component().\n",
      "ERROR: Rule failed when generating expression for Constraint pass_course with\n",
      "index A: RecursionError: maximum recursion depth exceeded\n",
      "ERROR: Constructing component 'pass_course' from data=None failed:\n",
      "        RecursionError: maximum recursion depth exceeded\n"
     ]
    },
    {
     "ename": "RecursionError",
     "evalue": "maximum recursion depth exceeded",
     "output_type": "error",
     "traceback": [
      "\u001b[1;31m---------------------------------------------------------------------------\u001b[0m",
      "\u001b[1;31mRecursionError\u001b[0m                            Traceback (most recent call last)",
      "File \u001b[1;32mc:\\Users\\beatr\\anaconda3.1\\Lib\\site-packages\\pyomo\\core\\base\\param.py:1031\u001b[0m, in \u001b[0;36mIndexedParam.__getitem__\u001b[1;34m(self, args)\u001b[0m\n\u001b[0;32m   1030\u001b[0m \u001b[38;5;28;01mtry\u001b[39;00m:\n\u001b[1;32m-> 1031\u001b[0m     \u001b[38;5;28;01mreturn\u001b[39;00m \u001b[38;5;28msuper\u001b[39m()\u001b[38;5;241m.\u001b[39m\u001b[38;5;21m__getitem__\u001b[39m(args)\n\u001b[0;32m   1032\u001b[0m \u001b[38;5;28;01mexcept\u001b[39;00m:\n",
      "File \u001b[1;32mc:\\Users\\beatr\\anaconda3.1\\Lib\\site-packages\\pyomo\\core\\base\\indexed_component.py:621\u001b[0m, in \u001b[0;36mIndexedComponent.__getitem__\u001b[1;34m(self, index)\u001b[0m\n\u001b[0;32m    620\u001b[0m \u001b[38;5;28;01mtry\u001b[39;00m:\n\u001b[1;32m--> 621\u001b[0m     \u001b[38;5;28;01mreturn\u001b[39;00m \u001b[38;5;28mself\u001b[39m\u001b[38;5;241m.\u001b[39m_data[index]\n\u001b[0;32m    622\u001b[0m \u001b[38;5;28;01mexcept\u001b[39;00m \u001b[38;5;167;01mKeyError\u001b[39;00m:\n",
      "\u001b[1;31mRecursionError\u001b[0m: maximum recursion depth exceeded in comparison",
      "\nDuring handling of the above exception, another exception occurred:\n",
      "\u001b[1;31mRecursionError\u001b[0m                            Traceback (most recent call last)",
      "Cell \u001b[1;32mIn[76], line 7\u001b[0m\n\u001b[0;32m      5\u001b[0m \u001b[38;5;28;01mdef\u001b[39;00m \u001b[38;5;21mpass_course\u001b[39m(m, i):\n\u001b[0;32m      6\u001b[0m     \u001b[38;5;28;01mreturn\u001b[39;00m \u001b[38;5;28msum\u001b[39m(m\u001b[38;5;241m.\u001b[39mgrades_per_days[i,j] \u001b[38;5;241m*\u001b[39m m\u001b[38;5;241m.\u001b[39mdays_per_course[i,j] \u001b[38;5;28;01mfor\u001b[39;00m j \u001b[38;5;129;01min\u001b[39;00m m\u001b[38;5;241m.\u001b[39mdays) \u001b[38;5;241m>\u001b[39m\u001b[38;5;241m=\u001b[39m \u001b[38;5;241m5\u001b[39m \u001b[38;5;241m-\u001b[39m eps \u001b[38;5;241m+\u001b[39m (M \u001b[38;5;241m+\u001b[39m eps) \u001b[38;5;241m*\u001b[39m m\u001b[38;5;241m.\u001b[39mpass_course[i]\n\u001b[1;32m----> 7\u001b[0m model\u001b[38;5;241m.\u001b[39mpass_course \u001b[38;5;241m=\u001b[39m pe\u001b[38;5;241m.\u001b[39mConstraint(model\u001b[38;5;241m.\u001b[39mcourses, rule\u001b[38;5;241m=\u001b[39mpass_course)\n",
      "File \u001b[1;32mc:\\Users\\beatr\\anaconda3.1\\Lib\\site-packages\\pyomo\\core\\base\\block.py:603\u001b[0m, in \u001b[0;36mBlockData.__setattr__\u001b[1;34m(self, name, val)\u001b[0m\n\u001b[0;32m    594\u001b[0m     logger\u001b[38;5;241m.\u001b[39mwarning(\n\u001b[0;32m    595\u001b[0m         \u001b[38;5;124m\"\u001b[39m\u001b[38;5;124mImplicitly replacing the Component attribute \u001b[39m\u001b[38;5;124m\"\u001b[39m\n\u001b[0;32m    596\u001b[0m         \u001b[38;5;124m\"\u001b[39m\u001b[38;5;132;01m%s\u001b[39;00m\u001b[38;5;124m (type=\u001b[39m\u001b[38;5;132;01m%s\u001b[39;00m\u001b[38;5;124m) on block \u001b[39m\u001b[38;5;132;01m%s\u001b[39;00m\u001b[38;5;124m with a new Component (type=\u001b[39m\u001b[38;5;132;01m%s\u001b[39;00m\u001b[38;5;124m).\u001b[39m\u001b[38;5;124m\"\u001b[39m\n\u001b[1;32m   (...)\u001b[0m\n\u001b[0;32m    600\u001b[0m         \u001b[38;5;241m%\u001b[39m (name, \u001b[38;5;28mtype\u001b[39m(\u001b[38;5;28mself\u001b[39m\u001b[38;5;241m.\u001b[39mcomponent(name)), \u001b[38;5;28mself\u001b[39m\u001b[38;5;241m.\u001b[39mname, \u001b[38;5;28mtype\u001b[39m(val))\n\u001b[0;32m    601\u001b[0m     )\n\u001b[0;32m    602\u001b[0m     \u001b[38;5;28mself\u001b[39m\u001b[38;5;241m.\u001b[39mdel_component(name)\n\u001b[1;32m--> 603\u001b[0m     \u001b[38;5;28mself\u001b[39m\u001b[38;5;241m.\u001b[39madd_component(name, val)\n\u001b[0;32m    604\u001b[0m \u001b[38;5;28;01melse\u001b[39;00m:\n\u001b[0;32m    605\u001b[0m     \u001b[38;5;66;03m#\u001b[39;00m\n\u001b[0;32m    606\u001b[0m     \u001b[38;5;66;03m# The incoming value is not a component, so we set the\u001b[39;00m\n\u001b[1;32m   (...)\u001b[0m\n\u001b[0;32m    613\u001b[0m     \u001b[38;5;66;03m# generated while setting the value.\u001b[39;00m\n\u001b[0;32m    614\u001b[0m     \u001b[38;5;66;03m#\u001b[39;00m\n\u001b[0;32m    615\u001b[0m     \u001b[38;5;28;01mtry\u001b[39;00m:\n",
      "File \u001b[1;32mc:\\Users\\beatr\\anaconda3.1\\Lib\\site-packages\\pyomo\\core\\base\\block.py:1103\u001b[0m, in \u001b[0;36mBlockData.add_component\u001b[1;34m(self, name, val)\u001b[0m\n\u001b[0;32m   1095\u001b[0m     logger\u001b[38;5;241m.\u001b[39mdebug(\n\u001b[0;32m   1096\u001b[0m         \u001b[38;5;124m\"\u001b[39m\u001b[38;5;124mConstructing \u001b[39m\u001b[38;5;132;01m%s\u001b[39;00m\u001b[38;5;124m \u001b[39m\u001b[38;5;124m'\u001b[39m\u001b[38;5;132;01m%s\u001b[39;00m\u001b[38;5;124m'\u001b[39m\u001b[38;5;124m on \u001b[39m\u001b[38;5;132;01m%s\u001b[39;00m\u001b[38;5;124m from data=\u001b[39m\u001b[38;5;132;01m%s\u001b[39;00m\u001b[38;5;124m\"\u001b[39m,\n\u001b[0;32m   1097\u001b[0m         val\u001b[38;5;241m.\u001b[39m\u001b[38;5;18m__class__\u001b[39m\u001b[38;5;241m.\u001b[39m\u001b[38;5;18m__name__\u001b[39m,\n\u001b[1;32m   (...)\u001b[0m\n\u001b[0;32m   1100\u001b[0m         \u001b[38;5;28mstr\u001b[39m(data),\n\u001b[0;32m   1101\u001b[0m     )\n\u001b[0;32m   1102\u001b[0m \u001b[38;5;28;01mtry\u001b[39;00m:\n\u001b[1;32m-> 1103\u001b[0m     val\u001b[38;5;241m.\u001b[39mconstruct(data)\n\u001b[0;32m   1104\u001b[0m \u001b[38;5;28;01mexcept\u001b[39;00m:\n\u001b[0;32m   1105\u001b[0m     err \u001b[38;5;241m=\u001b[39m sys\u001b[38;5;241m.\u001b[39mexc_info()[\u001b[38;5;241m1\u001b[39m]\n",
      "File \u001b[1;32mc:\\Users\\beatr\\anaconda3.1\\Lib\\site-packages\\pyomo\\core\\base\\constraint.py:739\u001b[0m, in \u001b[0;36mConstraint.construct\u001b[1;34m(self, data)\u001b[0m\n\u001b[0;32m    737\u001b[0m         \u001b[38;5;66;03m# Bypass the index validation and create the member directly\u001b[39;00m\n\u001b[0;32m    738\u001b[0m         \u001b[38;5;28;01mfor\u001b[39;00m index \u001b[38;5;129;01min\u001b[39;00m \u001b[38;5;28mself\u001b[39m\u001b[38;5;241m.\u001b[39mindex_set():\n\u001b[1;32m--> 739\u001b[0m             \u001b[38;5;28mself\u001b[39m\u001b[38;5;241m.\u001b[39m_setitem_when_not_present(index, rule(block, index))\n\u001b[0;32m    740\u001b[0m \u001b[38;5;28;01mexcept\u001b[39;00m \u001b[38;5;167;01mException\u001b[39;00m:\n\u001b[0;32m    741\u001b[0m     err \u001b[38;5;241m=\u001b[39m sys\u001b[38;5;241m.\u001b[39mexc_info()[\u001b[38;5;241m1\u001b[39m]\n",
      "File \u001b[1;32mc:\\Users\\beatr\\anaconda3.1\\Lib\\site-packages\\pyomo\\core\\base\\initializer.py:351\u001b[0m, in \u001b[0;36mIndexedCallInitializer.__call__\u001b[1;34m(self, parent, idx, **kwargs)\u001b[0m\n\u001b[0;32m    349\u001b[0m     \u001b[38;5;28;01mreturn\u001b[39;00m \u001b[38;5;28mself\u001b[39m\u001b[38;5;241m.\u001b[39m_fcn(parent, \u001b[38;5;241m*\u001b[39midx, \u001b[38;5;241m*\u001b[39m\u001b[38;5;241m*\u001b[39mkwargs)\n\u001b[0;32m    350\u001b[0m \u001b[38;5;28;01melse\u001b[39;00m:\n\u001b[1;32m--> 351\u001b[0m     \u001b[38;5;28;01mreturn\u001b[39;00m \u001b[38;5;28mself\u001b[39m\u001b[38;5;241m.\u001b[39m_fcn(parent, idx, \u001b[38;5;241m*\u001b[39m\u001b[38;5;241m*\u001b[39mkwargs)\n",
      "Cell \u001b[1;32mIn[76], line 6\u001b[0m, in \u001b[0;36mpass_course\u001b[1;34m(m, i)\u001b[0m\n\u001b[0;32m      5\u001b[0m \u001b[38;5;28;01mdef\u001b[39;00m \u001b[38;5;21mpass_course\u001b[39m(m, i):\n\u001b[1;32m----> 6\u001b[0m     \u001b[38;5;28;01mreturn\u001b[39;00m \u001b[38;5;28msum\u001b[39m(m\u001b[38;5;241m.\u001b[39mgrades_per_days[i,j] \u001b[38;5;241m*\u001b[39m m\u001b[38;5;241m.\u001b[39mdays_per_course[i,j] \u001b[38;5;28;01mfor\u001b[39;00m j \u001b[38;5;129;01min\u001b[39;00m m\u001b[38;5;241m.\u001b[39mdays) \u001b[38;5;241m>\u001b[39m\u001b[38;5;241m=\u001b[39m \u001b[38;5;241m5\u001b[39m \u001b[38;5;241m-\u001b[39m eps \u001b[38;5;241m+\u001b[39m (M \u001b[38;5;241m+\u001b[39m eps) \u001b[38;5;241m*\u001b[39m m\u001b[38;5;241m.\u001b[39mpass_course[i]\n",
      "File \u001b[1;32mc:\\Users\\beatr\\anaconda3.1\\Lib\\site-packages\\pyomo\\core\\base\\indexed_component.py:662\u001b[0m, in \u001b[0;36mIndexedComponent.__getitem__\u001b[1;34m(self, index)\u001b[0m\n\u001b[0;32m    657\u001b[0m     \u001b[38;5;66;03m#\u001b[39;00m\n\u001b[0;32m    658\u001b[0m     \u001b[38;5;66;03m# Call the _getitem_when_not_present helper to retrieve/return\u001b[39;00m\n\u001b[0;32m    659\u001b[0m     \u001b[38;5;66;03m# the default value\u001b[39;00m\n\u001b[0;32m    660\u001b[0m     \u001b[38;5;66;03m#\u001b[39;00m\n\u001b[0;32m    661\u001b[0m     \u001b[38;5;28;01mif\u001b[39;00m obj \u001b[38;5;129;01mis\u001b[39;00m _NotFound:\n\u001b[1;32m--> 662\u001b[0m         \u001b[38;5;28;01mreturn\u001b[39;00m \u001b[38;5;28mself\u001b[39m\u001b[38;5;241m.\u001b[39m_getitem_when_not_present(index)\n\u001b[0;32m    664\u001b[0m \u001b[38;5;28;01mreturn\u001b[39;00m obj\n",
      "File \u001b[1;32mc:\\Users\\beatr\\anaconda3.1\\Lib\\site-packages\\pyomo\\core\\base\\constraint.py:754\u001b[0m, in \u001b[0;36mConstraint._getitem_when_not_present\u001b[1;34m(self, idx)\u001b[0m\n\u001b[0;32m    752\u001b[0m \u001b[38;5;28;01mif\u001b[39;00m \u001b[38;5;28mself\u001b[39m\u001b[38;5;241m.\u001b[39m_rule \u001b[38;5;129;01mis\u001b[39;00m \u001b[38;5;28;01mNone\u001b[39;00m:\n\u001b[0;32m    753\u001b[0m     \u001b[38;5;28;01mraise\u001b[39;00m \u001b[38;5;167;01mKeyError\u001b[39;00m(idx)\n\u001b[1;32m--> 754\u001b[0m con \u001b[38;5;241m=\u001b[39m \u001b[38;5;28mself\u001b[39m\u001b[38;5;241m.\u001b[39m_setitem_when_not_present(idx, \u001b[38;5;28mself\u001b[39m\u001b[38;5;241m.\u001b[39m_rule(\u001b[38;5;28mself\u001b[39m\u001b[38;5;241m.\u001b[39mparent_block(), idx))\n\u001b[0;32m    755\u001b[0m \u001b[38;5;28;01mif\u001b[39;00m con \u001b[38;5;129;01mis\u001b[39;00m \u001b[38;5;28;01mNone\u001b[39;00m:\n\u001b[0;32m    756\u001b[0m     \u001b[38;5;28;01mraise\u001b[39;00m \u001b[38;5;167;01mKeyError\u001b[39;00m(idx)\n",
      "File \u001b[1;32mc:\\Users\\beatr\\anaconda3.1\\Lib\\site-packages\\pyomo\\core\\base\\initializer.py:351\u001b[0m, in \u001b[0;36mIndexedCallInitializer.__call__\u001b[1;34m(self, parent, idx, **kwargs)\u001b[0m\n\u001b[0;32m    349\u001b[0m     \u001b[38;5;28;01mreturn\u001b[39;00m \u001b[38;5;28mself\u001b[39m\u001b[38;5;241m.\u001b[39m_fcn(parent, \u001b[38;5;241m*\u001b[39midx, \u001b[38;5;241m*\u001b[39m\u001b[38;5;241m*\u001b[39mkwargs)\n\u001b[0;32m    350\u001b[0m \u001b[38;5;28;01melse\u001b[39;00m:\n\u001b[1;32m--> 351\u001b[0m     \u001b[38;5;28;01mreturn\u001b[39;00m \u001b[38;5;28mself\u001b[39m\u001b[38;5;241m.\u001b[39m_fcn(parent, idx, \u001b[38;5;241m*\u001b[39m\u001b[38;5;241m*\u001b[39mkwargs)\n",
      "Cell \u001b[1;32mIn[76], line 6\u001b[0m, in \u001b[0;36mpass_course\u001b[1;34m(m, i)\u001b[0m\n\u001b[0;32m      5\u001b[0m \u001b[38;5;28;01mdef\u001b[39;00m \u001b[38;5;21mpass_course\u001b[39m(m, i):\n\u001b[1;32m----> 6\u001b[0m     \u001b[38;5;28;01mreturn\u001b[39;00m \u001b[38;5;28msum\u001b[39m(m\u001b[38;5;241m.\u001b[39mgrades_per_days[i,j] \u001b[38;5;241m*\u001b[39m m\u001b[38;5;241m.\u001b[39mdays_per_course[i,j] \u001b[38;5;28;01mfor\u001b[39;00m j \u001b[38;5;129;01min\u001b[39;00m m\u001b[38;5;241m.\u001b[39mdays) \u001b[38;5;241m>\u001b[39m\u001b[38;5;241m=\u001b[39m \u001b[38;5;241m5\u001b[39m \u001b[38;5;241m-\u001b[39m eps \u001b[38;5;241m+\u001b[39m (M \u001b[38;5;241m+\u001b[39m eps) \u001b[38;5;241m*\u001b[39m m\u001b[38;5;241m.\u001b[39mpass_course[i]\n",
      "File \u001b[1;32mc:\\Users\\beatr\\anaconda3.1\\Lib\\site-packages\\pyomo\\core\\base\\indexed_component.py:662\u001b[0m, in \u001b[0;36mIndexedComponent.__getitem__\u001b[1;34m(self, index)\u001b[0m\n\u001b[0;32m    657\u001b[0m     \u001b[38;5;66;03m#\u001b[39;00m\n\u001b[0;32m    658\u001b[0m     \u001b[38;5;66;03m# Call the _getitem_when_not_present helper to retrieve/return\u001b[39;00m\n\u001b[0;32m    659\u001b[0m     \u001b[38;5;66;03m# the default value\u001b[39;00m\n\u001b[0;32m    660\u001b[0m     \u001b[38;5;66;03m#\u001b[39;00m\n\u001b[0;32m    661\u001b[0m     \u001b[38;5;28;01mif\u001b[39;00m obj \u001b[38;5;129;01mis\u001b[39;00m _NotFound:\n\u001b[1;32m--> 662\u001b[0m         \u001b[38;5;28;01mreturn\u001b[39;00m \u001b[38;5;28mself\u001b[39m\u001b[38;5;241m.\u001b[39m_getitem_when_not_present(index)\n\u001b[0;32m    664\u001b[0m \u001b[38;5;28;01mreturn\u001b[39;00m obj\n",
      "File \u001b[1;32mc:\\Users\\beatr\\anaconda3.1\\Lib\\site-packages\\pyomo\\core\\base\\constraint.py:754\u001b[0m, in \u001b[0;36mConstraint._getitem_when_not_present\u001b[1;34m(self, idx)\u001b[0m\n\u001b[0;32m    752\u001b[0m \u001b[38;5;28;01mif\u001b[39;00m \u001b[38;5;28mself\u001b[39m\u001b[38;5;241m.\u001b[39m_rule \u001b[38;5;129;01mis\u001b[39;00m \u001b[38;5;28;01mNone\u001b[39;00m:\n\u001b[0;32m    753\u001b[0m     \u001b[38;5;28;01mraise\u001b[39;00m \u001b[38;5;167;01mKeyError\u001b[39;00m(idx)\n\u001b[1;32m--> 754\u001b[0m con \u001b[38;5;241m=\u001b[39m \u001b[38;5;28mself\u001b[39m\u001b[38;5;241m.\u001b[39m_setitem_when_not_present(idx, \u001b[38;5;28mself\u001b[39m\u001b[38;5;241m.\u001b[39m_rule(\u001b[38;5;28mself\u001b[39m\u001b[38;5;241m.\u001b[39mparent_block(), idx))\n\u001b[0;32m    755\u001b[0m \u001b[38;5;28;01mif\u001b[39;00m con \u001b[38;5;129;01mis\u001b[39;00m \u001b[38;5;28;01mNone\u001b[39;00m:\n\u001b[0;32m    756\u001b[0m     \u001b[38;5;28;01mraise\u001b[39;00m \u001b[38;5;167;01mKeyError\u001b[39;00m(idx)\n",
      "    \u001b[1;31m[... skipping similar frames: IndexedCallInitializer.__call__ at line 351 (591 times), pass_course at line 6 (591 times), IndexedComponent.__getitem__ at line 662 (590 times), Constraint._getitem_when_not_present at line 754 (590 times)]\u001b[0m\n",
      "File \u001b[1;32mc:\\Users\\beatr\\anaconda3.1\\Lib\\site-packages\\pyomo\\core\\base\\indexed_component.py:662\u001b[0m, in \u001b[0;36mIndexedComponent.__getitem__\u001b[1;34m(self, index)\u001b[0m\n\u001b[0;32m    657\u001b[0m     \u001b[38;5;66;03m#\u001b[39;00m\n\u001b[0;32m    658\u001b[0m     \u001b[38;5;66;03m# Call the _getitem_when_not_present helper to retrieve/return\u001b[39;00m\n\u001b[0;32m    659\u001b[0m     \u001b[38;5;66;03m# the default value\u001b[39;00m\n\u001b[0;32m    660\u001b[0m     \u001b[38;5;66;03m#\u001b[39;00m\n\u001b[0;32m    661\u001b[0m     \u001b[38;5;28;01mif\u001b[39;00m obj \u001b[38;5;129;01mis\u001b[39;00m _NotFound:\n\u001b[1;32m--> 662\u001b[0m         \u001b[38;5;28;01mreturn\u001b[39;00m \u001b[38;5;28mself\u001b[39m\u001b[38;5;241m.\u001b[39m_getitem_when_not_present(index)\n\u001b[0;32m    664\u001b[0m \u001b[38;5;28;01mreturn\u001b[39;00m obj\n",
      "File \u001b[1;32mc:\\Users\\beatr\\anaconda3.1\\Lib\\site-packages\\pyomo\\core\\base\\constraint.py:754\u001b[0m, in \u001b[0;36mConstraint._getitem_when_not_present\u001b[1;34m(self, idx)\u001b[0m\n\u001b[0;32m    752\u001b[0m \u001b[38;5;28;01mif\u001b[39;00m \u001b[38;5;28mself\u001b[39m\u001b[38;5;241m.\u001b[39m_rule \u001b[38;5;129;01mis\u001b[39;00m \u001b[38;5;28;01mNone\u001b[39;00m:\n\u001b[0;32m    753\u001b[0m     \u001b[38;5;28;01mraise\u001b[39;00m \u001b[38;5;167;01mKeyError\u001b[39;00m(idx)\n\u001b[1;32m--> 754\u001b[0m con \u001b[38;5;241m=\u001b[39m \u001b[38;5;28mself\u001b[39m\u001b[38;5;241m.\u001b[39m_setitem_when_not_present(idx, \u001b[38;5;28mself\u001b[39m\u001b[38;5;241m.\u001b[39m_rule(\u001b[38;5;28mself\u001b[39m\u001b[38;5;241m.\u001b[39mparent_block(), idx))\n\u001b[0;32m    755\u001b[0m \u001b[38;5;28;01mif\u001b[39;00m con \u001b[38;5;129;01mis\u001b[39;00m \u001b[38;5;28;01mNone\u001b[39;00m:\n\u001b[0;32m    756\u001b[0m     \u001b[38;5;28;01mraise\u001b[39;00m \u001b[38;5;167;01mKeyError\u001b[39;00m(idx)\n",
      "File \u001b[1;32mc:\\Users\\beatr\\anaconda3.1\\Lib\\site-packages\\pyomo\\core\\base\\initializer.py:351\u001b[0m, in \u001b[0;36mIndexedCallInitializer.__call__\u001b[1;34m(self, parent, idx, **kwargs)\u001b[0m\n\u001b[0;32m    349\u001b[0m     \u001b[38;5;28;01mreturn\u001b[39;00m \u001b[38;5;28mself\u001b[39m\u001b[38;5;241m.\u001b[39m_fcn(parent, \u001b[38;5;241m*\u001b[39midx, \u001b[38;5;241m*\u001b[39m\u001b[38;5;241m*\u001b[39mkwargs)\n\u001b[0;32m    350\u001b[0m \u001b[38;5;28;01melse\u001b[39;00m:\n\u001b[1;32m--> 351\u001b[0m     \u001b[38;5;28;01mreturn\u001b[39;00m \u001b[38;5;28mself\u001b[39m\u001b[38;5;241m.\u001b[39m_fcn(parent, idx, \u001b[38;5;241m*\u001b[39m\u001b[38;5;241m*\u001b[39mkwargs)\n",
      "Cell \u001b[1;32mIn[76], line 6\u001b[0m, in \u001b[0;36mpass_course\u001b[1;34m(m, i)\u001b[0m\n\u001b[0;32m      5\u001b[0m \u001b[38;5;28;01mdef\u001b[39;00m \u001b[38;5;21mpass_course\u001b[39m(m, i):\n\u001b[1;32m----> 6\u001b[0m     \u001b[38;5;28;01mreturn\u001b[39;00m \u001b[38;5;28msum\u001b[39m(m\u001b[38;5;241m.\u001b[39mgrades_per_days[i,j] \u001b[38;5;241m*\u001b[39m m\u001b[38;5;241m.\u001b[39mdays_per_course[i,j] \u001b[38;5;28;01mfor\u001b[39;00m j \u001b[38;5;129;01min\u001b[39;00m m\u001b[38;5;241m.\u001b[39mdays) \u001b[38;5;241m>\u001b[39m\u001b[38;5;241m=\u001b[39m \u001b[38;5;241m5\u001b[39m \u001b[38;5;241m-\u001b[39m eps \u001b[38;5;241m+\u001b[39m (M \u001b[38;5;241m+\u001b[39m eps) \u001b[38;5;241m*\u001b[39m m\u001b[38;5;241m.\u001b[39mpass_course[i]\n",
      "Cell \u001b[1;32mIn[76], line 6\u001b[0m, in \u001b[0;36m<genexpr>\u001b[1;34m(.0)\u001b[0m\n\u001b[0;32m      5\u001b[0m \u001b[38;5;28;01mdef\u001b[39;00m \u001b[38;5;21mpass_course\u001b[39m(m, i):\n\u001b[1;32m----> 6\u001b[0m     \u001b[38;5;28;01mreturn\u001b[39;00m \u001b[38;5;28msum\u001b[39m(m\u001b[38;5;241m.\u001b[39mgrades_per_days[i,j] \u001b[38;5;241m*\u001b[39m m\u001b[38;5;241m.\u001b[39mdays_per_course[i,j] \u001b[38;5;28;01mfor\u001b[39;00m j \u001b[38;5;129;01min\u001b[39;00m m\u001b[38;5;241m.\u001b[39mdays) \u001b[38;5;241m>\u001b[39m\u001b[38;5;241m=\u001b[39m \u001b[38;5;241m5\u001b[39m \u001b[38;5;241m-\u001b[39m eps \u001b[38;5;241m+\u001b[39m (M \u001b[38;5;241m+\u001b[39m eps) \u001b[38;5;241m*\u001b[39m m\u001b[38;5;241m.\u001b[39mpass_course[i]\n",
      "File \u001b[1;32mc:\\Users\\beatr\\anaconda3.1\\Lib\\site-packages\\pyomo\\core\\base\\param.py:1034\u001b[0m, in \u001b[0;36mIndexedParam.__getitem__\u001b[1;34m(self, args)\u001b[0m\n\u001b[0;32m   1032\u001b[0m \u001b[38;5;28;01mexcept\u001b[39;00m:\n\u001b[0;32m   1033\u001b[0m     tmp \u001b[38;5;241m=\u001b[39m args \u001b[38;5;28;01mif\u001b[39;00m args\u001b[38;5;241m.\u001b[39m\u001b[38;5;18m__class__\u001b[39m \u001b[38;5;129;01mis\u001b[39;00m \u001b[38;5;28mtuple\u001b[39m \u001b[38;5;28;01melse\u001b[39;00m (args,)\n\u001b[1;32m-> 1034\u001b[0m     \u001b[38;5;28;01mif\u001b[39;00m \u001b[38;5;28many\u001b[39m(\n\u001b[0;32m   1035\u001b[0m         \u001b[38;5;28mhasattr\u001b[39m(arg, \u001b[38;5;124m'\u001b[39m\u001b[38;5;124mis_potentially_variable\u001b[39m\u001b[38;5;124m'\u001b[39m)\n\u001b[0;32m   1036\u001b[0m         \u001b[38;5;129;01mand\u001b[39;00m arg\u001b[38;5;241m.\u001b[39mis_potentially_variable()\n\u001b[0;32m   1037\u001b[0m         \u001b[38;5;28;01mfor\u001b[39;00m arg \u001b[38;5;129;01min\u001b[39;00m tmp\n\u001b[0;32m   1038\u001b[0m     ):\n\u001b[0;32m   1039\u001b[0m         \u001b[38;5;28;01mreturn\u001b[39;00m GetItemExpression((\u001b[38;5;28mself\u001b[39m,) \u001b[38;5;241m+\u001b[39m tmp)\n\u001b[0;32m   1040\u001b[0m     \u001b[38;5;28;01mraise\u001b[39;00m\n",
      "\u001b[1;31mRecursionError\u001b[0m: maximum recursion depth exceeded"
     ]
    }
   ],
   "source": [
    "eps = 1e-6 #a small positive number\n",
    "M = 10 #a big positive number\n",
    "\n",
    "\n",
    "def pass_course(m, i):\n",
    "    return sum(m.grades_per_days[i,j] * m.days_per_course[i,j] for j in m.days) >= 5 - eps + (M + eps) * m.pass_course[i]\n",
    "model.pass_course = pe.Constraint(model.courses, rule=pass_course)"
   ]
  },
  {
   "cell_type": "code",
   "execution_count": null,
   "id": "e1b35f8d",
   "metadata": {},
   "outputs": [],
   "source": []
  },
  {
   "cell_type": "markdown",
   "id": "8cb4ba7a",
   "metadata": {},
   "source": [
    "####"
   ]
  }
 ],
 "metadata": {
  "kernelspec": {
   "display_name": "base",
   "language": "python",
   "name": "python3"
  },
  "language_info": {
   "codemirror_mode": {
    "name": "ipython",
    "version": 3
   },
   "file_extension": ".py",
   "mimetype": "text/x-python",
   "name": "python",
   "nbconvert_exporter": "python",
   "pygments_lexer": "ipython3",
   "version": "3.11.4"
  }
 },
 "nbformat": 4,
 "nbformat_minor": 5
}
