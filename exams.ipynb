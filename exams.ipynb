{
 "cells": [
  {
   "cell_type": "markdown",
   "id": "f4706598",
   "metadata": {},
   "source": [
    "# Exam Problem \n",
    "\n",
    "Cristina Hernández, Beatriz Jimenez, Macarena Vargas, Guillermo Ruiz\n"
   ]
  },
  {
   "cell_type": "code",
   "execution_count": 41,
   "id": "2e63da24",
   "metadata": {},
   "outputs": [],
   "source": [
    "import pyomo.environ as pe\n",
    "import pyomo.opt as po"
   ]
  },
  {
   "cell_type": "markdown",
   "id": "8e23f44d",
   "metadata": {},
   "source": [
    "#### Create the model "
   ]
  },
  {
   "cell_type": "code",
   "execution_count": 42,
   "id": "636874e3",
   "metadata": {},
   "outputs": [],
   "source": [
    "model = pe.ConcreteModel()"
   ]
  },
  {
   "cell_type": "markdown",
   "id": "545fc86a",
   "metadata": {},
   "source": [
    "#### Sets\n",
    "\n",
    "\n",
    "${n}$ : Number of days = {1, 2, 3 , 4}\n",
    "\n",
    "${c}$ : Courses = {A, B, C, D}"
   ]
  },
  {
   "cell_type": "code",
   "execution_count": 43,
   "id": "12be9faf",
   "metadata": {},
   "outputs": [],
   "source": [
    "model.courses = pe.Set(initialize=['A', 'B', 'C', 'D'])\n",
    "model.days = pe.Set(initialize=[1, 2, 3, 4])"
   ]
  },
  {
   "cell_type": "markdown",
   "id": "620924b6",
   "metadata": {},
   "source": [
    "#### Parameters\n",
    "\n",
    "${G_{n, c}}$ : grade in course c per number of days n "
   ]
  },
  {
   "cell_type": "code",
   "execution_count": 44,
   "id": "286af97d",
   "metadata": {},
   "outputs": [],
   "source": [
    "dict_grades_per_days =  {\n",
    "    ('A', 1): 3, \n",
    "    ('A', 2): 5, \n",
    "    ('A', 3): 6, \n",
    "    ('A', 4): 7,\n",
    "\n",
    "    ('B', 1): 4, \n",
    "    ('B', 2): 5, \n",
    "    ('B', 3): 6, \n",
    "    ('B', 4): 9, \n",
    "\n",
    "    ('C', 1): 2, \n",
    "    ('C', 2): 5, \n",
    "    ('C', 3): 7, \n",
    "    ('C', 4): 8, \n",
    "    \n",
    "    ('D', 1): 5, \n",
    "    ('D', 2): 6, \n",
    "    ('D', 3): 7, \n",
    "    ('D', 4): 9}\n",
    "\n",
    "# model.grades_per_days = pe.Param(model.courses, model.days, initialize = dict_grades_per_days)\n",
    "\n",
    "\n",
    "# Parámetro G[n,c]\n",
    "model.grades_per_days = pe.Param(model.courses, model.days,\n",
    "                                 initialize={(c, n): dict_grades_per_days[(c, n)] \n",
    "                                             for c in model.courses for n in model.days})\n",
    "\n",
    "# Parámetro Gmin[c]\n",
    "dict_gmin = {c: min(dict_grades_per_days[(c, n)] for n in model.days) for c in model.courses}\n",
    "model.Gmin = pe.Param(model.courses, initialize=dict_gmin)"
   ]
  },
  {
   "cell_type": "markdown",
   "id": "6c6a4607",
   "metadata": {},
   "source": [
    "${w}$ : days to study"
   ]
  },
  {
   "cell_type": "code",
   "execution_count": 45,
   "id": "c9a8c66b",
   "metadata": {},
   "outputs": [],
   "source": [
    "model.W = pe.Param(initialize=7)\n",
    "model.ord = pe.Param(model.days, initialize={n: n for n in model.days})\n"
   ]
  },
  {
   "cell_type": "markdown",
   "id": "7fe8c65c",
   "metadata": {},
   "source": [
    "#### Variables \n",
    "\n",
    "${x_{n, c}}$:  number of days n to course c {0,1}"
   ]
  },
  {
   "cell_type": "code",
   "execution_count": 46,
   "id": "5d2cca7c",
   "metadata": {},
   "outputs": [],
   "source": [
    "model.days_per_course = pe.Var(model.courses, model.days,  within=pe.Binary)"
   ]
  },
  {
   "cell_type": "markdown",
   "id": "cf50a75e",
   "metadata": {},
   "source": [
    "\n",
    "${y_{c}}$: fail or pass exam {0,1}"
   ]
  },
  {
   "cell_type": "code",
   "execution_count": 47,
   "id": "a6ce3036",
   "metadata": {},
   "outputs": [],
   "source": [
    "model.pass_course = pe.Var(model.courses,within = pe.Binary)"
   ]
  },
  {
   "cell_type": "markdown",
   "id": "4f8d998d",
   "metadata": {},
   "source": [
    "#### Constrains \n",
    "\n",
    "Constraint #1: The student wants to dedicate at least one\n",
    "day to each of the four courses\n",
    "\n",
    "$\\sum_n x_{n, c} = 1 \\quad \\forall c$"
   ]
  },
  {
   "cell_type": "code",
   "execution_count": 48,
   "id": "0e445c7a",
   "metadata": {},
   "outputs": [],
   "source": [
    "def one_day_per_course(model, c):\n",
    "    return sum(model.days_per_course[c, n] for n in model.days) == 1\n",
    "\n",
    "model.one_day_per_course = pe.Constraint(model.courses, rule=one_day_per_course)\n",
    "\n"
   ]
  },
  {
   "cell_type": "markdown",
   "id": "47df0fc1",
   "metadata": {},
   "source": [
    "Constraint #2: The student only has seven days to study\n",
    "\n",
    "$\\sum_{n,c} ord(n) * x_{n,c} \\leq 7$\n"
   ]
  },
  {
   "cell_type": "code",
   "execution_count": 49,
   "id": "9b6b9e0b",
   "metadata": {},
   "outputs": [],
   "source": [
    "def total_days(model):\n",
    "    return sum(model.ord[n] * model.days_per_course[c, n] for c in model.courses for n in model.days) <= model.W\n",
    "\n",
    "model.total_days = pe.Constraint(rule=total_days)"
   ]
  },
  {
   "cell_type": "markdown",
   "id": "234ccf91",
   "metadata": {},
   "source": [
    "Constraint #3: Passing condition for each course\n",
    "\n",
    "For each course 𝑐, we introduce a binary variable $\\ y_c$ that indicates whether the course is passed. \n",
    "\n",
    "If $\\ y_c$ = 1, the grade obtained must be at least 5.\n",
    "\n",
    "If $\\ y_c$ = 0, the constraint is inactive (it only requires the minimum grade possible, which is always satisfied)"
   ]
  },
  {
   "cell_type": "markdown",
   "id": "5e23660e",
   "metadata": {},
   "source": [
    "$\\sum_{n} G_{n,c} \\cdot x_{c,n} \\;\\;\\ge\\;\\; G^{min}_c + (5 - G^{min}_c) \\cdot y_c \\quad \\forall c$\n"
   ]
  },
  {
   "cell_type": "code",
   "execution_count": 50,
   "id": "d300104b",
   "metadata": {},
   "outputs": [],
   "source": [
    "# Variable binaria: y_c = 1 si el curso c está aprobado\n",
    "model.pass_exam = pe.Var(model.courses, domain=pe.Binary)\n",
    "\n",
    "# Restricción: condición de aprobado\n",
    "def pass_condition_rule(model, c):\n",
    "    return sum(model.grades_per_days[c, n] * model.days_per_course[c, n] for n in model.days) \\\n",
    "           >= model.Gmin[c] + (5 - model.Gmin[c]) * model.pass_exam[c]\n",
    "\n",
    "model.pass_condition = pe.Constraint(model.courses, rule=pass_condition_rule)"
   ]
  },
  {
   "cell_type": "markdown",
   "id": "ca91580c",
   "metadata": {},
   "source": [
    "#### Solving the problem  \n",
    "\n",
    "##### a) Optimal studying schedule to pass the maximum number of exams\n",
    "\n",
    "##### Objetive function --> Maximize passed exams: max $\\sum_c y_{c}$"
   ]
  },
  {
   "cell_type": "code",
   "execution_count": 51,
   "id": "df427659",
   "metadata": {},
   "outputs": [],
   "source": [
    "def obj_passed_exams(model):\n",
    "    return sum(model.pass_exam[c] for c in model.courses)\n",
    "\n",
    "model.obj_passed = pe.Objective(rule=obj_passed_exams, sense=pe.maximize)"
   ]
  },
  {
   "cell_type": "code",
   "execution_count": 52,
   "id": "30a68c8d",
   "metadata": {},
   "outputs": [],
   "source": [
    "# Activamos la función objetivo del apartdo a\n",
    "model.obj_passed.activate()"
   ]
  },
  {
   "cell_type": "code",
   "execution_count": 53,
   "id": "275cecca",
   "metadata": {},
   "outputs": [
    {
     "name": "stdout",
     "output_type": "stream",
     "text": [
      "Set parameter Username\n",
      "Set parameter LicenseID to value 2707272\n",
      "Academic license - for non-commercial use only - expires 2026-09-11\n",
      "Read LP format model from file C:\\Users\\crist\\AppData\\Local\\Temp\\tmp3bfqw31r.pyomo.lp\n",
      "Reading time = 0.00 seconds\n",
      "x1: 9 rows, 20 columns, 51 nonzeros\n",
      "Gurobi Optimizer version 12.0.3 build v12.0.3rc0 (win64 - Windows 11.0 (26100.2))\n",
      "\n",
      "CPU model: 13th Gen Intel(R) Core(TM) i7-1355U, instruction set [SSE2|AVX|AVX2]\n",
      "Thread count: 10 physical cores, 12 logical processors, using up to 12 threads\n",
      "\n",
      "Optimize a model with 9 rows, 20 columns and 51 nonzeros\n",
      "Model fingerprint: 0xbfcff691\n",
      "Variable types: 0 continuous, 20 integer (20 binary)\n",
      "Coefficient statistics:\n",
      "  Matrix range     [1e+00, 9e+00]\n",
      "  Objective range  [1e+00, 1e+00]\n",
      "  Bounds range     [1e+00, 1e+00]\n",
      "  RHS range        [1e+00, 7e+00]\n",
      "Found heuristic solution: objective 2.0000000\n",
      "Presolve removed 9 rows and 20 columns\n",
      "Presolve time: 0.00s\n",
      "Presolve: All rows and columns removed\n",
      "\n",
      "Explored 0 nodes (0 simplex iterations) in 0.00 seconds (0.00 work units)\n",
      "Thread count was 1 (of 12 available processors)\n",
      "\n",
      "Solution count 2: 4 2 \n",
      "\n",
      "Optimal solution found (tolerance 1.00e-04)\n",
      "Best objective 4.000000000000e+00, best bound 4.000000000000e+00, gap 0.0000%\n",
      "Status: ok\n",
      "Termination: optimal\n"
     ]
    }
   ],
   "source": [
    "solver = pe.SolverFactory('gurobi')\n",
    "result = solver.solve(model, tee=True)\n",
    "\n",
    "print(\"Status:\", result.solver.status)\n",
    "print(\"Termination:\", result.solver.termination_condition)"
   ]
  },
  {
   "cell_type": "code",
   "execution_count": 54,
   "id": "12bebcc5",
   "metadata": {},
   "outputs": [
    {
     "name": "stdout",
     "output_type": "stream",
     "text": [
      "\n",
      "--- Optimal studying schedule (maximize passed exams) ---\n",
      "Course A: 2 days  |  grade = 5.0  |  passed = 1\n",
      "Course B: 2 days  |  grade = 5.0  |  passed = 1\n",
      "Course C: 2 days  |  grade = 5.0  |  passed = 1\n",
      "Course D: 1 days  |  grade = 5.0  |  passed = 1\n",
      "\n",
      "Total passed exams: 4 / 4\n"
     ]
    }
   ],
   "source": [
    "print(\"\\n--- Optimal studying schedule (maximize passed exams) ---\")\n",
    "\n",
    "# Días, nota y aprobado por curso\n",
    "for c in model.courses:\n",
    "    for n in model.days:\n",
    "        if pe.value(model.days_per_course[c, n]) > 0.5:   # variable binaria activa\n",
    "            grade = pe.value(model.grades_per_days[c, n])\n",
    "            passed = int(round(pe.value(model.pass_exam[c])))\n",
    "            print(f\"Course {c}: {n} days  |  grade = {grade:.1f}  |  passed = {passed}\")\n",
    "\n",
    "# Total de aprobados\n",
    "num_passed = sum(int(round(pe.value(model.pass_exam[c]))) for c in model.courses)\n",
    "print(f\"\\nTotal passed exams: {num_passed} / {len(model.courses)}\")\n"
   ]
  },
  {
   "cell_type": "code",
   "execution_count": 55,
   "id": "05373482",
   "metadata": {},
   "outputs": [],
   "source": [
    "# Desactivamos la función objetivo del apartado a\n",
    "model.obj_passed.deactivate()"
   ]
  },
  {
   "cell_type": "markdown",
   "id": "4225a2c7",
   "metadata": {},
   "source": [
    "##### b) Optimal studying schedule to maximize the average grade in all exams\n",
    "\n",
    "##### Objetive function --> Maximize average grade in all exams: max $\\sum_{n,c} \\frac{G_{n,c} * X_{n,c}}{4}$"
   ]
  },
  {
   "cell_type": "code",
   "execution_count": 56,
   "id": "30d037df",
   "metadata": {},
   "outputs": [],
   "source": [
    "def obj_average_grade(model):\n",
    "    return (1/len(model.courses)) * sum(\n",
    "        model.grades_per_days[c, n] * model.days_per_course[c, n]\n",
    "        for c in model.courses for n in model.days\n",
    "    )\n",
    "\n",
    "model.obj_average = pe.Objective(rule=obj_average_grade, sense=pe.maximize)"
   ]
  },
  {
   "cell_type": "code",
   "execution_count": 57,
   "id": "096d32de",
   "metadata": {},
   "outputs": [
    {
     "name": "stdout",
     "output_type": "stream",
     "text": [
      "Set parameter Username\n",
      "Set parameter LicenseID to value 2707272\n",
      "Academic license - for non-commercial use only - expires 2026-09-11\n",
      "Read LP format model from file C:\\Users\\crist\\AppData\\Local\\Temp\\tmpr99g6nb4.pyomo.lp\n",
      "Reading time = 0.00 seconds\n",
      "x1: 9 rows, 19 columns, 51 nonzeros\n",
      "Gurobi Optimizer version 12.0.3 build v12.0.3rc0 (win64 - Windows 11.0 (26100.2))\n",
      "\n",
      "CPU model: 13th Gen Intel(R) Core(TM) i7-1355U, instruction set [SSE2|AVX|AVX2]\n",
      "Thread count: 10 physical cores, 12 logical processors, using up to 12 threads\n",
      "\n",
      "Optimize a model with 9 rows, 19 columns and 51 nonzeros\n",
      "Model fingerprint: 0xa8581318\n",
      "Variable types: 0 continuous, 19 integer (19 binary)\n",
      "Coefficient statistics:\n",
      "  Matrix range     [1e+00, 9e+00]\n",
      "  Objective range  [5e-01, 2e+00]\n",
      "  Bounds range     [1e+00, 1e+00]\n",
      "  RHS range        [1e+00, 7e+00]\n",
      "Found heuristic solution: objective 4.5000000\n",
      "Presolve removed 4 rows and 3 columns\n",
      "Presolve time: 0.00s\n",
      "Presolved: 5 rows, 16 columns, 28 nonzeros\n",
      "Variable types: 0 continuous, 16 integer (16 binary)\n",
      "\n",
      "Root relaxation: objective 5.250000e+00, 5 iterations, 0.00 seconds (0.00 work units)\n",
      "\n",
      "    Nodes    |    Current Node    |     Objective Bounds      |     Work\n",
      " Expl Unexpl |  Obj  Depth IntInf | Incumbent    BestBd   Gap | It/Node Time\n",
      "\n",
      "*    0     0               0       5.2500000    5.25000  0.00%     -    0s\n",
      "\n",
      "Explored 1 nodes (5 simplex iterations) in 0.00 seconds (0.00 work units)\n",
      "Thread count was 12 (of 12 available processors)\n",
      "\n",
      "Solution count 2: 5.25 4.5 \n",
      "\n",
      "Optimal solution found (tolerance 1.00e-04)\n",
      "Best objective 5.250000000000e+00, best bound 5.250000000000e+00, gap 0.0000%\n",
      "Status: ok\n",
      "Termination: optimal\n"
     ]
    }
   ],
   "source": [
    "solver = pe.SolverFactory('gurobi')\n",
    "result = solver.solve(model, tee=True)\n",
    "\n",
    "print(\"Status:\", result.solver.status)\n",
    "print(\"Termination:\", result.solver.termination_condition)"
   ]
  },
  {
   "cell_type": "code",
   "execution_count": 58,
   "id": "cfe32636",
   "metadata": {},
   "outputs": [
    {
     "name": "stdout",
     "output_type": "stream",
     "text": [
      "\n",
      "--- Optimal studying schedule (maximize average grade) ---\n",
      "Course A: 2 days  |  grade = 5\n",
      "Course B: 1 days  |  grade = 4\n",
      "Course C: 3 days  |  grade = 7\n",
      "Course D: 1 days  |  grade = 5\n",
      "\n",
      "Average grade: 5.25\n"
     ]
    }
   ],
   "source": [
    "# Días asignados y notas por curso\n",
    "print(\"\\n--- Optimal studying schedule (maximize average grade) ---\")\n",
    "for c in model.courses:\n",
    "    for n in model.days:\n",
    "        if pe.value(model.days_per_course[c, n]) > 0.5:   # variable binaria activa\n",
    "            grade = pe.value(model.grades_per_days[c, n])\n",
    "            print(f\"Course {c}: {n} days  |  grade = {grade}\")\n",
    "\n",
    "# Nota media\n",
    "average_grade = sum(\n",
    "    pe.value(model.grades_per_days[c, n]) * pe.value(model.days_per_course[c, n])\n",
    "    for c in model.courses for n in model.days\n",
    ") / len(model.courses)\n",
    "\n",
    "print(f\"\\nAverage grade: {average_grade:.2f}\")"
   ]
  }
 ],
 "metadata": {
  "kernelspec": {
   "display_name": "icai",
   "language": "python",
   "name": "python3"
  },
  "language_info": {
   "codemirror_mode": {
    "name": "ipython",
    "version": 3
   },
   "file_extension": ".py",
   "mimetype": "text/x-python",
   "name": "python",
   "nbconvert_exporter": "python",
   "pygments_lexer": "ipython3",
   "version": "3.12.7"
  }
 },
 "nbformat": 4,
 "nbformat_minor": 5
}
