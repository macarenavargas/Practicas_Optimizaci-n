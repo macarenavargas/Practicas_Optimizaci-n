{
 "cells": [
  {
   "cell_type": "code",
   "execution_count": 25,
   "id": "4157ba06",
   "metadata": {},
   "outputs": [],
   "source": [
    "import pyomo.environ as pe\n",
    "import pyomo.opt as po"
   ]
  },
  {
   "cell_type": "markdown",
   "id": "060fad35",
   "metadata": {},
   "source": [
    "### Problema Data base\n",
    "\n",
    "Cristina Hernández, Macarena Vargas, Guillermo Ruiz, Beatriz Jiménez. 3ºIMAT B "
   ]
  },
  {
   "cell_type": "code",
   "execution_count": 26,
   "id": "37bebd10",
   "metadata": {},
   "outputs": [],
   "source": [
    "model = pe.ConcreteModel()"
   ]
  },
  {
   "cell_type": "markdown",
   "id": "1147baf1",
   "metadata": {},
   "source": [
    "#### SETS\n",
    "$f$: files {A,B,C,D,E,F,G}\n",
    "\n",
    "$t$: folder {F1,F2,F3}\n",
    "\n",
    "$s$: search {S1,S2,S3,S4}\n"
   ]
  },
  {
   "cell_type": "code",
   "execution_count": 27,
   "id": "20cd3d20",
   "metadata": {},
   "outputs": [],
   "source": [
    "files = ['A','B','C','D','E','F','G']\n",
    "folders = ['F1','F2','F3']\n",
    "searches = ['S1','S2','S3','S4']\n",
    "\n",
    "search_files = {\n",
    "    'S1': ['A','D'],        \n",
    "    'S2': ['C','E','F'],    \n",
    "    'S3': ['B','D','G'],    \n",
    "    'S4': ['A','B','G'],   \n",
    "}\n",
    "\n",
    "model.f = pe.Set(initialize=files, ordered=True)     \n",
    "model.t = pe.Set(initialize=folders, ordered=True)      \n",
    "model.s = pe.Set(initialize=searches, ordered=True)    \n"
   ]
  },
  {
   "cell_type": "markdown",
   "id": "53a0364d",
   "metadata": {},
   "source": [
    "$P_s$: probability of search s [%]\n",
    "\n",
    "$N_s$: number of files in search s\n",
    "\n",
    "$T$: (unknown) time of one folder search [s]\n",
    "\n",
    "$e_fs$: existing file f in search s (binary)"
   ]
  },
  {
   "cell_type": "code",
   "execution_count": 28,
   "id": "cf25d6c5",
   "metadata": {},
   "outputs": [],
   "source": [
    "P_dict = {'S1': 35, 'S2': 25, 'S3': 20, 'S4': 20}\n",
    "\n",
    "N_dict = {s: len(search_files[s]) for s in searches}\n",
    "\n",
    "# iniciamos e_f_s como 1 si el archivo f existe en la busqueda s y 0 en el caso contrario \n",
    "e_dict = {(f, s): 0 for f in files for s in searches}\n",
    "for s in searches:\n",
    "    for f in search_files[s]:\n",
    "        e_dict[(f, s)] = 1\n",
    "\n",
    "# incializamos el tiempo de busqueda en 1 por ejemplo (da igual)\n",
    "T_value = 1.0\n",
    "\n",
    "model.P = pe.Param(model.s, initialize=P_dict)                  \n",
    "model.N = pe.Param(model.s, initialize=N_dict)                    \n",
    "model.e = pe.Param(model.f, model.s, initialize=e_dict, default=0, within=pe.Binary) \n",
    "model.T = pe.Param(initialize=T_value)       "
   ]
  },
  {
   "cell_type": "markdown",
   "id": "02ed8296",
   "metadata": {},
   "source": [
    "#### Variables\n",
    "$x_ft$: distribution of file f to folder t {0,1}\n",
    "\n",
    "$y_ts$: consult folder t for search s {0,1}\n",
    "\n",
    "$u_s$: # of folders used in search s {1,2,3}"
   ]
  },
  {
   "cell_type": "code",
   "execution_count": 29,
   "id": "a6f9368d",
   "metadata": {},
   "outputs": [],
   "source": [
    "model.x = pe.Var(model.f, model.t, within=pe.Binary)\n",
    "model.y = pe.Var(model.t, model.s, within=pe.Binary)\n",
    "model.u = pe.Var(model.s, within=pe.NonNegativeIntegers, bounds=(1, 3))"
   ]
  },
  {
   "cell_type": "markdown",
   "id": "72d83f69",
   "metadata": {},
   "source": [
    "#### Objective Function\n",
    "min $\\sum_{s}(P_{s} * T * (0.75+0.25*u_s) )$"
   ]
  },
  {
   "cell_type": "code",
   "execution_count": 30,
   "id": "acf58674",
   "metadata": {},
   "outputs": [],
   "source": [
    "def expected_time(m):\n",
    "    return sum(m.P[s] * m.T * (0.75 + 0.25*m.u[s]) for s in m.s)\n",
    "\n",
    "model.Obj = pe.Objective(rule=expected_time, sense=pe.minimize)"
   ]
  },
  {
   "cell_type": "markdown",
   "id": "725676d7",
   "metadata": {},
   "source": [
    "#### Constrains"
   ]
  },
  {
   "cell_type": "code",
   "execution_count": 31,
   "id": "4969d1d8",
   "metadata": {},
   "outputs": [],
   "source": [
    "# cada archivo exactamente en una carpeta\n",
    "model.un_archivo_por_carpeta = pe.ConstraintList()\n",
    "for f in model.f:\n",
    "    model.un_archivo_por_carpeta.add(sum(model.x[f, t] for t in model.t) == 1)\n",
    "\n",
    "# cada carpeta como mucho 4 archivos\n",
    "model.max_capacidad = pe.ConstraintList()\n",
    "for t in model.t:\n",
    "    model.max_capacidad.add(sum(model.x[f, t] for f in model.f) <= 4)"
   ]
  },
  {
   "cell_type": "code",
   "execution_count": 32,
   "id": "cd0c74ec",
   "metadata": {},
   "outputs": [],
   "source": [
    "# ficheros del folder t usados en s\n",
    "model.ficheros_t_en_s = pe.ConstraintList()\n",
    "for t in model.t:\n",
    "    for s in model.s:\n",
    "        #numero de ficheros de s en t\n",
    "        num_ficheros_s_en_t = sum(model.e[f, s] * model.x[f, t] for f in model.f)\n",
    "        \n",
    "        model.ficheros_t_en_s.add(num_ficheros_s_en_t <= model.N[s] * model.y[t, s])\n",
    "\n",
    "# numero de carpetas usadas por la búsqueda s\n",
    "model.num_carpetas_busqueda = pe.ConstraintList()\n",
    "for s in model.s:\n",
    "    model.num_carpetas_busqueda.add(sum(model.y[t, s] for t in model.t) <= model.u[s])"
   ]
  },
  {
   "cell_type": "code",
   "execution_count": 33,
   "id": "51881310",
   "metadata": {},
   "outputs": [],
   "source": [
    "\n",
    "# la carpeta que contiene A no puede contener F\n",
    "model.no_A_F = pe.ConstraintList()\n",
    "for t in model.t:\n",
    "    model.no_A_F.add(model.x['A', t] + model.x['F', t] <= 1)\n",
    "\n",
    "    \n",
    "# si una carpeta contiene A y B, entonces debe contener D y E\n",
    "# añadimos la variable delta que solo usamos para esta constrain\n",
    "model.delta = pe.Var(model.t, within=pe.Binary)\n",
    "model.si_AB_entonces_DE = pe.ConstraintList()\n",
    "for t in model.t:\n",
    "    model.si_AB_entonces_DE.add(model.x['A', t] + model.x['B', t] <= 1 + model.delta[t])\n",
    "    model.si_AB_entonces_DE.add(model.x['D', t] + model.x['E', t] >= 2 * model.delta[t])"
   ]
  },
  {
   "cell_type": "markdown",
   "id": "4c991fab",
   "metadata": {},
   "source": [
    "Resolvemos el problema "
   ]
  },
  {
   "cell_type": "code",
   "execution_count": 34,
   "id": "b52eaa80",
   "metadata": {},
   "outputs": [
    {
     "name": "stdout",
     "output_type": "stream",
     "text": [
      "estado: ok\n",
      "Condición de terminacion: optimal\n"
     ]
    }
   ],
   "source": [
    "solver = po.SolverFactory('gurobi')\n",
    "resultado = solver.solve(model)\n",
    "\n",
    "print (\"estado:\", resultado.solver.status)\n",
    "print (\"Condición de terminacion:\", resultado.solver.termination_condition)"
   ]
  },
  {
   "cell_type": "code",
   "execution_count": 35,
   "id": "b8dfc802",
   "metadata": {},
   "outputs": [
    {
     "name": "stdout",
     "output_type": "stream",
     "text": [
      "archivos por carpeta\n",
      "F1: ['A', 'D', 'G']\n",
      "F2: ['B', 'C', 'E', 'F']\n",
      "F3: []\n",
      "carpetas por busqueda\n",
      "  S1: ['F1']   (u=1)\n",
      "  S2: ['F2']   (u=1)\n",
      "  S3: ['F1', 'F2']   (u=2)\n",
      "  S4: ['F1', 'F2']   (u=2)\n",
      "tiempo esperado: 110.0\n"
     ]
    }
   ],
   "source": [
    "print(\"archivos por carpeta\")\n",
    "for t in model.t:\n",
    "    asignados = [f for f in model.f if pe.value(model.x[f, t]) > 0.5]\n",
    "    print(f\"{t}: {asignados}\")\n",
    "\n",
    "print(\"carpetas por busqueda\")\n",
    "for s in model.s:\n",
    "    used = [t for t in model.t if pe.value(model.y[t, s]) > 0.5]\n",
    "    print(f\"  {s}: {used}   (u={int(round(pe.value(model.u[s])))})\")\n",
    "\n",
    "print(\"tiempo esperado:\", pe.value(model.Obj))"
   ]
  },
  {
   "cell_type": "code",
   "execution_count": null,
   "id": "aafab608",
   "metadata": {},
   "outputs": [],
   "source": []
  }
 ],
 "metadata": {
  "kernelspec": {
   "display_name": "base",
   "language": "python",
   "name": "python3"
  },
  "language_info": {
   "codemirror_mode": {
    "name": "ipython",
    "version": 3
   },
   "file_extension": ".py",
   "mimetype": "text/x-python",
   "name": "python",
   "nbconvert_exporter": "python",
   "pygments_lexer": "ipython3",
   "version": "3.11.4"
  }
 },
 "nbformat": 4,
 "nbformat_minor": 5
}
