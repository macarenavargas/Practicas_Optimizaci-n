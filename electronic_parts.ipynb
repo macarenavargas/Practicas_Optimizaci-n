{
 "cells": [
  {
   "cell_type": "markdown",
   "id": "2f847811",
   "metadata": {},
   "source": [
    "# Electronic Parts Problem\n",
    "\n",
    "Cristina Hernández, Beatriz Jimenez, Macarena Vargas, Guillermo Ruiz"
   ]
  },
  {
   "cell_type": "code",
   "execution_count": 29,
   "id": "6b0550b7",
   "metadata": {},
   "outputs": [],
   "source": [
    "import pyomo.environ as pe\n",
    "import pyomo.opt as po\n",
    "from pyomo.environ import NonNegativeReals, Binary"
   ]
  },
  {
   "cell_type": "markdown",
   "id": "af0d478c",
   "metadata": {},
   "source": [
    "#### Create the model "
   ]
  },
  {
   "cell_type": "code",
   "execution_count": 30,
   "id": "b47bea27",
   "metadata": {},
   "outputs": [],
   "source": [
    "model = pe.ConcreteModel()"
   ]
  },
  {
   "cell_type": "markdown",
   "id": "747f0eb4",
   "metadata": {},
   "source": [
    "#### Sets\n",
    "\n",
    "\n",
    "$e$: electronic parts {A,B,C}\n",
    "\n",
    "$l$: production lines {L1,L2,L3}\n",
    "\n",
    "$r$: robots {R1,R2}\n",
    "\n",
    "$a$: attribute {profit, production}"
   ]
  },
  {
   "cell_type": "code",
   "execution_count": 31,
   "id": "b0182350",
   "metadata": {},
   "outputs": [],
   "source": [
    "model.e = pe.Set(initialize=['A', 'B', 'C'])                  \n",
    "model.l = pe.Set(initialize=['L1', 'L2', 'L3'])               \n",
    "model.r = pe.Set(initialize=['R1', 'R2'])                     \n",
    "model.a = pe.Set(initialize=['profit', 'production'])"
   ]
  },
  {
   "cell_type": "markdown",
   "id": "c9747273",
   "metadata": {},
   "source": [
    "#### Parameters\n",
    " $Q_e$: production capacity of any line for part e [units/week]\n",
    "\n",
    " $P_e$: unitary profit of part e [€/unit]\n",
    "\n",
    " $AQ_r$: increased capacity for line if robot r is used [units/week]\n",
    "\n",
    " $C_r$: cost of robot r [€/week]\n",
    "\n",
    " $Wa$: weight for attribute a (can be set to 1 for both if you want equal importance)\n",
    "\n",
    " $GOAL_a$:  goal for each attribute (12000€/week for profit, 1650 units/week for production)\n"
   ]
  },
  {
   "cell_type": "code",
   "execution_count": 32,
   "id": "156e0563",
   "metadata": {},
   "outputs": [],
   "source": [
    "model.Q = pe.Param(model.e, initialize={'A': 200, 'B': 300, 'C': 400})\n",
    "\n",
    "model.P = pe.Param(model.e, initialize={'A': 15, 'B': 12, 'C': 10})\n",
    "\n",
    "\n",
    "model.AQ = pe.Param(model.r, initialize={'R1': 100, 'R2': 150})\n",
    "\n",
    "\n",
    "model.C = pe.Param(model.r, initialize={'R1': 1000, 'R2': 1400})\n",
    "\n",
    "\n",
    "model.W = pe.Param(model.a, initialize={'profit': 1, 'production': 1})\n",
    "\n",
    "model.GOAL = pe.Param(model.a, initialize={'profit': 12000, 'production': 1650})"
   ]
  },
  {
   "cell_type": "markdown",
   "id": "9457e285",
   "metadata": {},
   "source": [
    "#### Variables\n",
    "$x_{e,l}$: produced units of part e in line l [units/week]\n",
    "\n",
    "$z_{e,l}$: assignment of part e to line l (binary, 1 if assigned, 0 otherwise)\n",
    "\n",
    "$u_{r,l}$: hire of robot r to line l (binary, 1 if robot r is installed in line l)\n",
    "\n",
    "$p_a$: positive deviation from attribute a (profit, production)\n",
    "\n",
    "$n_a$: negative deviation from attribute a (profit, production)\n"
   ]
  },
  {
   "cell_type": "code",
   "execution_count": 33,
   "id": "5eb4e546",
   "metadata": {},
   "outputs": [],
   "source": [
    "model.x = pe.Var(model.e, model.l, domain=NonNegativeReals)\n",
    "\n",
    "\n",
    "model.z = pe.Var(model.e, model.l, domain=Binary)\n",
    "\n",
    "model.u = pe.Var(model.r, model.l, domain=Binary)\n",
    "\n",
    "model.p = pe.Var(model.a, domain=NonNegativeReals)\n",
    "\n",
    "model.n = pe.Var(model.a, domain=NonNegativeReals)"
   ]
  },
  {
   "cell_type": "markdown",
   "id": "79a0105b",
   "metadata": {},
   "source": [
    "#### Objective Function\n",
    "\n",
    "$\\min \\sum_{a} W_{a} \\cdot n_{a}$"
   ]
  },
  {
   "cell_type": "code",
   "execution_count": 34,
   "id": "79ca4c60",
   "metadata": {},
   "outputs": [],
   "source": [
    "\n",
    "def objective_rule(model):\n",
    "    return sum(model.W[a] * model.n[a] for a in model.a)\n",
    "\n",
    "model.obj = pe.Objective(rule=objective_rule, sense=pe.minimize)"
   ]
  },
  {
   "cell_type": "markdown",
   "id": "92a2f610",
   "metadata": {},
   "source": [
    "#### Constraints"
   ]
  },
  {
   "cell_type": "markdown",
   "id": "d3c90764",
   "metadata": {},
   "source": [
    "Goal for profits [€/week]\n",
    "\n",
    "$\\sum_{e,l} P_e x_{e,l} - \\sum_{r,l} C_r u_{r,l} + n_{\\text{profit}} - p_{\\text{profit}} = GOAL_{\\text{profit}}$\n"
   ]
  },
  {
   "cell_type": "code",
   "execution_count": 35,
   "id": "e75c7ab4",
   "metadata": {},
   "outputs": [],
   "source": [
    "\n",
    "def profit_goal_rule(model):\n",
    "    return sum(model.P[e] * model.x[e, l] for e in model.e for l in model.l) \\\n",
    "           - sum(model.C[r] * model.u[r, l] for r in model.r for l in model.l) \\\n",
    "           + model.n['profit'] - model.p['profit'] == model.GOAL['profit']\n",
    "\n",
    "model.profit_goal = pe.Constraint(rule=profit_goal_rule)"
   ]
  },
  {
   "cell_type": "markdown",
   "id": "ed97c703",
   "metadata": {},
   "source": [
    "Goal for production [units]\n",
    "\n",
    "$\\sum_{e,l} x_{e,l} + n_{\\text{production}} - p_{\\text{production}} = GOAL_{\\text{production}}$\n"
   ]
  },
  {
   "cell_type": "code",
   "execution_count": 36,
   "id": "bedfc815",
   "metadata": {},
   "outputs": [],
   "source": [
    "\n",
    "def prod_goal_rule(model):\n",
    "    return sum(model.x[e, l] for e in model.e for l in model.l) \\\n",
    "           + model.n['production'] - model.p['production'] == model.GOAL['production']\n",
    "\n",
    "model.prod_goal = pe.Constraint(rule=prod_goal_rule)"
   ]
  },
  {
   "cell_type": "markdown",
   "id": "8a899f4d",
   "metadata": {},
   "source": [
    "Assignment of part e to production line l\n",
    "\n",
    "$x_{e,l} \\leq M \\cdot z_{e,l} \\qquad \\forall\\, e,\\, l$\n"
   ]
  },
  {
   "cell_type": "code",
   "execution_count": 37,
   "id": "d6024276",
   "metadata": {},
   "outputs": [],
   "source": [
    "M = max(model.Q[e] for e in model.e) + max(model.AQ[r] for r in model.r)\n",
    "\n",
    "def assign_rule(model, e, l):\n",
    "    return model.x[e, l] <= M * model.z[e, l]\n",
    "model.assign = pe.Constraint(model.e, model.l, rule=assign_rule)"
   ]
  },
  {
   "cell_type": "markdown",
   "id": "ccf75560",
   "metadata": {},
   "source": [
    "Maximum production capacity of part e in production line l\n",
    "\n",
    "$x_{e,l} \\leq Q_e z_{e,l} + \\sum_{r} AQ_r u_{r,l} \\qquad \\forall\\, e,\\, l$"
   ]
  },
  {
   "cell_type": "code",
   "execution_count": 38,
   "id": "ed8be884",
   "metadata": {},
   "outputs": [],
   "source": [
    "def capacity_rule(model, e, l):\n",
    "    return model.x[e, l] <= model.Q[e] * model.z[e, l] + sum(model.AQ[r] * model.u[r, l] for r in model.r)\n",
    "model.capacity = pe.Constraint(model.e, model.l, rule=capacity_rule)"
   ]
  },
  {
   "cell_type": "markdown",
   "id": "cd793efc",
   "metadata": {},
   "source": [
    "One product  per line\n",
    "\n",
    "$\\sum_{e} z_{e,l} = 1 \\qquad \\forall\\, l$"
   ]
  },
  {
   "cell_type": "code",
   "execution_count": 39,
   "id": "bf7eb909",
   "metadata": {},
   "outputs": [],
   "source": [
    "def one_product_per_line_rule(model, l):\n",
    "    return sum(model.z[e, l] for e in model.e) == 1\n",
    "model.one_product_per_line = pe.Constraint(model.l, rule=one_product_per_line_rule)"
   ]
  },
  {
   "cell_type": "markdown",
   "id": "0be97a81",
   "metadata": {},
   "source": [
    "One robot per line\n",
    "\n",
    "$\\sum_{r} u_{r,l} \\leq 1 \\qquad \\forall\\, l$"
   ]
  },
  {
   "cell_type": "code",
   "execution_count": 40,
   "id": "dbe3e336",
   "metadata": {},
   "outputs": [],
   "source": [
    "def one_robot_per_line_rule(model, l):\n",
    "    return sum(model.u[r, l] for r in model.r) <= 1\n",
    "model.one_robot_per_line = pe.Constraint(model.l, rule=one_robot_per_line_rule)"
   ]
  },
  {
   "cell_type": "markdown",
   "id": "70817ab8",
   "metadata": {},
   "source": [
    "No puede haber más de 1 robot de cada tipo en todo el sistema\n",
    "\n",
    "$\\sum_{l} u_{r, l} \\leq 1 \\qquad \\forall\\, r$"
   ]
  },
  {
   "cell_type": "code",
   "execution_count": 41,
   "id": "ff5655c9",
   "metadata": {},
   "outputs": [],
   "source": [
    "\n",
    "def robot_limit_rule(model, r):\n",
    "    return sum(model.u[r, l] for l in model.l) <= 1\n",
    "model.robot_limit = pe.Constraint(model.r, rule=robot_limit_rule)"
   ]
  },
  {
   "cell_type": "markdown",
   "id": "85aeb763",
   "metadata": {},
   "source": [
    "#### Solve model"
   ]
  },
  {
   "cell_type": "code",
   "execution_count": 42,
   "id": "cc0693ff",
   "metadata": {},
   "outputs": [
    {
     "name": "stdout",
     "output_type": "stream",
     "text": [
      "Set parameter Username\n",
      "Set parameter LicenseID to value 2703329\n",
      "Academic license - for non-commercial use only - expires 2026-09-04\n",
      "Read LP format model from file C:\\Users\\macar\\AppData\\Local\\Temp\\tmpeqatq1ei.pyomo.lp\n",
      "Reading time = 0.02 seconds\n",
      "x1: 28 rows, 28 columns, 103 nonzeros\n",
      "Gurobi Optimizer version 12.0.3 build v12.0.3rc0 (win64 - Windows 11.0 (26100.2))\n",
      "\n",
      "CPU model: Intel(R) Core(TM) i5-10210U CPU @ 1.60GHz, instruction set [SSE2|AVX|AVX2]\n",
      "Thread count: 4 physical cores, 8 logical processors, using up to 8 threads\n",
      "\n",
      "Optimize a model with 28 rows, 28 columns and 103 nonzeros\n",
      "Model fingerprint: 0xf20090e0\n",
      "Variable types: 13 continuous, 15 integer (15 binary)\n",
      "Coefficient statistics:\n",
      "  Matrix range     [1e+00, 1e+03]\n",
      "  Objective range  [1e+00, 1e+00]\n",
      "  Bounds range     [1e+00, 1e+00]\n",
      "  RHS range        [1e+00, 1e+04]\n",
      "Found heuristic solution: objective 13650.000000\n",
      "Presolve removed 0 rows and 2 columns\n",
      "Presolve time: 0.00s\n",
      "Presolved: 28 rows, 26 columns, 101 nonzeros\n",
      "Variable types: 0 continuous, 26 integer (15 binary)\n",
      "\n",
      "Root relaxation: objective 1.333333e+02, 37 iterations, 0.00 seconds (0.00 work units)\n",
      "\n",
      "    Nodes    |    Current Node    |     Objective Bounds      |     Work\n",
      " Expl Unexpl |  Obj  Depth IntInf | Incumbent    BestBd   Gap | It/Node Time\n",
      "\n",
      "     0     0  133.33333    0   14 13650.0000  133.33333  99.0%     -    0s\n",
      "H    0     0                    2600.0000000  133.33333  94.9%     -    0s\n",
      "H    0     0                     600.0000000  133.33333  77.8%     -    0s\n",
      "H    0     0                     200.0000000  133.33333  33.3%     -    0s\n",
      "\n",
      "Cutting planes:\n",
      "  Gomory: 2\n",
      "  MIR: 2\n",
      "  Zero half: 1\n",
      "\n",
      "Explored 1 nodes (41 simplex iterations) in 0.02 seconds (0.00 work units)\n",
      "Thread count was 8 (of 8 available processors)\n",
      "\n",
      "Solution count 4: 200 600 2600 13650 \n",
      "\n",
      "Optimal solution found (tolerance 1.00e-04)\n",
      "Best objective 2.000000000000e+02, best bound 2.000000000000e+02, gap 0.0000%\n",
      "Solver Status: ok\n",
      "Termination Condition: optimal\n"
     ]
    }
   ],
   "source": [
    "solver = pe.SolverFactory('gurobi')\n",
    "results = solver.solve(model, tee=True)\n",
    "\n",
    "# Mostrar estado de la optimización\n",
    "print(\"Solver Status:\", results.solver.status)\n",
    "print(\"Termination Condition:\", results.solver.termination_condition)"
   ]
  },
  {
   "cell_type": "markdown",
   "id": "163dd55f",
   "metadata": {},
   "source": [
    "Qué producto se fabrica en cada línea"
   ]
  },
  {
   "cell_type": "code",
   "execution_count": 43,
   "id": "f052181e",
   "metadata": {},
   "outputs": [
    {
     "name": "stdout",
     "output_type": "stream",
     "text": [
      "Asignación de producto por línea:\n",
      "  Línea L1 fabrica el producto C\n",
      "  Línea L2 fabrica el producto C\n",
      "  Línea L3 fabrica el producto C\n"
     ]
    }
   ],
   "source": [
    "# 1. Qué producto se fabrica en cada línea\n",
    "print(\"Asignación de producto por línea:\")\n",
    "for l in model.l:\n",
    "    for e in model.e:\n",
    "        if pe.value(model.z[e, l]) > 0.5:  # Si está asignado (binaria)\n",
    "            print(f\"  Línea {l} fabrica el producto {e}\")\n"
   ]
  },
  {
   "cell_type": "markdown",
   "id": "09f30680",
   "metadata": {},
   "source": [
    "Qué robot está instalado en cada línea"
   ]
  },
  {
   "cell_type": "code",
   "execution_count": 44,
   "id": "b3ec4e39",
   "metadata": {},
   "outputs": [
    {
     "name": "stdout",
     "output_type": "stream",
     "text": [
      "Robots instalados por línea:\n",
      "  Robot R1 instalado en línea L1\n",
      "  Robot R2 instalado en línea L2\n",
      "  No hay robots instalados en línea L3\n"
     ]
    }
   ],
   "source": [
    "\n",
    "print(\"Robots instalados por línea:\")\n",
    "for l in model.l:\n",
    "    robots_en_linea = [r for r in model.r if pe.value(model.u[r, l]) > 0.5]\n",
    "    if robots_en_linea:\n",
    "        for r in robots_en_linea:\n",
    "            print(f\"  Robot {r} instalado en línea {l}\")\n",
    "    else:\n",
    "        print(f\"  No hay robots instalados en línea {l}\")\n"
   ]
  },
  {
   "cell_type": "markdown",
   "id": "9968806c",
   "metadata": {},
   "source": [
    "Producción por línea y producto"
   ]
  },
  {
   "cell_type": "code",
   "execution_count": 45,
   "id": "1b4f9057",
   "metadata": {},
   "outputs": [
    {
     "name": "stdout",
     "output_type": "stream",
     "text": [
      "Producción por línea y producto:\n",
      "  Línea L1, producto C: 500.00 unidades\n",
      "  Línea L2, producto C: 550.00 unidades\n",
      "  Línea L3, producto C: 400.00 unidades\n"
     ]
    }
   ],
   "source": [
    "\n",
    "print(\"Producción por línea y producto:\")\n",
    "for l in model.l:\n",
    "    for e in model.e:\n",
    "        prod = pe.value(model.x[e, l])\n",
    "        if prod > 1e-3:  # Si se ha producido algo\n",
    "            print(f\"  Línea {l}, producto {e}: {prod:.2f} unidades\")"
   ]
  },
  {
   "cell_type": "markdown",
   "id": "e636daf1",
   "metadata": {},
   "source": [
    "Beneficio total obtenido (restando coste de robots)"
   ]
  },
  {
   "cell_type": "code",
   "execution_count": 46,
   "id": "19b33932",
   "metadata": {},
   "outputs": [
    {
     "name": "stdout",
     "output_type": "stream",
     "text": [
      "Beneficio total bruto: 14500.00 €\n",
      "Coste total de robots: 2400.00 €\n",
      "Beneficio neto: 12100.00 €\n"
     ]
    }
   ],
   "source": [
    "beneficio = sum(pe.value(model.P[e]) * pe.value(model.x[e, l]) for e in model.e for l in model.l)\n",
    "coste_robots = sum(pe.value(model.C[r]) * pe.value(model.u[r, l]) for r in model.r for l in model.l)\n",
    "beneficio_neto = beneficio - coste_robots\n",
    "\n",
    "print(f\"Beneficio total bruto: {beneficio:.2f} €\")\n",
    "print(f\"Coste total de robots: {coste_robots:.2f} €\")\n",
    "print(f\"Beneficio neto: {beneficio_neto:.2f} €\")"
   ]
  },
  {
   "cell_type": "markdown",
   "id": "2040cff0",
   "metadata": {},
   "source": [
    "Total de productos producidos (todas líneas y productos)\n"
   ]
  },
  {
   "cell_type": "code",
   "execution_count": 47,
   "id": "eafcc18f",
   "metadata": {},
   "outputs": [
    {
     "name": "stdout",
     "output_type": "stream",
     "text": [
      "Total de unidades producidas: 1450.00\n"
     ]
    }
   ],
   "source": [
    "total_producido = sum(pe.value(model.x[e, l]) for e in model.e for l in model.l)\n",
    "print(f\"Total de unidades producidas: {total_producido:.2f}\")"
   ]
  }
 ],
 "metadata": {
  "kernelspec": {
   "display_name": "general",
   "language": "python",
   "name": "python3"
  },
  "language_info": {
   "codemirror_mode": {
    "name": "ipython",
    "version": 3
   },
   "file_extension": ".py",
   "mimetype": "text/x-python",
   "name": "python",
   "nbconvert_exporter": "python",
   "pygments_lexer": "ipython3",
   "version": "3.13.2"
  }
 },
 "nbformat": 4,
 "nbformat_minor": 5
}
