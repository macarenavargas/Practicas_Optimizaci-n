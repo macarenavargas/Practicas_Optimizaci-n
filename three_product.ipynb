{
 "cells": [
  {
   "cell_type": "code",
   "execution_count": 58,
   "id": "b3ba017f",
   "metadata": {},
   "outputs": [],
   "source": [
    "#for building the pyomo model\n",
    "import pyomo.environ as pe"
   ]
  },
  {
   "cell_type": "code",
   "execution_count": 59,
   "id": "2f1812e0",
   "metadata": {},
   "outputs": [],
   "source": [
    "#for solving the pyomo model\n",
    "import pyomo.opt as po"
   ]
  },
  {
   "cell_type": "markdown",
   "id": "997e7f9d",
   "metadata": {},
   "source": [
    "#### Three Product Problem \n",
    "\n",
    "Cristina Hernández, Macarena Vargas, Guillermo Ruiz, Beatriz Jiménez. 3ºIMAT B "
   ]
  },
  {
   "cell_type": "markdown",
   "id": "48bd53fa",
   "metadata": {},
   "source": [
    "### Create the model"
   ]
  },
  {
   "cell_type": "code",
   "execution_count": 60,
   "id": "a928e455",
   "metadata": {},
   "outputs": [],
   "source": [
    "model = pe.ConcreteModel()"
   ]
  },
  {
   "cell_type": "markdown",
   "id": "5821d3e1",
   "metadata": {},
   "source": [
    "#### Sets\n",
    "$i$: products {'A', 'B', 'C'}\n",
    "\n",
    "$j$: factories {'F1', 'F2', 'F3', 'F4', 'F5', 'F6'}"
   ]
  },
  {
   "cell_type": "code",
   "execution_count": 61,
   "id": "485ea13e",
   "metadata": {},
   "outputs": [],
   "source": [
    "model.product = pe.Set(initialize=['A', 'B', 'C'])\n",
    "model.factory = pe.Set(initialize=['F1', 'F2', 'F3', 'F4', 'F5', 'F6'])"
   ]
  },
  {
   "cell_type": "markdown",
   "id": "1938bcbb",
   "metadata": {},
   "source": [
    "#### Parameters\n",
    "$C_{ij}$: unitary cost of product $i$ in factory $j$ [€/unit] \n"
   ]
  },
  {
   "cell_type": "code",
   "execution_count": 62,
   "id": "70db8bab",
   "metadata": {},
   "outputs": [],
   "source": [
    "#unitary cost of product in each factory\n",
    "product_costs_dict = {\n",
    "    ('A', 'F1'): 25, ('A', 'F2'): 30, ('A', 'F3'): 26, ('A', 'F4'): 34, ('A', 'F5'): 32, ('A', 'F6'): 30,\n",
    "    ('B', 'F1'): 30, ('B', 'F2'): 32, ('B', 'F3'): 34, ('B', 'F4'): 35, ('B', 'F5'): 38, ('B', 'F6'): 40,\n",
    "    ('C', 'F1'): 40, ('C', 'F2'): 46, ('C', 'F3'): 42, ('C', 'F4'): 37, ('C', 'F5'): 40, ('C', 'F6'): 50\n",
    "}\n",
    "\n",
    "\n",
    "model.product_cost_in_factory = pe.Param (model.product, model.factory, initialize = product_costs_dict)\n",
    "\n"
   ]
  },
  {
   "cell_type": "markdown",
   "id": "963f53b7",
   "metadata": {},
   "source": [
    "$Q_j$: capcaity of factory $j$ [unit] <br>"
   ]
  },
  {
   "cell_type": "code",
   "execution_count": 63,
   "id": "6b164338",
   "metadata": {},
   "outputs": [],
   "source": [
    "\n",
    "#product capacity\n",
    "capacities_dict = {\n",
    "    \"F1\": 550,\n",
    "    \"F2\": 700,\n",
    "    \"F3\": 1100,\n",
    "    \"F4\": 350,\n",
    "    \"F5\": 400,\n",
    "    \"F6\": 450\n",
    "}\n",
    "\n",
    "model.capacity_factory = pe.Param(model.factory, initialize = capacities_dict)\n"
   ]
  },
  {
   "cell_type": "markdown",
   "id": "40fc2522",
   "metadata": {},
   "source": [
    "$SP_i$: selling price of product $i$ [€]"
   ]
  },
  {
   "cell_type": "code",
   "execution_count": 64,
   "id": "f6c82617",
   "metadata": {},
   "outputs": [],
   "source": [
    "product_selling_price_dict = {\n",
    "    'A' : 60,\n",
    "    'B' : 82.5,\n",
    "    'C' : 108\n",
    "}\n",
    "model.product_selling_price = pe.Param(model.product, initialize = product_selling_price_dict)\n"
   ]
  },
  {
   "cell_type": "markdown",
   "id": "5cdcdb4b",
   "metadata": {},
   "source": [
    "$SOLD_i$: contract of product $i$ [unit]\n"
   ]
  },
  {
   "cell_type": "code",
   "execution_count": 65,
   "id": "1134a1fc",
   "metadata": {},
   "outputs": [],
   "source": [
    "sold_products_dict = {\n",
    "    'A' : 700,\n",
    "    'B' : 500,\n",
    "    'C' : 600\n",
    "}\n",
    "model.sold_products = pe.Param(model.product, initialize = sold_products_dict)"
   ]
  },
  {
   "cell_type": "markdown",
   "id": "d06b72ce",
   "metadata": {},
   "source": [
    "#### Variables\n",
    "\n",
    "$q_{ij}$: quantity of product $i$ in factory $j$ [unit]"
   ]
  },
  {
   "cell_type": "code",
   "execution_count": 66,
   "id": "07069a68",
   "metadata": {},
   "outputs": [],
   "source": [
    "model.product_quantity_per_factory = pe.Var(model.product,model.factory, within = pe.NonNegativeReals)"
   ]
  },
  {
   "cell_type": "markdown",
   "id": "e755239e",
   "metadata": {},
   "source": [
    "#### Objective Function\n",
    "\n",
    "max $\\sum_{ij}(SP_i *q_{ij} ) - \\sum_{ij}(C_{ij} *q_{ij} )$"
   ]
  },
  {
   "cell_type": "code",
   "execution_count": 67,
   "id": "fc438808",
   "metadata": {},
   "outputs": [],
   "source": [
    "def obj_rule(model):\n",
    "    return sum(((model.product_selling_price[i] * model.product_quantity_per_factory[i,j]) - (model.product_cost_in_factory[i,j]*model.product_quantity_per_factory[i,j]))\n",
    "                for i in model.product \n",
    "                for j in model.factory )\n",
    "\n",
    "model.cost = pe.Objective(rule = obj_rule, sense = pe.maximize)\n"
   ]
  },
  {
   "cell_type": "markdown",
   "id": "e281a83f",
   "metadata": {},
   "source": [
    "#### Constraints"
   ]
  },
  {
   "cell_type": "markdown",
   "id": "fe34900a",
   "metadata": {},
   "source": [
    "Constraint #1, maximum capacity of factory $j$ [unit] \n",
    "\n",
    "$\\sum_i q_{ij} \\le Q_j \\quad \\forall j$"
   ]
  },
  {
   "cell_type": "code",
   "execution_count": 68,
   "id": "9cedb3c1",
   "metadata": {},
   "outputs": [],
   "source": [
    "model.capacity_constraint = pe.ConstraintList()\n",
    "for j in model.factory:\n",
    "    model.capacity_constraint.add(\n",
    "        sum(model.product_quantity_per_factory[i, j] for i in model.product) <= model.capacity_factory[j]\n",
    "    )"
   ]
  },
  {
   "cell_type": "markdown",
   "id": "f4e97f20",
   "metadata": {},
   "source": [
    "Constraint #2, minimum sold product $i$ via contract [unit] \n",
    "\n",
    "$\\sum_j q_{i,j} \\;\\geq\\; SOLD_i \\quad \\forall i$"
   ]
  },
  {
   "cell_type": "code",
   "execution_count": 69,
   "id": "4ba9844a",
   "metadata": {},
   "outputs": [],
   "source": [
    "model.contracts_constraint = pe.ConstraintList()\n",
    "for i in model.product:\n",
    "    model.contracts_constraint.add(\n",
    "        sum(model.product_quantity_per_factory[i, j] for j in model.factory) >= model.sold_products[i]\n",
    "    )"
   ]
  },
  {
   "cell_type": "code",
   "execution_count": 70,
   "id": "029af906",
   "metadata": {},
   "outputs": [
    {
     "name": "stdout",
     "output_type": "stream",
     "text": [
      "Read LP format model from file C:\\Users\\beatr\\AppData\\Local\\Temp\\tmpelhd01me.pyomo.lp\n",
      "Reading time = 0.00 seconds\n",
      "x1: 9 rows, 18 columns, 36 nonzeros\n",
      "Gurobi Optimizer version 12.0.3 build v12.0.3rc0 (win64 - Windows 11.0 (26100.2))\n",
      "\n",
      "CPU model: 13th Gen Intel(R) Core(TM) i7-1355U, instruction set [SSE2|AVX|AVX2]\n",
      "Thread count: 10 physical cores, 12 logical processors, using up to 12 threads\n",
      "\n",
      "Optimize a model with 9 rows, 18 columns and 36 nonzeros\n",
      "Model fingerprint: 0x5bbc731c\n",
      "Coefficient statistics:\n",
      "  Matrix range     [1e+00, 1e+00]\n",
      "  Objective range  [3e+01, 7e+01]\n",
      "  Bounds range     [0e+00, 0e+00]\n",
      "  RHS range        [4e+02, 1e+03]\n",
      "Presolve time: 0.00s\n",
      "Presolved: 9 rows, 18 columns, 36 nonzeros\n",
      "\n",
      "Iteration    Objective       Primal Inf.    Dual Inf.      Time\n",
      "       0    8.6200000e+32   1.800000e+31   8.620000e+02      0s\n",
      "      10    2.0520000e+05   0.000000e+00   0.000000e+00      0s\n",
      "\n",
      "Solved in 10 iterations and 0.00 seconds (0.00 work units)\n",
      "Optimal objective  2.052000000e+05\n",
      "Solver Status: ok\n",
      "Termination Condition: optimal\n"
     ]
    }
   ],
   "source": [
    "solver = pe.SolverFactory('gurobi')\n",
    "results = solver.solve(model, tee=True)\n",
    "\n",
    "# Mostrar estado de la optimización\n",
    "print(\"Solver Status:\", results.solver.status)\n",
    "print(\"Termination Condition:\", results.solver.termination_condition)"
   ]
  },
  {
   "cell_type": "code",
   "execution_count": 71,
   "id": "cb1ca632",
   "metadata": {},
   "outputs": [
    {
     "name": "stdout",
     "output_type": "stream",
     "text": [
      "Optimal cost: 205200.0\n"
     ]
    }
   ],
   "source": [
    "print(\"Optimal cost:\", pe.value(model.cost))"
   ]
  },
  {
   "cell_type": "code",
   "execution_count": 72,
   "id": "3e542e7e",
   "metadata": {},
   "outputs": [
    {
     "name": "stdout",
     "output_type": "stream",
     "text": [
      "200.00 units of product A produced in factory F2\n",
      "50.00 units of product A produced in factory F3\n",
      "450.00 units of product A produced in factory F6\n",
      "500.00 units of product B produced in factory F2\n",
      "550.00 units of product C produced in factory F1\n",
      "1050.00 units of product C produced in factory F3\n",
      "350.00 units of product C produced in factory F4\n",
      "400.00 units of product C produced in factory F5\n"
     ]
    }
   ],
   "source": [
    "# Production plan\n",
    "\n",
    "for i in model.product:\n",
    "    for j in model.factory:\n",
    "        qty = pe.value(model.product_quantity_per_factory[i, j])\n",
    "        if qty > 1e-6:  # mostramos solo valores positivos\n",
    "            print(f\"{qty:.2f} units of product {i} produced in factory {j}\")\n",
    "\n"
   ]
  },
  {
   "cell_type": "code",
   "execution_count": 73,
   "id": "a4f11a5c",
   "metadata": {},
   "outputs": [
    {
     "name": "stdout",
     "output_type": "stream",
     "text": [
      "Total production of product A: 700.00 units\n",
      "Total production of product B: 500.00 units\n",
      "Total production of product C: 2350.00 units\n"
     ]
    }
   ],
   "source": [
    "# Total production per product\n",
    "for i in model.product:\n",
    "    total_prod = sum(pe.value(model.product_quantity_per_factory[i, j]) for j in model.factory)\n",
    "    print(f\"Total production of product {i}: {total_prod:.2f} units\")"
   ]
  },
  {
   "cell_type": "code",
   "execution_count": 74,
   "id": "d1687640",
   "metadata": {},
   "outputs": [
    {
     "name": "stdout",
     "output_type": "stream",
     "text": [
      "Total production in factory F1: 550.00 units\n",
      "Total production in factory F2: 700.00 units\n",
      "Total production in factory F3: 1100.00 units\n",
      "Total production in factory F4: 350.00 units\n",
      "Total production in factory F5: 400.00 units\n",
      "Total production in factory F6: 450.00 units\n"
     ]
    }
   ],
   "source": [
    "# Total production per factory\n",
    "for j in model.factory:\n",
    "    total_fac = sum(pe.value(model.product_quantity_per_factory[i, j]) for i in model.product)\n",
    "    print(f\"Total production in factory {j}: {total_fac:.2f} units\")"
   ]
  },
  {
   "cell_type": "code",
   "execution_count": 75,
   "id": "7612c487",
   "metadata": {},
   "outputs": [
    {
     "name": "stdout",
     "output_type": "stream",
     "text": [
      "2 Set Declarations\n",
      "    factory : Size=1, Index=None, Ordered=Insertion\n",
      "        Key  : Dimen : Domain : Size : Members\n",
      "        None :     1 :    Any :    6 : {'F1', 'F2', 'F3', 'F4', 'F5', 'F6'}\n",
      "    product : Size=1, Index=None, Ordered=Insertion\n",
      "        Key  : Dimen : Domain : Size : Members\n",
      "        None :     1 :    Any :    3 : {'A', 'B', 'C'}\n",
      "\n",
      "4 Param Declarations\n",
      "    capacity_factory : Size=6, Index=factory, Domain=Any, Default=None, Mutable=False\n",
      "        Key : Value\n",
      "         F1 :   550\n",
      "         F2 :   700\n",
      "         F3 :  1100\n",
      "         F4 :   350\n",
      "         F5 :   400\n",
      "         F6 :   450\n",
      "    product_cost_in_factory : Size=18, Index=product*factory, Domain=Any, Default=None, Mutable=False\n",
      "        Key         : Value\n",
      "        ('A', 'F1') :    25\n",
      "        ('A', 'F2') :    30\n",
      "        ('A', 'F3') :    26\n",
      "        ('A', 'F4') :    34\n",
      "        ('A', 'F5') :    32\n",
      "        ('A', 'F6') :    30\n",
      "        ('B', 'F1') :    30\n",
      "        ('B', 'F2') :    32\n",
      "        ('B', 'F3') :    34\n",
      "        ('B', 'F4') :    35\n",
      "        ('B', 'F5') :    38\n",
      "        ('B', 'F6') :    40\n",
      "        ('C', 'F1') :    40\n",
      "        ('C', 'F2') :    46\n",
      "        ('C', 'F3') :    42\n",
      "        ('C', 'F4') :    37\n",
      "        ('C', 'F5') :    40\n",
      "        ('C', 'F6') :    50\n",
      "    product_selling_price : Size=3, Index=product, Domain=Any, Default=None, Mutable=False\n",
      "        Key : Value\n",
      "          A :    60\n",
      "          B :  82.5\n",
      "          C :   108\n",
      "    sold_products : Size=3, Index=product, Domain=Any, Default=None, Mutable=False\n",
      "        Key : Value\n",
      "          A :   700\n",
      "          B :   500\n",
      "          C :   600\n",
      "\n",
      "1 Var Declarations\n",
      "    product_quantity_per_factory : Size=18, Index=product*factory\n",
      "        Key         : Lower : Value  : Upper : Fixed : Stale : Domain\n",
      "        ('A', 'F1') :     0 :    0.0 :  None : False : False : NonNegativeReals\n",
      "        ('A', 'F2') :     0 :  200.0 :  None : False : False : NonNegativeReals\n",
      "        ('A', 'F3') :     0 :   50.0 :  None : False : False : NonNegativeReals\n",
      "        ('A', 'F4') :     0 :    0.0 :  None : False : False : NonNegativeReals\n",
      "        ('A', 'F5') :     0 :    0.0 :  None : False : False : NonNegativeReals\n",
      "        ('A', 'F6') :     0 :  450.0 :  None : False : False : NonNegativeReals\n",
      "        ('B', 'F1') :     0 :    0.0 :  None : False : False : NonNegativeReals\n",
      "        ('B', 'F2') :     0 :  500.0 :  None : False : False : NonNegativeReals\n",
      "        ('B', 'F3') :     0 :    0.0 :  None : False : False : NonNegativeReals\n",
      "        ('B', 'F4') :     0 :    0.0 :  None : False : False : NonNegativeReals\n",
      "        ('B', 'F5') :     0 :    0.0 :  None : False : False : NonNegativeReals\n",
      "        ('B', 'F6') :     0 :    0.0 :  None : False : False : NonNegativeReals\n",
      "        ('C', 'F1') :     0 :  550.0 :  None : False : False : NonNegativeReals\n",
      "        ('C', 'F2') :     0 :    0.0 :  None : False : False : NonNegativeReals\n",
      "        ('C', 'F3') :     0 : 1050.0 :  None : False : False : NonNegativeReals\n",
      "        ('C', 'F4') :     0 :  350.0 :  None : False : False : NonNegativeReals\n",
      "        ('C', 'F5') :     0 :  400.0 :  None : False : False : NonNegativeReals\n",
      "        ('C', 'F6') :     0 :    0.0 :  None : False : False : NonNegativeReals\n",
      "\n",
      "1 Objective Declarations\n",
      "    cost : Size=1, Index=None, Active=True\n",
      "        Key  : Active : Sense    : Expression\n",
      "        None :   True : maximize : 60*product_quantity_per_factory[A,F1] - 25*product_quantity_per_factory[A,F1] + 60*product_quantity_per_factory[A,F2] - 30*product_quantity_per_factory[A,F2] + 60*product_quantity_per_factory[A,F3] - 26*product_quantity_per_factory[A,F3] + 60*product_quantity_per_factory[A,F4] - 34*product_quantity_per_factory[A,F4] + 60*product_quantity_per_factory[A,F5] - 32*product_quantity_per_factory[A,F5] + 60*product_quantity_per_factory[A,F6] - 30*product_quantity_per_factory[A,F6] + 82.5*product_quantity_per_factory[B,F1] - 30*product_quantity_per_factory[B,F1] + 82.5*product_quantity_per_factory[B,F2] - 32*product_quantity_per_factory[B,F2] + 82.5*product_quantity_per_factory[B,F3] - 34*product_quantity_per_factory[B,F3] + 82.5*product_quantity_per_factory[B,F4] - 35*product_quantity_per_factory[B,F4] + 82.5*product_quantity_per_factory[B,F5] - 38*product_quantity_per_factory[B,F5] + 82.5*product_quantity_per_factory[B,F6] - 40*product_quantity_per_factory[B,F6] + 108*product_quantity_per_factory[C,F1] - 40*product_quantity_per_factory[C,F1] + 108*product_quantity_per_factory[C,F2] - 46*product_quantity_per_factory[C,F2] + 108*product_quantity_per_factory[C,F3] - 42*product_quantity_per_factory[C,F3] + 108*product_quantity_per_factory[C,F4] - 37*product_quantity_per_factory[C,F4] + 108*product_quantity_per_factory[C,F5] - 40*product_quantity_per_factory[C,F5] + 108*product_quantity_per_factory[C,F6] - 50*product_quantity_per_factory[C,F6]\n",
      "\n",
      "2 Constraint Declarations\n",
      "    capacity_constraint : Size=6, Index={1, 2, 3, 4, 5, 6}, Active=True\n",
      "        Key : Lower : Body                                                                                                         : Upper  : Active\n",
      "          1 :  -Inf : product_quantity_per_factory[A,F1] + product_quantity_per_factory[B,F1] + product_quantity_per_factory[C,F1] :  550.0 :   True\n",
      "          2 :  -Inf : product_quantity_per_factory[A,F2] + product_quantity_per_factory[B,F2] + product_quantity_per_factory[C,F2] :  700.0 :   True\n",
      "          3 :  -Inf : product_quantity_per_factory[A,F3] + product_quantity_per_factory[B,F3] + product_quantity_per_factory[C,F3] : 1100.0 :   True\n",
      "          4 :  -Inf : product_quantity_per_factory[A,F4] + product_quantity_per_factory[B,F4] + product_quantity_per_factory[C,F4] :  350.0 :   True\n",
      "          5 :  -Inf : product_quantity_per_factory[A,F5] + product_quantity_per_factory[B,F5] + product_quantity_per_factory[C,F5] :  400.0 :   True\n",
      "          6 :  -Inf : product_quantity_per_factory[A,F6] + product_quantity_per_factory[B,F6] + product_quantity_per_factory[C,F6] :  450.0 :   True\n",
      "    contracts_constraint : Size=3, Index={1, 2, 3}, Active=True\n",
      "        Key : Lower : Body                                                                                                                                                                                                                        : Upper : Active\n",
      "          1 : 700.0 : product_quantity_per_factory[A,F1] + product_quantity_per_factory[A,F2] + product_quantity_per_factory[A,F3] + product_quantity_per_factory[A,F4] + product_quantity_per_factory[A,F5] + product_quantity_per_factory[A,F6] :  +Inf :   True\n",
      "          2 : 500.0 : product_quantity_per_factory[B,F1] + product_quantity_per_factory[B,F2] + product_quantity_per_factory[B,F3] + product_quantity_per_factory[B,F4] + product_quantity_per_factory[B,F5] + product_quantity_per_factory[B,F6] :  +Inf :   True\n",
      "          3 : 600.0 : product_quantity_per_factory[C,F1] + product_quantity_per_factory[C,F2] + product_quantity_per_factory[C,F3] + product_quantity_per_factory[C,F4] + product_quantity_per_factory[C,F5] + product_quantity_per_factory[C,F6] :  +Inf :   True\n",
      "\n",
      "10 Declarations: product factory product_cost_in_factory capacity_factory product_selling_price sold_products product_quantity_per_factory cost capacity_constraint contracts_constraint\n"
     ]
    }
   ],
   "source": [
    "model.pprint()"
   ]
  },
  {
   "cell_type": "code",
   "execution_count": 76,
   "id": "b4cdd904",
   "metadata": {},
   "outputs": [
    {
     "name": "stdout",
     "output_type": "stream",
     "text": [
      "Model unknown\n",
      "\n",
      "  Variables:\n",
      "    product_quantity_per_factory : Size=18, Index=product*factory\n",
      "        Key         : Lower : Value  : Upper : Fixed : Stale : Domain\n",
      "        ('A', 'F1') :     0 :    0.0 :  None : False : False : NonNegativeReals\n",
      "        ('A', 'F2') :     0 :  200.0 :  None : False : False : NonNegativeReals\n",
      "        ('A', 'F3') :     0 :   50.0 :  None : False : False : NonNegativeReals\n",
      "        ('A', 'F4') :     0 :    0.0 :  None : False : False : NonNegativeReals\n",
      "        ('A', 'F5') :     0 :    0.0 :  None : False : False : NonNegativeReals\n",
      "        ('A', 'F6') :     0 :  450.0 :  None : False : False : NonNegativeReals\n",
      "        ('B', 'F1') :     0 :    0.0 :  None : False : False : NonNegativeReals\n",
      "        ('B', 'F2') :     0 :  500.0 :  None : False : False : NonNegativeReals\n",
      "        ('B', 'F3') :     0 :    0.0 :  None : False : False : NonNegativeReals\n",
      "        ('B', 'F4') :     0 :    0.0 :  None : False : False : NonNegativeReals\n",
      "        ('B', 'F5') :     0 :    0.0 :  None : False : False : NonNegativeReals\n",
      "        ('B', 'F6') :     0 :    0.0 :  None : False : False : NonNegativeReals\n",
      "        ('C', 'F1') :     0 :  550.0 :  None : False : False : NonNegativeReals\n",
      "        ('C', 'F2') :     0 :    0.0 :  None : False : False : NonNegativeReals\n",
      "        ('C', 'F3') :     0 : 1050.0 :  None : False : False : NonNegativeReals\n",
      "        ('C', 'F4') :     0 :  350.0 :  None : False : False : NonNegativeReals\n",
      "        ('C', 'F5') :     0 :  400.0 :  None : False : False : NonNegativeReals\n",
      "        ('C', 'F6') :     0 :    0.0 :  None : False : False : NonNegativeReals\n",
      "\n",
      "  Objectives:\n",
      "    cost : Size=1, Index=None, Active=True\n",
      "        Key  : Active : Value\n",
      "        None :   True : 205200.0\n",
      "\n",
      "  Constraints:\n",
      "    capacity_constraint : Size=6\n",
      "        Key : Lower : Body   : Upper\n",
      "          1 :  None :  550.0 :  550.0\n",
      "          2 :  None :  700.0 :  700.0\n",
      "          3 :  None : 1100.0 : 1100.0\n",
      "          4 :  None :  350.0 :  350.0\n",
      "          5 :  None :  400.0 :  400.0\n",
      "          6 :  None :  450.0 :  450.0\n",
      "    contracts_constraint : Size=3\n",
      "        Key : Lower : Body   : Upper\n",
      "          1 : 700.0 :  700.0 :  None\n",
      "          2 : 500.0 :  500.0 :  None\n",
      "          3 : 600.0 : 2350.0 :  None\n"
     ]
    }
   ],
   "source": [
    "model.display() "
   ]
  }
 ],
 "metadata": {
  "kernelspec": {
   "display_name": "base",
   "language": "python",
   "name": "python3"
  },
  "language_info": {
   "codemirror_mode": {
    "name": "ipython",
    "version": 3
   },
   "file_extension": ".py",
   "mimetype": "text/x-python",
   "name": "python",
   "nbconvert_exporter": "python",
   "pygments_lexer": "ipython3",
   "version": "3.11.4"
  }
 },
 "nbformat": 4,
 "nbformat_minor": 5
}
