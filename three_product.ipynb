{
 "cells": [
  {
   "cell_type": "code",
   "execution_count": null,
   "id": "b3ba017f",
   "metadata": {},
   "outputs": [],
   "source": [
    "#for building the pyomo model\n",
    "import pyomo.environ as pe"
   ]
  },
  {
   "cell_type": "code",
   "execution_count": 2,
   "id": "2f1812e0",
   "metadata": {},
   "outputs": [],
   "source": [
    "#for solving the pyomo model\n",
    "import pyomo.opt as po"
   ]
  },
  {
   "cell_type": "markdown",
   "id": "48bd53fa",
   "metadata": {},
   "source": [
    "### Create the model"
   ]
  },
  {
   "cell_type": "code",
   "execution_count": 3,
   "id": "a928e455",
   "metadata": {},
   "outputs": [],
   "source": [
    "model = pe.ConcreteModel()"
   ]
  },
  {
   "cell_type": "markdown",
   "id": "5821d3e1",
   "metadata": {},
   "source": [
    "#### Sets\n",
    "$i$: products {'A', 'B', 'C'}\n",
    "\n",
    "$j$: factories {'F1', 'F2', 'F3', 'F4', 'F5', 'F6'}"
   ]
  },
  {
   "cell_type": "code",
   "execution_count": 4,
   "id": "485ea13e",
   "metadata": {},
   "outputs": [],
   "source": [
    "model.product = pe.Set(initialize=['A', 'B', 'C'])\n",
    "model.factory = pe.Set(initialize=['F1', 'F2', 'F3', 'F4', 'F5', 'F6'])"
   ]
  },
  {
   "cell_type": "markdown",
   "id": "1938bcbb",
   "metadata": {},
   "source": [
    "#### Parameters\n",
    "$C_{ij}$: unitary cost of product $i$ in factory $j$ [€/unit] \n"
   ]
  },
  {
   "cell_type": "code",
   "execution_count": 5,
   "id": "70db8bab",
   "metadata": {},
   "outputs": [],
   "source": [
    "#unitary cost of product in each factory\n",
    "product_costs_dict = {\n",
    "    ('A', 'F1'): 25, ('A', 'F2'): 30, ('A', 'F3'): 26, ('A', 'F4'): 34, ('A', 'F5'): 32, ('A', 'F6'): 30,\n",
    "    ('B', 'F1'): 30, ('B', 'F2'): 32, ('B', 'F3'): 34, ('B', 'F4'): 35, ('B', 'F5'): 38, ('B', 'F6'): 40,\n",
    "    ('C', 'F1'): 40, ('C', 'F2'): 46, ('C', 'F3'): 42, ('C', 'F4'): 37, ('C', 'F5'): 40, ('C', 'F6'): 50\n",
    "}\n",
    "\n",
    "\n",
    "model.product_cost_in_factory = pe.Param (model.product, model.factory, initialize = product_costs_dict)\n",
    "\n"
   ]
  },
  {
   "cell_type": "markdown",
   "id": "963f53b7",
   "metadata": {},
   "source": [
    "$Q_j$: capcaity of factory $j$ [unit] <br>"
   ]
  },
  {
   "cell_type": "code",
   "execution_count": 6,
   "id": "6b164338",
   "metadata": {},
   "outputs": [],
   "source": [
    "\n",
    "#product capacity\n",
    "capacities_dict = {\n",
    "    \"F1\": 550,\n",
    "    \"F2\": 700,\n",
    "    \"F3\": 1100,\n",
    "    \"F4\": 350,\n",
    "    \"F5\": 400,\n",
    "    \"F6\": 450\n",
    "}\n",
    "\n",
    "model.capacity_factory = pe.Param(model.factory, initialize = capacities_dict)\n"
   ]
  },
  {
   "cell_type": "markdown",
   "id": "40fc2522",
   "metadata": {},
   "source": [
    "$SP_i$: selling price of product $i$ [€]"
   ]
  },
  {
   "cell_type": "code",
   "execution_count": 7,
   "id": "f6c82617",
   "metadata": {},
   "outputs": [],
   "source": [
    "product_selling_price_dict = {\n",
    "    'A' : 60,\n",
    "    'B' : 82.5,\n",
    "    'C' : 108\n",
    "}\n",
    "model.product_selling_price = pe.Param(model.product, initialize = product_selling_price_dict)\n"
   ]
  },
  {
   "cell_type": "markdown",
   "id": "5cdcdb4b",
   "metadata": {},
   "source": [
    "$SOLD_i$: contract of product $i$ [unit]\n"
   ]
  },
  {
   "cell_type": "code",
   "execution_count": 8,
   "id": "1134a1fc",
   "metadata": {},
   "outputs": [],
   "source": [
    "sold_products_dict = {\n",
    "    'A' : 700,\n",
    "    'B' : 500,\n",
    "    'C' : 600\n",
    "}\n",
    "model.sold_products = pe.Param(model.product, initialize = sold_products_dict)"
   ]
  },
  {
   "cell_type": "markdown",
   "id": "d06b72ce",
   "metadata": {},
   "source": [
    "#### Variables\n",
    "\n",
    "$q_{ij}$: quantity of product $i$ in factory $j$ [unit]"
   ]
  },
  {
   "cell_type": "code",
   "execution_count": null,
   "id": "07069a68",
   "metadata": {},
   "outputs": [],
   "source": [
    "model.product_quantity_per_factory = pe.Var(model.product,model.factory, within = pe.NonNegativeReals)"
   ]
  },
  {
   "cell_type": "markdown",
   "id": "e755239e",
   "metadata": {},
   "source": [
    "#### Objective Function\n",
    "\n",
    "max $\\sum_{ij}(SP_i *q_{ij} ) - \\sum_{ij}(C_{ij} *q_{ij} )$"
   ]
  },
  {
   "cell_type": "code",
   "execution_count": 17,
   "id": "fc438808",
   "metadata": {},
   "outputs": [
    {
     "name": "stdout",
     "output_type": "stream",
     "text": [
      "WARNING: Implicitly replacing the Component attribute cost (type=<class\n",
      "'pyomo.core.base.objective.ScalarObjective'>) on block unknown with a new\n",
      "Component (type=<class 'pyomo.core.base.objective.AbstractScalarObjective'>).\n",
      "This is usually indicative of a modelling error. To avoid this warning, use\n",
      "block.del_component() and block.add_component().\n"
     ]
    }
   ],
   "source": [
    "def obj_rule(model):\n",
    "    return sum(((model.product_selling_price[i] * model.product_quantity_per_factory[i,j]) - (model.product_cost_in_factory[i,j]*model.product_quantity_per_factory[i,j]))\n",
    "                for i in model.product \n",
    "                for j in model.factory )\n",
    "\n",
    "model.cost = pe.Objective(rule = obj_rule, sense = pe.maximize)\n"
   ]
  },
  {
   "cell_type": "markdown",
   "id": "e281a83f",
   "metadata": {},
   "source": [
    "#### Constraints"
   ]
  },
  {
   "cell_type": "markdown",
   "id": "fe34900a",
   "metadata": {},
   "source": [
    "Constraint #1, maximum capacity of factory $j$ [unit]\n",
    "$\\sum_iq_{ij} \\le Q_j \\quad \\forall j$"
   ]
  },
  {
   "cell_type": "code",
   "execution_count": null,
   "id": "9cedb3c1",
   "metadata": {},
   "outputs": [],
   "source": [
    "model.max_capacity = pe.ConstraintList()\n",
    "\n",
    "for j in model.factory:\n",
    "  model.max_capacity.add(\n",
    "    sum(model.product_quantity_per_factory[i,j] for f in model.food_type) >= model.nutrient_need[n]\n",
    "    )"
   ]
  }
 ],
 "metadata": {
  "kernelspec": {
   "display_name": "general",
   "language": "python",
   "name": "python3"
  },
  "language_info": {
   "codemirror_mode": {
    "name": "ipython",
    "version": 3
   },
   "file_extension": ".py",
   "mimetype": "text/x-python",
   "name": "python",
   "nbconvert_exporter": "python",
   "pygments_lexer": "ipython3",
   "version": "3.13.2"
  }
 },
 "nbformat": 4,
 "nbformat_minor": 5
}
