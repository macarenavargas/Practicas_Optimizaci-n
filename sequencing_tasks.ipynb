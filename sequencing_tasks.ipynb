{
 "cells": [
  {
   "cell_type": "code",
   "execution_count": 1,
   "id": "8c4f58e8",
   "metadata": {},
   "outputs": [],
   "source": [
    "import pyomo.environ as pe\n",
    "import pyomo.opt as po"
   ]
  },
  {
   "cell_type": "markdown",
   "id": "cb46af5e",
   "metadata": {},
   "source": [
    "### Problema Sequencing Tasks\n",
    "\n",
    "Cristina Hernández, Macarena Vargas, Guillermo Ruiz, Beatriz Jiménez. 3ºIMAT B "
   ]
  },
  {
   "cell_type": "code",
   "execution_count": 2,
   "id": "a445c481",
   "metadata": {},
   "outputs": [],
   "source": [
    "model = pe.ConcreteModel()"
   ]
  },
  {
   "cell_type": "markdown",
   "id": "b2b9ce42",
   "metadata": {},
   "source": [
    "#### SETS\n",
    "$t$: tasks {T1, T2, T3, T4, T5}\n",
    "\n",
    "$m$: machines {m1, m2}\n"
   ]
  },
  {
   "cell_type": "code",
   "execution_count": 3,
   "id": "83c28775",
   "metadata": {},
   "outputs": [],
   "source": [
    "tasks = ['T1', 'T2', 'T3', 'T4', 'T5']\n",
    "machines = ['m1', 'm2']\n",
    "model.t = pe.Set(initialize=tasks, ordered = True)\n",
    "model.m = pe.Set(initialize=machines, ordered = True)\n",
    "\n",
    "# le voy a añadir un nuevo SET que coge todas las combinaciones de tareas\n",
    "# para despues poder definir la variable t. \n",
    "model.pairs = pe.Set(initialize=[(i, j) for i in tasks for j in tasks if i != j])\n",
    "\n"
   ]
  },
  {
   "cell_type": "markdown",
   "id": "f272cd2e",
   "metadata": {},
   "source": [
    "#### PARAMETERS \n",
    "\n",
    "$T_t,m$: processing time of task t in machine m [h]\n",
    "\n",
    "$D_t$: delivery time of task t [h]"
   ]
  },
  {
   "cell_type": "code",
   "execution_count": 4,
   "id": "bcfd9519",
   "metadata": {},
   "outputs": [],
   "source": [
    "T_dict = {('T1','m1'): 9, ('T1','m2'): 12,\n",
    "            ('T2','m1'): 6, ('T2','m2'): 8,\n",
    "            ('T3','m1'): 10, ('T3','m2'): 7,\n",
    "            ('T4','m1'): 8, ('T4','m2'): 10,\n",
    "            ('T5','m1'): 7, ('T5','m2'): 9} \n",
    "D_dict = {'T1': 40, 'T2': 25, 'T3': 33, 'T4': 45, 'T5': 45} \n",
    "model.T = pe.Param(model.t, model.m, initialize=T_dict)\n",
    "model.D = pe.Param(model.t, initialize=D_dict)\n",
    " "
   ]
  },
  {
   "cell_type": "markdown",
   "id": "a691ce4d",
   "metadata": {},
   "source": [
    "### VARIABLES\n",
    "$s_{t,m}$: starting time of task t in machine m [h]\n",
    "\n",
    "$x_{t,t,m}$: task t done before task t' in machine m {0,1}\n",
    "\n",
    "$p_{t}$ : delay of task t [h] \n",
    "\n",
    "$mx$ : maximum delay of all tasks \n",
    "\n",
    "$end$ : maximum delivery date of all tasts \n"
   ]
  },
  {
   "cell_type": "code",
   "execution_count": 5,
   "id": "e027be28",
   "metadata": {},
   "outputs": [],
   "source": [
    "\n",
    "model.S = pe.Var(model.t, model.m, within = pe.NonNegativeIntegers)\n",
    "model.X = pe.Var(model.pairs, model.m, within=pe.Binary) # le aplico el \"pairs\" para controlar t y t'\n",
    "model.P = pe.Var(model.t , within =  pe.NonNegativeIntegers)\n",
    "model.MX = pe.Var(within = pe.NonNegativeIntegers)\n",
    "model.END = pe.Var(within = pe.NonNegativeIntegers)\n",
    "\n"
   ]
  },
  {
   "cell_type": "markdown",
   "id": "e55bfbaa",
   "metadata": {},
   "source": [
    "#### OBJECTIVE FUNCTION\n",
    "min $mx$ or min $end$"
   ]
  },
  {
   "cell_type": "code",
   "execution_count": 6,
   "id": "172bca93",
   "metadata": {},
   "outputs": [],
   "source": [
    "\n",
    "model.obj = pe.Objective(expr=model.MX, sense=pe.minimize) \n",
    "#model.obj_2 = pe.Objective(expr=model.END, sense=pe.minimize)\n"
   ]
  },
  {
   "cell_type": "markdown",
   "id": "da583dd8",
   "metadata": {},
   "source": [
    "#### CONTRAINTS \n",
    "\n",
    "1. Task t in machine M2 starts only after finishing M1 \n",
    "\n",
    "\n",
    "$S_{t,m=1}+ T_{t,m=1} \\leq S_{t,m=2}   \\forall t $\n"
   ]
  },
  {
   "cell_type": "code",
   "execution_count": 7,
   "id": "30df106e",
   "metadata": {},
   "outputs": [],
   "source": [
    "def m2_after_m1(model, t):\n",
    "    return model.S[t, 'm1'] + model.T[t, 'm1'] <= model.S[t, 'm2']\n",
    "\n",
    "model.capacidad = pe.Constraint(model.t, rule=m2_after_m1)\n"
   ]
  },
  {
   "cell_type": "markdown",
   "id": "8f78beb4",
   "metadata": {},
   "source": [
    "2. Task t and task t' cannot overlap in some machine m [h]\n",
    "\n",
    "(dor every pair of task t and t', one must finish before the other)\n",
    "$x_t,t',m$ = 1 -> t goes before t' \n",
    "$x_t,t',m$ = 0 -> t' goes before t\n",
    "\n",
    "\n",
    "IF $x_{t,t',m}$ = 1 -> $S_{t,m}+ T_{t,m} \\leq S_{t',m}  \\forall t!=t , m $\n",
    "\n",
    "that can be re-written as: \n",
    "\n",
    " $S_{t,m}+ T_{t,m} - S_{t',m} \\leq M *(1 - x_{t,t',m}) \\forall t!=t , m $ \n"
   ]
  },
  {
   "cell_type": "code",
   "execution_count": 8,
   "id": "7d7374bc",
   "metadata": {},
   "outputs": [],
   "source": [
    "M = sum(T_dict.values()) + 1  # big M as the sum of all processing times +1 \n",
    "\n",
    "def sequencing_rule(model, t1, t2, m):\n",
    "    return model.S[t1, m] + model.T[t1, m] <= model.S[t2, m] + M * (1 - model.X[t1, t2, m])\n",
    "model.sequencing = pe.Constraint(model.pairs, model.m, rule=sequencing_rule)"
   ]
  },
  {
   "cell_type": "markdown",
   "id": "a2677a24",
   "metadata": {},
   "source": [
    "3. Simetric processes : task t proceeds task t' or viceversa in machine m \n",
    "\n",
    "\n",
    "$x_{t,t',m}  + x_{t',t,m} = 1            \\forall t!=t , m $"
   ]
  },
  {
   "cell_type": "code",
   "execution_count": 9,
   "id": "11d83b0d",
   "metadata": {},
   "outputs": [],
   "source": [
    "def order_symmetry(mdl, t1, t2, m):\n",
    "    return mdl.X[t1, t2, m] + mdl.X[t2, t1, m] == 1\n",
    "model.order_symmetry = pe.Constraint(model.pairs, model.m, rule=order_symmetry)\n"
   ]
  },
  {
   "cell_type": "markdown",
   "id": "4a4df5ea",
   "metadata": {},
   "source": [
    "4. Delay time of each task t \n",
    "\n",
    "\n",
    "$S_{t,m = M2}  + T_{t,m=M2} - D_{t} \\leq P_{t}            \\forall t$"
   ]
  },
  {
   "cell_type": "code",
   "execution_count": 10,
   "id": "606d9d50",
   "metadata": {},
   "outputs": [],
   "source": [
    "def delay_time_rule(model, t):\n",
    "    return model.S[t, 'm2'] + model.T[t, 'm2'] - model.D[t] <= model.P[t]\n",
    "model.delay_time = pe.Constraint(model.t, rule=delay_time_rule)"
   ]
  },
  {
   "cell_type": "markdown",
   "id": "72a6f4e3",
   "metadata": {},
   "source": [
    "5. Task 3 needs to be processed before task 2\n",
    "\n",
    "$S_{t=T3,m}  + T_{t=T3,m} \\leq S_{t=2, m}            \\forall m$"
   ]
  },
  {
   "cell_type": "code",
   "execution_count": 11,
   "id": "0f9be0e8",
   "metadata": {},
   "outputs": [],
   "source": [
    "def task3_before_task2(model, m):\n",
    "    return model.S['T3', m] + model.T['T3', m] <= model.S['T2', m]\n",
    "model.task3_before_task2 = pe.Constraint(model.m, rule=task3_before_task2)"
   ]
  },
  {
   "cell_type": "markdown",
   "id": "f83bb273",
   "metadata": {},
   "source": [
    "6. Maximum delay of all tasks \n",
    "\n",
    "$ MX \\;\\geq\\; P_t \\forall t$ "
   ]
  },
  {
   "cell_type": "code",
   "execution_count": 12,
   "id": "f331fbaa",
   "metadata": {},
   "outputs": [],
   "source": [
    "def max_delay_time(model, t):\n",
    "    return model.MX >= model.P[t]\n",
    "model.delay_time_rule = pe.Constraint(model.t, rule=max_delay_time)"
   ]
  },
  {
   "cell_type": "markdown",
   "id": "690aa577",
   "metadata": {},
   "source": [
    "7. Maximum delivery date of lal tasks \n",
    "\n",
    "$ END \\;\\geq\\; S_{t,m=M2} + T_{t,m=M2} \\forall t$ \n"
   ]
  },
  {
   "cell_type": "code",
   "execution_count": 13,
   "id": "9b185642",
   "metadata": {},
   "outputs": [],
   "source": [
    "def max_delivery_time(model, t):\n",
    "    return model.END >= model.S[t, 'm2'] + model.T[t, 'm2']\n",
    "model.max_delivery_time = pe.Constraint(model.t, rule=max_delivery_time)\n",
    "\n",
    "\n"
   ]
  },
  {
   "cell_type": "markdown",
   "id": "3c714e23",
   "metadata": {},
   "source": [
    "8. Positive variables \n",
    "$ S_{t,m} , P_{t} \\;\\geq\\; 0 $\n",
    "(already declared in the definition of variables: within pe.NonNegativeIntegers)"
   ]
  },
  {
   "cell_type": "code",
   "execution_count": 14,
   "id": "92594bb8",
   "metadata": {},
   "outputs": [],
   "source": [
    "def same_sequence(model, t1, t2):\n",
    "    return model.X[t1, t2, 'm1'] == model.X[t1, t2, 'm2']\n",
    "model.same_sequence = pe.Constraint(model.pairs, rule=same_sequence)\n"
   ]
  },
  {
   "cell_type": "markdown",
   "id": "6fb3a321",
   "metadata": {},
   "source": [
    "#### Solving problem 1 : "
   ]
  },
  {
   "cell_type": "code",
   "execution_count": 15,
   "id": "51044258",
   "metadata": {},
   "outputs": [
    {
     "name": "stdout",
     "output_type": "stream",
     "text": [
      "Set parameter Username\n",
      "Set parameter LicenseID to value 2707518\n",
      "Academic license - for non-commercial use only - expires 2026-09-11\n",
      "Read LP format model from file C:\\Users\\Guill\\AppData\\Local\\Temp\\tmpw0meb72i.pyomo.lp\n",
      "Reading time = 0.05 seconds\n",
      "x1: 122 rows, 57 columns, 284 nonzeros\n",
      "Gurobi Optimizer version 12.0.3 build v12.0.3rc0 (win64 - Windows 11.0 (26100.2))\n",
      "\n",
      "CPU model: 12th Gen Intel(R) Core(TM) i7-1260P, instruction set [SSE2|AVX|AVX2]\n",
      "Thread count: 12 physical cores, 16 logical processors, using up to 16 threads\n",
      "\n",
      "Optimize a model with 122 rows, 57 columns and 284 nonzeros\n",
      "Model fingerprint: 0xae0562de\n",
      "Variable types: 0 continuous, 57 integer (40 binary)\n",
      "Coefficient statistics:\n",
      "  Matrix range     [1e+00, 9e+01]\n",
      "  Objective range  [1e+00, 1e+00]\n",
      "  Bounds range     [1e+00, 1e+00]\n",
      "  RHS range        [1e+00, 8e+01]\n",
      "Found heuristic solution: objective 23.0000000\n",
      "Presolve removed 72 rows and 37 columns\n",
      "Presolve time: 0.01s\n",
      "Presolved: 50 rows, 20 columns, 136 nonzeros\n",
      "Variable types: 0 continuous, 20 integer (9 binary)\n",
      "\n",
      "Root relaxation: objective 0.000000e+00, 8 iterations, 0.00 seconds (0.00 work units)\n",
      "\n",
      "    Nodes    |    Current Node    |     Objective Bounds      |     Work\n",
      " Expl Unexpl |  Obj  Depth IntInf | Incumbent    BestBd   Gap | It/Node Time\n",
      "\n",
      "     0     0    0.00000    0    8   23.00000    0.00000   100%     -    0s\n",
      "H    0     0                      17.0000000    0.00000   100%     -    0s\n",
      "H    0     0                      16.0000000    0.00000   100%     -    0s\n",
      "H    0     0                      14.0000000    0.00000   100%     -    0s\n",
      "H    0     0                      12.0000000    0.00000   100%     -    0s\n",
      "H    0     0                       9.0000000    0.00000   100%     -    0s\n",
      "     0     0    9.00000    0    4    9.00000    9.00000  0.00%     -    0s\n",
      "\n",
      "Cutting planes:\n",
      "  Implied bound: 5\n",
      "  MIR: 10\n",
      "  StrongCG: 3\n",
      "\n",
      "Explored 1 nodes (45 simplex iterations) in 0.02 seconds (0.00 work units)\n",
      "Thread count was 16 (of 16 available processors)\n",
      "\n",
      "Solution count 6: 9 12 14 ... 23\n",
      "\n",
      "Optimal solution found (tolerance 1.00e-04)\n",
      "Best objective 9.000000000000e+00, best bound 9.000000000000e+00, gap 0.0000%\n",
      "Status: ok\n",
      "Termination: optimal\n"
     ]
    }
   ],
   "source": [
    "solver = po.SolverFactory('gurobi')\n",
    "result = solver.solve(model, tee=True) \n",
    "\n",
    "print(\"Status:\", result.solver.status)\n",
    "print(\"Termination:\", result.solver.termination_condition)"
   ]
  },
  {
   "cell_type": "code",
   "execution_count": 16,
   "id": "fd561f07",
   "metadata": {},
   "outputs": [
    {
     "name": "stdout",
     "output_type": "stream",
     "text": [
      "Valor objetivo (MX): 9.0\n",
      "T1  s_m1= 23.0   s_m2= 32.0   delay=  9.0\n",
      "T2  s_m1= 17.0   s_m2= 24.0   delay=  9.0\n",
      "T3  s_m1=  7.0   s_m2= 17.0   delay=  9.0\n",
      "T4  s_m1= 32.0   s_m2= 44.0   delay=  9.0\n",
      "T5  s_m1= -0.0   s_m2=  7.0   delay=  9.0\n",
      "END = 54.0\n"
     ]
    }
   ],
   "source": [
    "print(\"Valor objetivo (MX):\", pe.value(model.MX))\n",
    "for t in model.t:\n",
    "    print(\n",
    "        f\"{t:>2s}  s_m1={pe.value(model.S[t,'m1']):5.1f}   \"\n",
    "        f\"s_m2={pe.value(model.S[t,'m2']):5.1f}   \"\n",
    "        f\"delay={pe.value(model.P[t]):5.1f}\"\n",
    "    )\n",
    "print(\"END =\", pe.value(model.END))\n"
   ]
  },
  {
   "cell_type": "markdown",
   "id": "dd85069c",
   "metadata": {},
   "source": [
    "#### Solving problem 1 : "
   ]
  },
  {
   "cell_type": "code",
   "execution_count": 17,
   "id": "16cbfcc9",
   "metadata": {},
   "outputs": [
    {
     "name": "stdout",
     "output_type": "stream",
     "text": [
      "WARNING: Implicitly replacing the Component attribute obj (type=<class\n",
      "'pyomo.core.base.objective.ScalarObjective'>) on block unknown with a new\n",
      "Component (type=<class 'pyomo.core.base.objective.AbstractScalarObjective'>).\n",
      "This is usually indicative of a modelling error. To avoid this warning, use\n",
      "block.del_component() and block.add_component().\n",
      "Set parameter Username\n",
      "Set parameter LicenseID to value 2707518\n",
      "Academic license - for non-commercial use only - expires 2026-09-11\n",
      "Read LP format model from file C:\\Users\\Guill\\AppData\\Local\\Temp\\tmprbkejkim.pyomo.lp\n",
      "Reading time = 0.05 seconds\n",
      "x1: 122 rows, 57 columns, 284 nonzeros\n",
      "Gurobi Optimizer version 12.0.3 build v12.0.3rc0 (win64 - Windows 11.0 (26100.2))\n",
      "\n",
      "CPU model: 12th Gen Intel(R) Core(TM) i7-1260P, instruction set [SSE2|AVX|AVX2]\n",
      "Thread count: 12 physical cores, 16 logical processors, using up to 16 threads\n",
      "\n",
      "Optimize a model with 122 rows, 57 columns and 284 nonzeros\n",
      "Model fingerprint: 0xfc7f5107\n",
      "Variable types: 0 continuous, 57 integer (40 binary)\n",
      "Coefficient statistics:\n",
      "  Matrix range     [1e+00, 9e+01]\n",
      "  Objective range  [1e+00, 1e+00]\n",
      "  Bounds range     [1e+00, 1e+00]\n",
      "  RHS range        [1e+00, 8e+01]\n",
      "Found heuristic solution: objective 58.0000000\n",
      "Presolve removed 72 rows and 37 columns\n",
      "Presolve time: 0.00s\n",
      "Presolved: 50 rows, 20 columns, 136 nonzeros\n",
      "Variable types: 0 continuous, 20 integer (9 binary)\n",
      "\n",
      "Root relaxation: objective 2.500000e+01, 8 iterations, 0.00 seconds (0.00 work units)\n",
      "\n",
      "    Nodes    |    Current Node    |     Objective Bounds      |     Work\n",
      " Expl Unexpl |  Obj  Depth IntInf | Incumbent    BestBd   Gap | It/Node Time\n",
      "\n",
      "     0     0   25.00000    0    8   58.00000   25.00000  56.9%     -    0s\n",
      "H    0     0                      55.0000000   31.00000  43.6%     -    0s\n",
      "H    0     0                      53.0000000   31.00000  41.5%     -    0s\n",
      "     0     0   33.50000    0   20   53.00000   33.50000  36.8%     -    0s\n",
      "     0     0   34.50183    0   11   53.00000   34.50183  34.9%     -    0s\n",
      "     0     0   37.00000    0    7   53.00000   37.00000  30.2%     -    0s\n",
      "     0     0   53.00000    0   10   53.00000   53.00000  0.00%     -    0s\n",
      "\n",
      "Cutting planes:\n",
      "  MIR: 1\n",
      "\n",
      "Explored 1 nodes (86 simplex iterations) in 0.03 seconds (0.00 work units)\n",
      "Thread count was 16 (of 16 available processors)\n",
      "\n",
      "Solution count 3: 53 55 58 \n",
      "\n",
      "Optimal solution found (tolerance 1.00e-04)\n",
      "Best objective 5.300000000000e+01, best bound 5.300000000000e+01, gap 0.0000%\n",
      "Status: ok\n",
      "Termination: optimal\n"
     ]
    }
   ],
   "source": [
    "model.obj = pe.Objective(expr=model.END, sense=pe.minimize) \n",
    "solver = po.SolverFactory('gurobi')\n",
    "result = solver.solve(model, tee=True) \n",
    "\n",
    "print(\"Status:\", result.solver.status)\n",
    "print(\"Termination:\", result.solver.termination_condition)"
   ]
  },
  {
   "cell_type": "code",
   "execution_count": 18,
   "id": "4e613bc5",
   "metadata": {},
   "outputs": [
    {
     "name": "stdout",
     "output_type": "stream",
     "text": [
      "Valor objetivo (MX): 16.0\n",
      "T1  s_m1= 31.0   s_m2= 41.0   delay= 13.0\n",
      "T2  s_m1= 25.0   s_m2= 33.0   delay= 16.0\n",
      "T3  s_m1= 15.0   s_m2= 26.0   delay=  0.0\n",
      "T4  s_m1=  7.0   s_m2= 16.0   delay= -0.0\n",
      "T5  s_m1= -0.0   s_m2=  7.0   delay= -0.0\n",
      "END = 53.0\n"
     ]
    }
   ],
   "source": [
    "print(\"Valor objetivo (MX):\", pe.value(model.MX))\n",
    "for t in model.t:\n",
    "    print(\n",
    "        f\"{t:>2s}  s_m1={pe.value(model.S[t,'m1']):5.1f}   \"\n",
    "        f\"s_m2={pe.value(model.S[t,'m2']):5.1f}   \"\n",
    "        f\"delay={pe.value(model.P[t]):5.1f}\"\n",
    "    )\n",
    "print(\"END =\", pe.value(model.END))"
   ]
  }
 ],
 "metadata": {
  "kernelspec": {
   "display_name": "base",
   "language": "python",
   "name": "python3"
  },
  "language_info": {
   "codemirror_mode": {
    "name": "ipython",
    "version": 3
   },
   "file_extension": ".py",
   "mimetype": "text/x-python",
   "name": "python",
   "nbconvert_exporter": "python",
   "pygments_lexer": "ipython3",
   "version": "3.11.4"
  }
 },
 "nbformat": 4,
 "nbformat_minor": 5
}
