{
 "cells": [
  {
   "cell_type": "code",
   "execution_count": 17,
   "id": "3856aa66",
   "metadata": {},
   "outputs": [],
   "source": [
    "import pyomo.environ as pe\n",
    "import pyomo.opt as po"
   ]
  },
  {
   "cell_type": "markdown",
   "id": "484f983d",
   "metadata": {},
   "source": [
    "### Problema Car Renting \n",
    "\n",
    "Cristina Hernández, Macarena Vargas, Guillermo Ruiz, Beatriz Jiménez. 3ºIMAT B "
   ]
  },
  {
   "cell_type": "markdown",
   "id": "f5cd646d",
   "metadata": {},
   "source": [
    "Se plantea como variables binarias. \n",
    "xij = 1 o 0 . En cada pais i, cada coche j, elijo o no el coche (variable binaria)\n",
    "\n",
    "Parámetros: \n",
    "- coste de alquiler de cada coche en cada país \n",
    "\n",
    "Restricciones (todas las lógicas preposicionales del problema)\n",
    "- coste de 25€ por cada cambio \n",
    "- un coche por país (solo puede valer 1 coche 1, y los otros 2 deben valer 0 )\n",
    "- empieza en españa y termina en italia \n",
    "\n",
    "\n",
    "\n",
    "Función objetivo : minimizar los costes \n"
   ]
  },
  {
   "cell_type": "code",
   "execution_count": 18,
   "id": "a1000caa",
   "metadata": {},
   "outputs": [],
   "source": [
    "modelo = pe.ConcreteModel()"
   ]
  },
  {
   "cell_type": "markdown",
   "id": "9546e641",
   "metadata": {},
   "source": [
    "#### Parametros\n",
    "$i$: paises\n",
    "$j$: coches"
   ]
  },
  {
   "cell_type": "code",
   "execution_count": 19,
   "id": "838d350d",
   "metadata": {},
   "outputs": [],
   "source": [
    "modelo.paises = pe.Set(initialize=['Spain', 'France', 'Germany', 'Austria', 'Switzerland','Italy'])\n",
    "modelo.coches = pe.Set(initialize=['Car1', 'Car2', 'Car3'])\n",
    "\n"
   ]
  },
  {
   "cell_type": "markdown",
   "id": "1df8b3e6",
   "metadata": {},
   "source": [
    "#### Parametros\n",
    "\n",
    "$c_{ij}$: coste de combustible de, en cada pais i, el tipo de coche j $j$ [€/unit] "
   ]
  },
  {
   "cell_type": "code",
   "execution_count": 20,
   "id": "b8f281b8",
   "metadata": {},
   "outputs": [],
   "source": [
    "combustible_dict = {\n",
    "    ('Spain','Car1'):160, ('France','Car1'):210, ('Germany','Car1'):180, ('Austria','Car1'):110, ('Switzerland','Car1'):85,  ('Italy','Car1'):170,\n",
    "    ('Spain','Car2'):120, ('France','Car2'):240, ('Germany','Car2'):165, ('Austria','Car2'):135, ('Switzerland','Car2'):100, ('Italy','Car2'):160,\n",
    "    ('Spain','Car3'):150, ('France','Car3'):200, ('Germany','Car3'):175, ('Austria','Car3'):140, ('Switzerland','Car3'):115, ('Italy','Car3'):135,\n",
    "}\n",
    "modelo.combustible_coche_pais = pe.Param(modelo.paises, modelo.coches, initialize=combustible_dict)\n",
    "modelo.coste_cambio = pe.Param(initialize=25)\n"
   ]
  },
  {
   "cell_type": "markdown",
   "id": "fbfc57bf",
   "metadata": {},
   "source": [
    "#### Variables\n",
    "\n",
    "$coche_{ij}$: 1 si se ha elegido el coche $j$ en el pais $i$ , 0 en caso contrario[bool]\n"
   ]
  },
  {
   "cell_type": "code",
   "execution_count": 21,
   "id": "188d5bc4",
   "metadata": {},
   "outputs": [],
   "source": [
    "\n",
    "modelo.coche_pais = pe.Var(modelo.paises, modelo.coches, within=pe.Binary)"
   ]
  },
  {
   "cell_type": "markdown",
   "id": "a4593574",
   "metadata": {},
   "source": [
    "$cambio_{i}$: 1 si al entrar en el pais $i$ se cambia de coche respecto al pais anterior, 0 en caso contrario [bool]"
   ]
  },
  {
   "cell_type": "code",
   "execution_count": 22,
   "id": "6c4bf105",
   "metadata": {},
   "outputs": [],
   "source": [
    "#variable binaria que vale 1 si se ha cambiado de coche entre el pais anterior y este y 0 en caso contrario\n",
    "modelo.cambio_pais = pe.Var(['France', 'Germany', 'Austria', 'Switzerland','Italy'], within=pe.Binary)"
   ]
  },
  {
   "cell_type": "markdown",
   "id": "f8e82b1e",
   "metadata": {},
   "source": [
    "#### Objective Function\n",
    "\n",
    "min $\\sum_{i} \\sum_{j}(c_{ij} * coche_{ij} ) + \\sum_{i}(C *cambio_{i} )$\n",
    "\n"
   ]
  },
  {
   "cell_type": "code",
   "execution_count": 23,
   "id": "47a2e566",
   "metadata": {},
   "outputs": [],
   "source": [
    "def funcion_objetivo(modelo):\n",
    "    #queremos minimizar la suma del combustible gastado y los costes de cambio de coche\n",
    "\n",
    "    # el combustible = combustible por coche por pais * si se ha elegido ese coche en ese pais\n",
    "    combustible = sum(modelo.combustible_coche_pais[i, k] * modelo.coche_pais[i, k] for i in modelo.paises for k in modelo.coches)\n",
    "\n",
    "    #cambios = coste de cambio * si se ha cambiado de coche en ese pais\n",
    "    cambios = sum(modelo.coste_cambio * modelo.cambio_pais[i] for i in modelo.cambio_pais)\n",
    "    return combustible + cambios\n",
    "\n",
    "modelo.coste = pe.Objective(rule=funcion_objetivo, sense=pe.minimize)\n"
   ]
  },
  {
   "cell_type": "markdown",
   "id": "36c7e105",
   "metadata": {},
   "source": [
    "RESTRICCIONES"
   ]
  },
  {
   "cell_type": "markdown",
   "id": "46b421a9",
   "metadata": {},
   "source": [
    "Restricción 1: Solo puede haber un coche por país\n",
    "\n",
    "$\\sum_{j}x_{ij}=1 \\quad \\forall i$"
   ]
  },
  {
   "cell_type": "code",
   "execution_count": 24,
   "id": "d400c033",
   "metadata": {},
   "outputs": [],
   "source": [
    "#restriccion de un solo coche por pais\n",
    "def un_coche_por_pais(modelo, i):\n",
    "    return sum(modelo.coche_pais[i, k] for k in modelo.coches) == 1\n",
    "\n",
    "modelo.AsignacionUnica = pe.Constraint(modelo.paises, rule=un_coche_por_pais)"
   ]
  },
  {
   "cell_type": "markdown",
   "id": "b9b9f748",
   "metadata": {},
   "source": [
    "Restricción 2: El cambio de coche es la diferencia entre si se cambia antre el coche anterior y este. \n",
    "\n",
    "$cambio_{i} \\ge coche_{ij} - coche_{i-1, j} \\quad$"
   ]
  },
  {
   "cell_type": "code",
   "execution_count": 25,
   "id": "1b7a493b",
   "metadata": {},
   "outputs": [],
   "source": [
    "#restriccion de cambio de coche\n",
    "diccionario_paises_anterior = {'France':'Spain', 'Germany':'France', 'Austria':'Germany', 'Switzerland':'Austria', 'Italy':'Switzerland'}\n",
    "# aplicamos la restriccion coche_pais[i,k]-coche_pais[i,k-1]>=0 \n",
    "\n",
    "def cambio_mayor_igual(modelo, coche, pais):\n",
    "    # Solo desde el 2º país (donde existe cambio_pais[i])\n",
    "    if pais not in modelo.cambio_pais:\n",
    "        return pe.Constraint.Skip\n",
    "    # Detecta 0→1; con asignación única por país, basta para detectar el cambio\n",
    "    return modelo.cambio_pais[pais] >= modelo.coche_pais[pais, coche] - modelo.coche_pais[diccionario_paises_anterior[pais], coche]\n",
    "\n",
    "modelo.cambio_mayor_igual = pe.Constraint(modelo.coches, modelo.paises, rule=cambio_mayor_igual)\n"
   ]
  },
  {
   "cell_type": "markdown",
   "id": "80a90f51",
   "metadata": {},
   "source": [
    "Resolvemos el problema "
   ]
  },
  {
   "cell_type": "code",
   "execution_count": 26,
   "id": "121a22d8",
   "metadata": {},
   "outputs": [
    {
     "name": "stdout",
     "output_type": "stream",
     "text": [
      "Estado de la optimización: ok\n",
      "Condición de terminación: optimal\n"
     ]
    }
   ],
   "source": [
    "solver = po.SolverFactory('gurobi')\n",
    "resultado = solver.solve(modelo)\n",
    "\n",
    "# Mostrar estado de la optimización\n",
    "print (\"Estado de la optimización:\", resultado.solver.status)\n",
    "print (\"Condición de terminación:\", resultado.solver.termination_condition)\n",
    "\n"
   ]
  },
  {
   "cell_type": "code",
   "execution_count": 27,
   "id": "85645e65",
   "metadata": {},
   "outputs": [
    {
     "name": "stdout",
     "output_type": "stream",
     "text": [
      "Coste optimo: 890.0\n"
     ]
    }
   ],
   "source": [
    "print(\"Coste optimo:\", pe.value(modelo.coste))"
   ]
  },
  {
   "cell_type": "code",
   "execution_count": 28,
   "id": "d9e73fe0",
   "metadata": {},
   "outputs": [
    {
     "name": "stdout",
     "output_type": "stream",
     "text": [
      "En Spain se alquila el Car2\n",
      "En France se alquila el Car1\n",
      "En Germany se alquila el Car1\n",
      "En Austria se alquila el Car1\n",
      "En Switzerland se alquila el Car1\n",
      "En Italy se alquila el Car3\n"
     ]
    }
   ],
   "source": [
    "# Mostrar la asignación de coches por país\n",
    "for i in modelo.paises:\n",
    "    for k in modelo.coches:\n",
    "        if pe.value(modelo.coche_pais[i, k]) > 0.5:  # Si la variable es 1 (o muy cercana a 1)\n",
    "            print(f\"En {i} se alquila el {k}\")"
   ]
  },
  {
   "cell_type": "code",
   "execution_count": 29,
   "id": "7b26d3a5",
   "metadata": {},
   "outputs": [
    {
     "name": "stdout",
     "output_type": "stream",
     "text": [
      "2 Set Declarations\n",
      "    coches : Size=1, Index=None, Ordered=Insertion\n",
      "        Key  : Dimen : Domain : Size : Members\n",
      "        None :     1 :    Any :    3 : {'Car1', 'Car2', 'Car3'}\n",
      "    paises : Size=1, Index=None, Ordered=Insertion\n",
      "        Key  : Dimen : Domain : Size : Members\n",
      "        None :     1 :    Any :    6 : {'Spain', 'France', 'Germany', 'Austria', 'Switzerland', 'Italy'}\n",
      "\n",
      "2 Param Declarations\n",
      "    combustible_coche_pais : Size=18, Index=paises*coches, Domain=Any, Default=None, Mutable=False\n",
      "        Key                     : Value\n",
      "            ('Austria', 'Car1') :   110\n",
      "            ('Austria', 'Car2') :   135\n",
      "            ('Austria', 'Car3') :   140\n",
      "             ('France', 'Car1') :   210\n",
      "             ('France', 'Car2') :   240\n",
      "             ('France', 'Car3') :   200\n",
      "            ('Germany', 'Car1') :   180\n",
      "            ('Germany', 'Car2') :   165\n",
      "            ('Germany', 'Car3') :   175\n",
      "              ('Italy', 'Car1') :   170\n",
      "              ('Italy', 'Car2') :   160\n",
      "              ('Italy', 'Car3') :   135\n",
      "              ('Spain', 'Car1') :   160\n",
      "              ('Spain', 'Car2') :   120\n",
      "              ('Spain', 'Car3') :   150\n",
      "        ('Switzerland', 'Car1') :    85\n",
      "        ('Switzerland', 'Car2') :   100\n",
      "        ('Switzerland', 'Car3') :   115\n",
      "    coste_cambio : Size=1, Index=None, Domain=Any, Default=None, Mutable=False\n",
      "        Key  : Value\n",
      "        None :    25\n",
      "\n",
      "2 Var Declarations\n",
      "    cambio_pais : Size=5, Index={France, Germany, Austria, Switzerland, Italy}\n",
      "        Key         : Lower : Value : Upper : Fixed : Stale : Domain\n",
      "            Austria :     0 :  -0.0 :     1 : False : False : Binary\n",
      "             France :     0 :   1.0 :     1 : False : False : Binary\n",
      "            Germany :     0 :  -0.0 :     1 : False : False : Binary\n",
      "              Italy :     0 :   1.0 :     1 : False : False : Binary\n",
      "        Switzerland :     0 :  -0.0 :     1 : False : False : Binary\n",
      "    coche_pais : Size=18, Index=paises*coches\n",
      "        Key                     : Lower : Value : Upper : Fixed : Stale : Domain\n",
      "            ('Austria', 'Car1') :     0 :   1.0 :     1 : False : False : Binary\n",
      "            ('Austria', 'Car2') :     0 :  -0.0 :     1 : False : False : Binary\n",
      "            ('Austria', 'Car3') :     0 :  -0.0 :     1 : False : False : Binary\n",
      "             ('France', 'Car1') :     0 :   1.0 :     1 : False : False : Binary\n",
      "             ('France', 'Car2') :     0 :  -0.0 :     1 : False : False : Binary\n",
      "             ('France', 'Car3') :     0 :  -0.0 :     1 : False : False : Binary\n",
      "            ('Germany', 'Car1') :     0 :   1.0 :     1 : False : False : Binary\n",
      "            ('Germany', 'Car2') :     0 :  -0.0 :     1 : False : False : Binary\n",
      "            ('Germany', 'Car3') :     0 :  -0.0 :     1 : False : False : Binary\n",
      "              ('Italy', 'Car1') :     0 :   0.0 :     1 : False : False : Binary\n",
      "              ('Italy', 'Car2') :     0 :   0.0 :     1 : False : False : Binary\n",
      "              ('Italy', 'Car3') :     0 :   1.0 :     1 : False : False : Binary\n",
      "              ('Spain', 'Car1') :     0 :  -0.0 :     1 : False : False : Binary\n",
      "              ('Spain', 'Car2') :     0 :   1.0 :     1 : False : False : Binary\n",
      "              ('Spain', 'Car3') :     0 :  -0.0 :     1 : False : False : Binary\n",
      "        ('Switzerland', 'Car1') :     0 :   1.0 :     1 : False : False : Binary\n",
      "        ('Switzerland', 'Car2') :     0 :  -0.0 :     1 : False : False : Binary\n",
      "        ('Switzerland', 'Car3') :     0 :  -0.0 :     1 : False : False : Binary\n",
      "\n",
      "1 Objective Declarations\n",
      "    coste : Size=1, Index=None, Active=True\n",
      "        Key  : Active : Sense    : Expression\n",
      "        None :   True : minimize : 160*coche_pais[Spain,Car1] + 120*coche_pais[Spain,Car2] + 150*coche_pais[Spain,Car3] + 210*coche_pais[France,Car1] + 240*coche_pais[France,Car2] + 200*coche_pais[France,Car3] + 180*coche_pais[Germany,Car1] + 165*coche_pais[Germany,Car2] + 175*coche_pais[Germany,Car3] + 110*coche_pais[Austria,Car1] + 135*coche_pais[Austria,Car2] + 140*coche_pais[Austria,Car3] + 85*coche_pais[Switzerland,Car1] + 100*coche_pais[Switzerland,Car2] + 115*coche_pais[Switzerland,Car3] + 170*coche_pais[Italy,Car1] + 160*coche_pais[Italy,Car2] + 135*coche_pais[Italy,Car3] + 25*cambio_pais[France] + 25*cambio_pais[Germany] + 25*cambio_pais[Austria] + 25*cambio_pais[Switzerland] + 25*cambio_pais[Italy]\n",
      "\n",
      "2 Constraint Declarations\n",
      "    AsignacionUnica : Size=6, Index=paises, Active=True\n",
      "        Key         : Lower : Body                                                                                       : Upper : Active\n",
      "            Austria :   1.0 :             coche_pais[Austria,Car1] + coche_pais[Austria,Car2] + coche_pais[Austria,Car3] :   1.0 :   True\n",
      "             France :   1.0 :                coche_pais[France,Car1] + coche_pais[France,Car2] + coche_pais[France,Car3] :   1.0 :   True\n",
      "            Germany :   1.0 :             coche_pais[Germany,Car1] + coche_pais[Germany,Car2] + coche_pais[Germany,Car3] :   1.0 :   True\n",
      "              Italy :   1.0 :                   coche_pais[Italy,Car1] + coche_pais[Italy,Car2] + coche_pais[Italy,Car3] :   1.0 :   True\n",
      "              Spain :   1.0 :                   coche_pais[Spain,Car1] + coche_pais[Spain,Car2] + coche_pais[Spain,Car3] :   1.0 :   True\n",
      "        Switzerland :   1.0 : coche_pais[Switzerland,Car1] + coche_pais[Switzerland,Car2] + coche_pais[Switzerland,Car3] :   1.0 :   True\n",
      "    cambio_mayor_igual : Size=15, Index=coches*paises, Active=True\n",
      "        Key                     : Lower : Body                                                                               : Upper : Active\n",
      "            ('Car1', 'Austria') :  -Inf :         coche_pais[Austria,Car1] - coche_pais[Germany,Car1] - cambio_pais[Austria] :   0.0 :   True\n",
      "             ('Car1', 'France') :  -Inf :             coche_pais[France,Car1] - coche_pais[Spain,Car1] - cambio_pais[France] :   0.0 :   True\n",
      "            ('Car1', 'Germany') :  -Inf :          coche_pais[Germany,Car1] - coche_pais[France,Car1] - cambio_pais[Germany] :   0.0 :   True\n",
      "              ('Car1', 'Italy') :  -Inf :         coche_pais[Italy,Car1] - coche_pais[Switzerland,Car1] - cambio_pais[Italy] :   0.0 :   True\n",
      "        ('Car1', 'Switzerland') :  -Inf : coche_pais[Switzerland,Car1] - coche_pais[Austria,Car1] - cambio_pais[Switzerland] :   0.0 :   True\n",
      "            ('Car2', 'Austria') :  -Inf :         coche_pais[Austria,Car2] - coche_pais[Germany,Car2] - cambio_pais[Austria] :   0.0 :   True\n",
      "             ('Car2', 'France') :  -Inf :             coche_pais[France,Car2] - coche_pais[Spain,Car2] - cambio_pais[France] :   0.0 :   True\n",
      "            ('Car2', 'Germany') :  -Inf :          coche_pais[Germany,Car2] - coche_pais[France,Car2] - cambio_pais[Germany] :   0.0 :   True\n",
      "              ('Car2', 'Italy') :  -Inf :         coche_pais[Italy,Car2] - coche_pais[Switzerland,Car2] - cambio_pais[Italy] :   0.0 :   True\n",
      "        ('Car2', 'Switzerland') :  -Inf : coche_pais[Switzerland,Car2] - coche_pais[Austria,Car2] - cambio_pais[Switzerland] :   0.0 :   True\n",
      "            ('Car3', 'Austria') :  -Inf :         coche_pais[Austria,Car3] - coche_pais[Germany,Car3] - cambio_pais[Austria] :   0.0 :   True\n",
      "             ('Car3', 'France') :  -Inf :             coche_pais[France,Car3] - coche_pais[Spain,Car3] - cambio_pais[France] :   0.0 :   True\n",
      "            ('Car3', 'Germany') :  -Inf :          coche_pais[Germany,Car3] - coche_pais[France,Car3] - cambio_pais[Germany] :   0.0 :   True\n",
      "              ('Car3', 'Italy') :  -Inf :         coche_pais[Italy,Car3] - coche_pais[Switzerland,Car3] - cambio_pais[Italy] :   0.0 :   True\n",
      "        ('Car3', 'Switzerland') :  -Inf : coche_pais[Switzerland,Car3] - coche_pais[Austria,Car3] - cambio_pais[Switzerland] :   0.0 :   True\n",
      "\n",
      "9 Declarations: paises coches combustible_coche_pais coste_cambio coche_pais cambio_pais coste AsignacionUnica cambio_mayor_igual\n"
     ]
    }
   ],
   "source": [
    "modelo.pprint()"
   ]
  },
  {
   "cell_type": "code",
   "execution_count": 30,
   "id": "77d9735f",
   "metadata": {},
   "outputs": [
    {
     "name": "stdout",
     "output_type": "stream",
     "text": [
      "Model unknown\n",
      "\n",
      "  Variables:\n",
      "    coche_pais : Size=18, Index=paises*coches\n",
      "        Key                     : Lower : Value : Upper : Fixed : Stale : Domain\n",
      "            ('Austria', 'Car1') :     0 :   1.0 :     1 : False : False : Binary\n",
      "            ('Austria', 'Car2') :     0 :  -0.0 :     1 : False : False : Binary\n",
      "            ('Austria', 'Car3') :     0 :  -0.0 :     1 : False : False : Binary\n",
      "             ('France', 'Car1') :     0 :   1.0 :     1 : False : False : Binary\n",
      "             ('France', 'Car2') :     0 :  -0.0 :     1 : False : False : Binary\n",
      "             ('France', 'Car3') :     0 :  -0.0 :     1 : False : False : Binary\n",
      "            ('Germany', 'Car1') :     0 :   1.0 :     1 : False : False : Binary\n",
      "            ('Germany', 'Car2') :     0 :  -0.0 :     1 : False : False : Binary\n",
      "            ('Germany', 'Car3') :     0 :  -0.0 :     1 : False : False : Binary\n",
      "              ('Italy', 'Car1') :     0 :   0.0 :     1 : False : False : Binary\n",
      "              ('Italy', 'Car2') :     0 :   0.0 :     1 : False : False : Binary\n",
      "              ('Italy', 'Car3') :     0 :   1.0 :     1 : False : False : Binary\n",
      "              ('Spain', 'Car1') :     0 :  -0.0 :     1 : False : False : Binary\n",
      "              ('Spain', 'Car2') :     0 :   1.0 :     1 : False : False : Binary\n",
      "              ('Spain', 'Car3') :     0 :  -0.0 :     1 : False : False : Binary\n",
      "        ('Switzerland', 'Car1') :     0 :   1.0 :     1 : False : False : Binary\n",
      "        ('Switzerland', 'Car2') :     0 :  -0.0 :     1 : False : False : Binary\n",
      "        ('Switzerland', 'Car3') :     0 :  -0.0 :     1 : False : False : Binary\n",
      "    cambio_pais : Size=5, Index={France, Germany, Austria, Switzerland, Italy}\n",
      "        Key         : Lower : Value : Upper : Fixed : Stale : Domain\n",
      "            Austria :     0 :  -0.0 :     1 : False : False : Binary\n",
      "             France :     0 :   1.0 :     1 : False : False : Binary\n",
      "            Germany :     0 :  -0.0 :     1 : False : False : Binary\n",
      "              Italy :     0 :   1.0 :     1 : False : False : Binary\n",
      "        Switzerland :     0 :  -0.0 :     1 : False : False : Binary\n",
      "\n",
      "  Objectives:\n",
      "    coste : Size=1, Index=None, Active=True\n",
      "        Key  : Active : Value\n",
      "        None :   True : 890.0\n",
      "\n",
      "  Constraints:\n",
      "    AsignacionUnica : Size=6\n",
      "        Key         : Lower : Body : Upper\n",
      "            Austria :   1.0 :  1.0 :   1.0\n",
      "             France :   1.0 :  1.0 :   1.0\n",
      "            Germany :   1.0 :  1.0 :   1.0\n",
      "              Italy :   1.0 :  1.0 :   1.0\n",
      "              Spain :   1.0 :  1.0 :   1.0\n",
      "        Switzerland :   1.0 :  1.0 :   1.0\n",
      "    cambio_mayor_igual : Size=15\n",
      "        Key                     : Lower : Body : Upper\n",
      "            ('Car1', 'Austria') :  None :  0.0 :   0.0\n",
      "             ('Car1', 'France') :  None :  0.0 :   0.0\n",
      "            ('Car1', 'Germany') :  None :  0.0 :   0.0\n",
      "              ('Car1', 'Italy') :  None : -2.0 :   0.0\n",
      "        ('Car1', 'Switzerland') :  None :  0.0 :   0.0\n",
      "            ('Car2', 'Austria') :  None :  0.0 :   0.0\n",
      "             ('Car2', 'France') :  None : -2.0 :   0.0\n",
      "            ('Car2', 'Germany') :  None :  0.0 :   0.0\n",
      "              ('Car2', 'Italy') :  None : -1.0 :   0.0\n",
      "        ('Car2', 'Switzerland') :  None :  0.0 :   0.0\n",
      "            ('Car3', 'Austria') :  None :  0.0 :   0.0\n",
      "             ('Car3', 'France') :  None : -1.0 :   0.0\n",
      "            ('Car3', 'Germany') :  None :  0.0 :   0.0\n",
      "              ('Car3', 'Italy') :  None :  0.0 :   0.0\n",
      "        ('Car3', 'Switzerland') :  None :  0.0 :   0.0\n"
     ]
    }
   ],
   "source": [
    "modelo.display()"
   ]
  }
 ],
 "metadata": {
  "kernelspec": {
   "display_name": "base",
   "language": "python",
   "name": "python3"
  },
  "language_info": {
   "codemirror_mode": {
    "name": "ipython",
    "version": 3
   },
   "file_extension": ".py",
   "mimetype": "text/x-python",
   "name": "python",
   "nbconvert_exporter": "python",
   "pygments_lexer": "ipython3",
   "version": "3.11.4"
  }
 },
 "nbformat": 4,
 "nbformat_minor": 5
}
