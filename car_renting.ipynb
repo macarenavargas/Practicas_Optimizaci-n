{
 "cells": [
  {
   "cell_type": "code",
   "execution_count": 10,
   "id": "3856aa66",
   "metadata": {},
   "outputs": [],
   "source": [
    "import pyomo.environ as pe\n",
    "import pyomo.opt as po"
   ]
  },
  {
   "cell_type": "markdown",
   "id": "484f983d",
   "metadata": {},
   "source": [
    "### Problema Car Renting "
   ]
  },
  {
   "cell_type": "markdown",
   "id": "f5cd646d",
   "metadata": {},
   "source": [
    "Se plantea como variables binarias. \n",
    "xij = 1 o 0 . En cada pais i, cada coche j, elijo o no el coche (variable binaria)\n",
    "\n",
    "Parámetros: \n",
    "- coste de alquiler de cada coche en cada país \n",
    "\n",
    "Restricciones (todas las lógicas preposicionales del problema)\n",
    "- coste de 25€ por cada cambio \n",
    "- un coche por país (solo puede valer 1 coche 1, y los otros 2 deben valer 0 )\n",
    "- empieza en españa y termina en italia \n",
    "\n",
    "\n",
    "\n",
    "Función objetivo : minimizar los costes \n"
   ]
  },
  {
   "cell_type": "code",
   "execution_count": 11,
   "id": "a1000caa",
   "metadata": {},
   "outputs": [],
   "source": [
    "modelo = pe.ConcreteModel()"
   ]
  },
  {
   "cell_type": "markdown",
   "id": "9546e641",
   "metadata": {},
   "source": [
    "SETS "
   ]
  },
  {
   "cell_type": "code",
   "execution_count": 12,
   "id": "838d350d",
   "metadata": {},
   "outputs": [],
   "source": [
    "modelo.paises = pe.Set(initialize=['Spain', 'France', 'Germany', 'Austria', 'Switzerland','Italy'])\n",
    "modelo.coches = pe.Set(initialize=['Car1', 'Car2', 'Car3'])\n",
    "\n"
   ]
  },
  {
   "cell_type": "markdown",
   "id": "1df8b3e6",
   "metadata": {},
   "source": [
    "PARAMETROS"
   ]
  },
  {
   "cell_type": "code",
   "execution_count": 13,
   "id": "b8f281b8",
   "metadata": {},
   "outputs": [],
   "source": [
    "\n",
    "combustible_dict = {\n",
    "    ('Spain','Car1'):160, ('France','Car1'):210, ('Germany','Car1'):180, ('Austria','Car1'):110, ('Switzerland','Car1'):85,  ('Italy','Car1'):170,\n",
    "    ('Spain','Car2'):120, ('France','Car2'):240, ('Germany','Car2'):165, ('Austria','Car2'):135, ('Switzerland','Car2'):100, ('Italy','Car2'):160,\n",
    "    ('Spain','Car3'):150, ('France','Car3'):200, ('Germany','Car3'):175, ('Austria','Car3'):140, ('Switzerland','Car3'):115, ('Italy','Car3'):135,\n",
    "}\n",
    "modelo.combustible_coche_pais = pe.Param(modelo.paises, modelo.coches, initialize=combustible_dict)\n",
    "modelo.coste_cambio = pe.Param(initialize=25)"
   ]
  },
  {
   "cell_type": "markdown",
   "id": "fbfc57bf",
   "metadata": {},
   "source": [
    "VARIABLES"
   ]
  },
  {
   "cell_type": "code",
   "execution_count": 14,
   "id": "188d5bc4",
   "metadata": {},
   "outputs": [],
   "source": [
    "#variable que vale 1 si se ha elegido ese coche en ese pais y 0 en caso contrario\n",
    "modelo.coche_pais = pe.Var(modelo.paises, modelo.coches, within=pe.Binary)\n",
    "#variable binaria qeu vale 1 si se ha cambiado de coche entre el pais anterior y este y 0 en caso contrario\n",
    "modelo.cambio_pais = pe.Var(['France', 'Germany', 'Austria', 'Switzerland','Italy'], within=pe.Binary)"
   ]
  },
  {
   "cell_type": "markdown",
   "id": "f8e82b1e",
   "metadata": {},
   "source": [
    "FUNCIO OBJETIVO\n",
    "\n"
   ]
  },
  {
   "cell_type": "code",
   "execution_count": 15,
   "id": "47a2e566",
   "metadata": {},
   "outputs": [],
   "source": [
    "def funcion_objetivo(modelo):\n",
    "    combustible = sum(modelo.combustible_coche_pais[i, k] * modelo.coche_pais[i, k] for i in modelo.paises for k in modelo.coches)\n",
    "    cambios = sum(modelo.coste_cambio * modelo.cambio_pais[i] for i in modelo.cambio_pais)\n",
    "    return combustible + cambios\n",
    "\n",
    "modelo.coste = pe.Objective(rule=funcion_objetivo, sense=pe.minimize)\n"
   ]
  },
  {
   "cell_type": "markdown",
   "id": "36c7e105",
   "metadata": {},
   "source": [
    "RESTRICCIONES"
   ]
  },
  {
   "cell_type": "code",
   "execution_count": 16,
   "id": "d400c033",
   "metadata": {},
   "outputs": [],
   "source": [
    "#restriccion de un solo coche por pais\n",
    "def un_coche_por_pais(modelo, i):\n",
    "    return sum(modelo.coche_pais[i, k] for k in modelo.coches) == 1\n",
    "\n",
    "modelo.AsignacionUnica = pe.Constraint(modelo.paises, rule=un_coche_por_pais)\n",
    "\n",
    "#restriccion de cambio de coche\n",
    "diccionario_paises_anterior = {'France':'Spain', 'Germany':'France', 'Austria':'Germany', 'Switzerland':'Austria', 'Italy':'Switzerland'}\n",
    "# aplicamos la restriccion cambio_pais[pais] ≥ coche_pais[pais,k] − coche_pais[pais_anterior,k]\n",
    "def cambio_mayor_igual(modelo, coche, pais):\n",
    "    if pais not in modelo.cambio_pais:\n",
    "        return pe.Constraint.Skip\n",
    "    # detecta 0→1\n",
    "    return modelo.cambio_pais[pais] >= modelo.coche_pais[pais, coche] - modelo.coche_pais[diccionario_paises_anterior[pais], coche]\n",
    "\n",
    "modelo.cambio_mayor_igual = pe.Constraint(modelo.coches, modelo.paises, rule=cambio_mayor_igual)\n",
    "\n",
    "\n",
    "\n"
   ]
  },
  {
   "cell_type": "markdown",
   "id": "1cd94b75",
   "metadata": {},
   "source": [
    "RESOLVER\n"
   ]
  },
  {
   "cell_type": "code",
   "execution_count": 17,
   "id": "640f451c",
   "metadata": {},
   "outputs": [],
   "source": [
    "solucionador = po.SolverFactory('gurobi') \n",
    "resultado = solucionador.solve(modelo, tee=False)\n",
    "\n"
   ]
  },
  {
   "cell_type": "markdown",
   "id": "c4db6ec6",
   "metadata": {},
   "source": [
    "RESULTADO\n"
   ]
  },
  {
   "cell_type": "code",
   "execution_count": 18,
   "id": "3be4a408",
   "metadata": {},
   "outputs": [
    {
     "name": "stdout",
     "output_type": "stream",
     "text": [
      "plan optimo:\n",
      "Spain:Car2\n",
      "France:Car1\n",
      "Germany:Car1\n",
      "Austria:Car1\n",
      "Switzerland:Car1\n",
      "Italy:Car3\n",
      "coste total: 890 €\n",
      "numero de cambios: 2 (penalización: 50 €)\n"
     ]
    }
   ],
   "source": [
    "paises_orden = list(modelo.paises.data())\n",
    "coches_orden = list(modelo.coches.data())\n",
    "\n",
    "itinerario = []\n",
    "for i in paises_orden:\n",
    "    k_best = max(coches_orden, key=lambda k: pe.value(modelo.coche_pais[i, k]))\n",
    "    itinerario.append((i, k_best))\n",
    "\n",
    "coste_total = pe.value(modelo.coste)\n",
    "num_cambios = sum(int(round(pe.value(modelo.cambio_pais[i]))) for i in modelo.cambio_pais.index_set())\n",
    "\n",
    "print(\"plan optimo:\")\n",
    "for pais, coche in itinerario:\n",
    "    print(f\"{pais}:{coche}\")\n",
    "print(f\"coste total: {int(round(coste_total))} €\")\n",
    "print(f\"numero de cambios: {num_cambios} (penalización: {num_cambios * pe.value(modelo.coste_cambio)} €)\")"
   ]
  }
 ],
 "metadata": {
  "kernelspec": {
   "display_name": "Python 3",
   "language": "python",
   "name": "python3"
  },
  "language_info": {
   "codemirror_mode": {
    "name": "ipython",
    "version": 3
   },
   "file_extension": ".py",
   "mimetype": "text/x-python",
   "name": "python",
   "nbconvert_exporter": "python",
   "pygments_lexer": "ipython3",
   "version": "3.11.4"
  }
 },
 "nbformat": 4,
 "nbformat_minor": 5
}
