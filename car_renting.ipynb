{
 "cells": [
  {
   "cell_type": "code",
   "execution_count": 2,
   "id": "3856aa66",
   "metadata": {},
   "outputs": [
    {
     "ename": "ModuleNotFoundError",
     "evalue": "No module named 'pyomo'",
     "output_type": "error",
     "traceback": [
      "\u001b[1;31m---------------------------------------------------------------------------\u001b[0m",
      "\u001b[1;31mModuleNotFoundError\u001b[0m                       Traceback (most recent call last)",
      "Cell \u001b[1;32mIn[2], line 1\u001b[0m\n\u001b[1;32m----> 1\u001b[0m \u001b[38;5;28;01mimport\u001b[39;00m \u001b[38;5;21;01mpyomo\u001b[39;00m\u001b[38;5;21;01m.\u001b[39;00m\u001b[38;5;21;01menviron\u001b[39;00m \u001b[38;5;28;01mas\u001b[39;00m \u001b[38;5;21;01mpe\u001b[39;00m\n\u001b[0;32m      2\u001b[0m \u001b[38;5;28;01mimport\u001b[39;00m \u001b[38;5;21;01mpyomo\u001b[39;00m\u001b[38;5;21;01m.\u001b[39;00m\u001b[38;5;21;01mopt\u001b[39;00m \u001b[38;5;28;01mas\u001b[39;00m \u001b[38;5;21;01mpo\u001b[39;00m\n",
      "\u001b[1;31mModuleNotFoundError\u001b[0m: No module named 'pyomo'"
     ]
    }
   ],
   "source": [
    "import pyomo.environ as pe\n",
    "import pyomo.opt as po"
   ]
  },
  {
   "cell_type": "markdown",
   "id": "484f983d",
   "metadata": {},
   "source": [
    "### Problema Car Renting "
   ]
  },
  {
   "cell_type": "markdown",
   "id": "f5cd646d",
   "metadata": {},
   "source": [
    "Se plantea como variables binarias. \n",
    "xij = 1 o 0 . En cada pais i, cada coche j, elijo o no el coche (variable binaria)\n",
    "\n",
    "Parámetros: \n",
    "- coste de alquiler de cada coche en cada país \n",
    "\n",
    "Constrains (todas las lógicas preposicionales del problema)\n",
    "- coste de 25€ por cada cambio \n",
    "- un coche por país (solo puede valer 1 coche 1, y los otros 2 deben valer 0 )\n",
    "\n",
    "\n",
    "Función objetivo : minimizar los costes \n"
   ]
  },
  {
   "cell_type": "code",
   "execution_count": null,
   "id": "a1000caa",
   "metadata": {},
   "outputs": [
    {
     "ename": "NameError",
     "evalue": "name 'pe' is not defined",
     "output_type": "error",
     "traceback": [
      "\u001b[1;31m---------------------------------------------------------------------------\u001b[0m",
      "\u001b[1;31mNameError\u001b[0m                                 Traceback (most recent call last)",
      "Cell \u001b[1;32mIn[1], line 1\u001b[0m\n\u001b[1;32m----> 1\u001b[0m model \u001b[38;5;241m=\u001b[39m pe\u001b[38;5;241m.\u001b[39mConcreteModel()\n",
      "\u001b[1;31mNameError\u001b[0m: name 'pe' is not defined"
     ]
    }
   ],
   "source": [
    "modelo = pe.ConcreteModel()"
   ]
  },
  {
   "cell_type": "markdown",
   "id": "9546e641",
   "metadata": {},
   "source": [
    "SETS "
   ]
  },
  {
   "cell_type": "code",
   "execution_count": null,
   "id": "838d350d",
   "metadata": {},
   "outputs": [],
   "source": []
  }
 ],
 "metadata": {
  "kernelspec": {
   "display_name": "base",
   "language": "python",
   "name": "python3"
  },
  "language_info": {
   "codemirror_mode": {
    "name": "ipython",
    "version": 3
   },
   "file_extension": ".py",
   "mimetype": "text/x-python",
   "name": "python",
   "nbconvert_exporter": "python",
   "pygments_lexer": "ipython3",
   "version": "3.11.4"
  }
 },
 "nbformat": 4,
 "nbformat_minor": 5
}
