{
 "cells": [
  {
   "cell_type": "code",
   "execution_count": 2,
   "id": "3856aa66",
   "metadata": {},
   "outputs": [],
   "source": [
    "import pyomo.environ as pe\n",
    "import pyomo.opt as po"
   ]
  },
  {
   "cell_type": "markdown",
   "id": "484f983d",
   "metadata": {},
   "source": [
    "### Problema Car Renting "
   ]
  },
  {
   "cell_type": "markdown",
   "id": "f5cd646d",
   "metadata": {},
   "source": [
    "Se plantea como variables binarias. \n",
    "xij = 1 o 0 . En cada pais i, cada coche j, elijo o no el coche (variable binaria)\n",
    "\n",
    "Parámetros: \n",
    "- coste de alquiler de cada coche en cada país \n",
    "\n",
    "Restricciones (todas las lógicas preposicionales del problema)\n",
    "- coste de 25€ por cada cambio \n",
    "- un coche por país (solo puede valer 1 coche 1, y los otros 2 deben valer 0 )\n",
    "- empieza en españa y termina en italia \n",
    "\n",
    "\n",
    "\n",
    "Función objetivo : minimizar los costes \n"
   ]
  },
  {
   "cell_type": "code",
   "execution_count": 3,
   "id": "a1000caa",
   "metadata": {},
   "outputs": [],
   "source": [
    "modelo = pe.ConcreteModel()"
   ]
  },
  {
   "cell_type": "markdown",
   "id": "9546e641",
   "metadata": {},
   "source": [
    "SETS "
   ]
  },
  {
   "cell_type": "code",
   "execution_count": null,
   "id": "838d350d",
   "metadata": {},
   "outputs": [],
   "source": [
    "modelo.paises = pe.Set(initialize=['Spain', 'France', 'Germany', 'Austria', 'Switzerland','Italy'])\n",
    "modelo.coches = pe.Set(initialize=['Car1', 'Car2', 'Car3'])\n",
    "\n"
   ]
  },
  {
   "cell_type": "markdown",
   "id": "1df8b3e6",
   "metadata": {},
   "source": [
    "PARAMETROS"
   ]
  },
  {
   "cell_type": "code",
   "execution_count": null,
   "id": "b8f281b8",
   "metadata": {},
   "outputs": [],
   "source": [
    "combustible_dict = {\n",
    "    ('Spain','Car1'):160, ('France','Car1'):210, ('Germany','Car1'):180, ('Austria','Car1'):110, ('Switzerland','Car1'):85,  ('Italy','Car1'):170,\n",
    "    ('Spain','Car2'):120, ('France','Car2'):240, ('Germany','Car2'):165, ('Austria','Car2'):135, ('Switzerland','Car2'):100, ('Italy','Car2'):160,\n",
    "    ('Spain','Car3'):150, ('France','Car3'):200, ('Germany','Car3'):175, ('Austria','Car3'):140, ('Switzerland','Car3'):115, ('Italy','Car3'):135,\n",
    "}\n",
    "modelo.combustible_coche_pais = pe.Param(modelo.paises, modelo.coches, initialize=combustible_dict)\n",
    "modelo.coste_cambio = pe.Param(initialize=25)\n"
   ]
  },
  {
   "cell_type": "markdown",
   "id": "fbfc57bf",
   "metadata": {},
   "source": [
    "VARIABLES"
   ]
  },
  {
   "cell_type": "code",
   "execution_count": null,
   "id": "188d5bc4",
   "metadata": {},
   "outputs": [],
   "source": [
    "#variable que vale 1 si se ha elegido ese coche en ese pais y 0 en caso contrario\n",
    "modelo.coche_pais = pe.Var(modelo.paises, modelo.coches, within=pe.Binary)\n",
    "#variable binaria qeu vale 1 si se ha cambiado de coche entre el pais anterior y este y 0 en caso contrario\n",
    "modelo.cambio_pais = pe.Var(['France', 'Germany', 'Austria', 'Switzerland','Italy'], within=pe.Binary)"
   ]
  },
  {
   "cell_type": "markdown",
   "id": "f8e82b1e",
   "metadata": {},
   "source": [
    "FUNCIO OBJETIVO\n",
    "\n"
   ]
  },
  {
   "cell_type": "code",
   "execution_count": null,
   "id": "47a2e566",
   "metadata": {},
   "outputs": [],
   "source": [
    "def funcion_objetivo(modelo):\n",
    "    combustible = sum(modelo.combustible_coche_pais[i, k] * modelo.coche_pais[i, k] for i in modelo.paises for k in modelo.coches)\n",
    "    cambios = sum(modelo.coste_cambio * modelo.cambio_pais[i] for i in modelo.cambio_pais)\n",
    "    return combustible + cambios\n",
    "\n",
    "modelo.coste = pe.Objective(rule=funcion_objetivo, sense=pe.minimize)\n"
   ]
  },
  {
   "cell_type": "markdown",
   "id": "36c7e105",
   "metadata": {},
   "source": [
    "RESTRICCIONES"
   ]
  },
  {
   "cell_type": "code",
   "execution_count": null,
   "id": "d400c033",
   "metadata": {},
   "outputs": [],
   "source": [
    "#restriccion de un solo coche por pais\n",
    "def un_coche_por_pais(modelo, i):\n",
    "    return sum(modelo.coche_pais[i, k] for k in modelo.coches) == 1\n",
    "\n",
    "modelo.AsignacionUnica = pe.Constraint(modelo.paises, rule=un_coche_por_pais)\n",
    "\n",
    "#restriccion de cambio de coche\n",
    "diccionario_paises_anterior = {'France':'Spain', 'Germany':'France', 'Austria':'Germany', 'Switzerland':'Austria', 'Italy':'Switzerland'}\n",
    "# aplicamos la restriccion coche_pais[i,k]-coche_pais[i,k-1]>=0 \n",
    "def cambio_mayor_igual(modelo, coche, pais):\n",
    "    # Solo desde el 2º país (donde existe cambio_pais[i])\n",
    "    if pais not in modelo.cambio_pais:\n",
    "        return pe.Constraint.Skip\n",
    "    # Detecta 0→1; con asignación única por país, basta para detectar el cambio\n",
    "    return modelo.cambio_pais[pais] >= modelo.coche_pais[pais, coche] - modelo.coche_pais[diccionario_paises_anterior[pais], coche]\n",
    "\n",
    "modelo.cambio_mayor_igual = pe.Constraint(modelo.coches, modelo.paises, rule=cambio_mayor_igual)\n"
   ]
  }
 ],
 "metadata": {
  "kernelspec": {
   "display_name": "Python 3",
   "language": "python",
   "name": "python3"
  },
  "language_info": {
   "codemirror_mode": {
    "name": "ipython",
    "version": 3
   },
   "file_extension": ".py",
   "mimetype": "text/x-python",
   "name": "python",
   "nbconvert_exporter": "python",
   "pygments_lexer": "ipython3",
   "version": "3.11.4"
  }
 },
 "nbformat": 4,
 "nbformat_minor": 5
}
