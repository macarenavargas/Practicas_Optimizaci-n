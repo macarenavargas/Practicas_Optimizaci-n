{
 "cells": [
  {
   "cell_type": "markdown",
   "id": "a572d262",
   "metadata": {},
   "source": [
    "# Two pipelines Problem\n",
    "\n",
    "Cristina Hernández, Beatriz Jimenez, Macarena Vargas, Guillermo Ruiz"
   ]
  },
  {
   "cell_type": "code",
   "execution_count": 1,
   "id": "0e6593f0",
   "metadata": {},
   "outputs": [],
   "source": [
    "import pyomo.environ as pe\n",
    "import pyomo.opt as po\n",
    "from pyomo.environ import NonNegativeReals, Binary"
   ]
  },
  {
   "cell_type": "markdown",
   "id": "f5147f3f",
   "metadata": {},
   "source": [
    "#### Create the model "
   ]
  },
  {
   "cell_type": "code",
   "execution_count": 2,
   "id": "c0b19cda",
   "metadata": {},
   "outputs": [],
   "source": [
    "model = pe.ConcreteModel()"
   ]
  },
  {
   "cell_type": "markdown",
   "id": "fb5194e5",
   "metadata": {},
   "source": [
    "#### Sets\n",
    "\n",
    "\n",
    "${N}$ : Network nodes = {A, B, C, D, E, F, G, P1, P2}"
   ]
  },
  {
   "cell_type": "code",
   "execution_count": 3,
   "id": "6f23e03f",
   "metadata": {},
   "outputs": [],
   "source": [
    "model.N = pe.Set(initialize = [\"A\", \"B\", \"C\", \"D\", \"E\", \"F\", \"G\", \"P1\", \"P2\"])"
   ]
  },
  {
   "cell_type": "markdown",
   "id": "3af00651",
   "metadata": {},
   "source": [
    "${R}$ : Subset of Refineries  = {A, B, C, D, E, F, G}"
   ]
  },
  {
   "cell_type": "code",
   "execution_count": 4,
   "id": "94f6585a",
   "metadata": {},
   "outputs": [],
   "source": [
    "model.R = pe.Set(initialize = [\"A\", \"B\", \"C\", \"D\", \"E\", \"F\", \"G\"])"
   ]
  },
  {
   "cell_type": "markdown",
   "id": "4edb1936",
   "metadata": {},
   "source": [
    "\n",
    "${P}$ : Subset of Pipelines = {P1, P2}"
   ]
  },
  {
   "cell_type": "code",
   "execution_count": 5,
   "id": "09789bb4",
   "metadata": {},
   "outputs": [],
   "source": [
    "model.P = pe.Set(initialize = [\"P1\", \"P2\"])"
   ]
  },
  {
   "cell_type": "markdown",
   "id": "5aef53da",
   "metadata": {},
   "source": [
    "\n",
    "${E_{i, j}}$ : existing connection between refinery i and refinery j"
   ]
  },
  {
   "cell_type": "code",
   "execution_count": 6,
   "id": "7122c168",
   "metadata": {},
   "outputs": [],
   "source": [
    "E_undirected = [\n",
    "    (\"A\",\"B\"), (\"B\",\"C\"), (\"C\",\"D\"), (\"D\",\"E\"), (\"E\",\"F\"), (\"F\",\"A\"),\n",
    "    (\"A\",\"G\"), (\"B\",\"G\"), (\"C\",\"G\"), (\"D\",\"G\"), (\"E\",\"G\"), (\"F\",\"G\")\n",
    "]\n",
    "\n",
    "# Hacemos E bidireccional\n",
    "E_bidir = set()\n",
    "for (i,j) in E_undirected:\n",
    "    E_bidir.add((i,j))\n",
    "    E_bidir.add((j,i))          # arco inverso con misma capacidad\n",
    "\n",
    "model.E = pe.Set(dimen=2, initialize=E_bidir)"
   ]
  },
  {
   "cell_type": "markdown",
   "id": "be095b32",
   "metadata": {},
   "source": [
    "${r_i}$ : Refineries you can reach from the refinery i"
   ]
  },
  {
   "cell_type": "code",
   "execution_count": 7,
   "id": "6e7f2474",
   "metadata": {},
   "outputs": [],
   "source": [
    "def outgoing_init(model, i):  # r(i)\n",
    "    return [j for (ii,j) in model.E if ii == i]\n",
    "\n",
    "model.r      = pe.Set(model.R, initialize=outgoing_init)"
   ]
  },
  {
   "cell_type": "markdown",
   "id": "d0b6ed08",
   "metadata": {},
   "source": [
    "${r'_i}$ : Refineries that can reach the refinery i"
   ]
  },
  {
   "cell_type": "code",
   "execution_count": 8,
   "id": "5c3746c3",
   "metadata": {},
   "outputs": [],
   "source": [
    "def incoming_init(model, i):  # r'(i)\n",
    "    return [ii for (ii,j) in model.E if j == i]\n",
    "\n",
    "model.rprime = pe.Set(model.R, initialize=incoming_init)"
   ]
  },
  {
   "cell_type": "markdown",
   "id": "3745025b",
   "metadata": {},
   "source": [
    "#### Parameters\n",
    "\n",
    "${Q_{i, j}}$ : available capacity between refinery i and refinery j [l/s]"
   ]
  },
  {
   "cell_type": "code",
   "execution_count": 9,
   "id": "af6f70c0",
   "metadata": {},
   "outputs": [],
   "source": [
    "Q_data = {\n",
    "    (\"A\",\"B\"): 600, (\"B\",\"C\"): 700, (\"C\",\"D\"): 700, (\"D\",\"E\"): 650,\n",
    "    (\"E\",\"F\"): 550, (\"F\",\"A\"): 700, (\"A\",\"G\"): 850, (\"B\",\"G\"): 950, \n",
    "    (\"C\",\"G\"): 600, (\"D\",\"G\"): 550, (\"E\",\"G\"): 700, (\"F\",\"G\"): 650\n",
    "}\n",
    "\n",
    "Q_bidir = {}\n",
    "for (i,j), cap in Q_data.items():\n",
    "    Q_bidir[(i,j)] = cap\n",
    "    Q_bidir[(j,i)] = cap\n",
    "\n",
    "model.Q = pe.Param(model.E, initialize=Q_bidir)"
   ]
  },
  {
   "cell_type": "markdown",
   "id": "19200331",
   "metadata": {},
   "source": [
    "${D_{r}}$ : contracted capacity at refinery r [l/s]"
   ]
  },
  {
   "cell_type": "code",
   "execution_count": 10,
   "id": "e6cfae47",
   "metadata": {},
   "outputs": [],
   "source": [
    "demand_data = {\"A\": 700, \"B\": 650, \"C\": 450, \"D\": 570, \"E\": 490, \"F\": 630, \"G\": 810}\n",
    "\n",
    "model.D = pe.Param(model.R, initialize = demand_data)"
   ]
  },
  {
   "cell_type": "markdown",
   "id": "f0ba37cb",
   "metadata": {},
   "source": [
    "${PD_{r}}$ :  unmet demand penalty at refinery r [€/l/s]"
   ]
  },
  {
   "cell_type": "code",
   "execution_count": 11,
   "id": "9bbe8bfd",
   "metadata": {},
   "outputs": [],
   "source": [
    "penalty_data = {\"A\": 300, \"B\": 300 , \"C\": 400, \"D\": 300, \"E\": 450, \"F\": 340, \"G\": 350}\n",
    "\n",
    "model.PD = pe.Param(model.R, initialize = penalty_data)"
   ]
  },
  {
   "cell_type": "markdown",
   "id": "5b845972",
   "metadata": {},
   "source": [
    "${S{p}}$ : supply capacity of new pipeline p [l/s]"
   ]
  },
  {
   "cell_type": "code",
   "execution_count": 12,
   "id": "fddc2a9f",
   "metadata": {},
   "outputs": [],
   "source": [
    "supply_data = {\"P1\": 1500, \"P2\": 2500}\n",
    "\n",
    "model.S = pe.Param(model.P, initialize = supply_data)"
   ]
  },
  {
   "cell_type": "markdown",
   "id": "534c2bc9",
   "metadata": {},
   "source": [
    "#### Variables"
   ]
  },
  {
   "cell_type": "markdown",
   "id": "51a2dbf3",
   "metadata": {},
   "source": [
    "${X_{i, j}}$ : daily volume of oil from refinery i to refinery j [l/s]\n"
   ]
  },
  {
   "cell_type": "code",
   "execution_count": 13,
   "id": "fbd302dd",
   "metadata": {},
   "outputs": [],
   "source": [
    "PR = {(p, r) for p in model.P for r in model.R}\n",
    "model.X_index = pe.Set(dimen=2, initialize=set(model.E.data()) | PR)\n",
    "model.x = pe.Var(model.X_index, domain=NonNegativeReals)"
   ]
  },
  {
   "cell_type": "markdown",
   "id": "7c8f68cb",
   "metadata": {},
   "source": [
    "${nsd_r}$ : non-served demand at refinery r [l/s]"
   ]
  },
  {
   "cell_type": "code",
   "execution_count": 14,
   "id": "0bd25f79",
   "metadata": {},
   "outputs": [],
   "source": [
    "model.nsd = pe.Var(model.R, domain = NonNegativeReals)"
   ]
  },
  {
   "cell_type": "markdown",
   "id": "39122b55",
   "metadata": {},
   "source": [
    "${u_{p, r}}$ : active connection from pipeline p to refinery r {0,1}"
   ]
  },
  {
   "cell_type": "code",
   "execution_count": 15,
   "id": "379d7606",
   "metadata": {},
   "outputs": [],
   "source": [
    "model.u = pe.Var(model.P, model.R, domain = Binary)"
   ]
  },
  {
   "cell_type": "markdown",
   "id": "369aa9ec",
   "metadata": {},
   "source": [
    "#### Objective Function"
   ]
  },
  {
   "cell_type": "markdown",
   "id": "53f75c3a",
   "metadata": {},
   "source": [
    "##### Minimize shortage of contracted demand [€] --> min $\\sum_{r∈ℝ} PD_{r} * nsd_{r}$"
   ]
  },
  {
   "cell_type": "code",
   "execution_count": 16,
   "id": "e21a5222",
   "metadata": {},
   "outputs": [],
   "source": [
    "def obj_rule(model):\n",
    "    return sum(model.PD[r] * model.nsd[r] for r in model.R)\n",
    "\n",
    "model.OBJ = pe.Objective(rule = obj_rule, sense = pe.minimize)"
   ]
  },
  {
   "cell_type": "markdown",
   "id": "0e508a7e",
   "metadata": {},
   "source": [
    "#### Constrains \n",
    "\n",
    "Constraint #1: Balance in refinery r [m3]\n",
    "\n",
    "$\\sum_{i∈e(i,r)} X_{i,r} - \\sum_{i∈e(r,i)}  X_{r,i} = D_r - nsd_r \\forall r$ "
   ]
  },
  {
   "cell_type": "code",
   "execution_count": 17,
   "id": "9b4aac30",
   "metadata": {},
   "outputs": [],
   "source": [
    "def balance_rule(model, r):\n",
    "    inflow_net  = sum(model.x[i, r] for i in model.rprime[r] if (i, r) in model.X_index)\n",
    "    inflow_p    = sum(model.x[p, r] for p in model.P          if (p, r) in model.X_index)\n",
    "    outflow_net = sum(model.x[r, j] for j in model.r[r]       if (r, j) in model.X_index)\n",
    "    return inflow_net + inflow_p - outflow_net == model.D[r] - model.nsd[r]\n",
    "model.Balance = pe.Constraint(model.R, rule=balance_rule)"
   ]
  },
  {
   "cell_type": "markdown",
   "id": "ac6fd022",
   "metadata": {},
   "source": [
    "Constraint #2: Maximum volume from refinery in i to refinery in j [l/s]\n",
    "\n",
    "$X_{r,r'} \\leq Q_{r,r'} \\forall r, r' ∈ e(r, r')$ "
   ]
  },
  {
   "cell_type": "code",
   "execution_count": 18,
   "id": "646e3b96",
   "metadata": {},
   "outputs": [],
   "source": [
    "def capacity_rule(model, i, j):\n",
    "    return model.x[i, j] <= model.Q[i, j]\n",
    "model.Capacity = pe.Constraint(model.E, rule=capacity_rule)"
   ]
  },
  {
   "cell_type": "markdown",
   "id": "e2f68c04",
   "metadata": {},
   "source": [
    "Constraint #3: Maximum supplied volume from pipeline p to refinery r [l/s]\n",
    "\n",
    "$X_{p,r} \\leq S_p * u_{p,r} \\forall p,r $ "
   ]
  },
  {
   "cell_type": "code",
   "execution_count": 19,
   "id": "4ad439bb",
   "metadata": {},
   "outputs": [],
   "source": [
    "def pipeline_supply_rule(model, p, r):\n",
    "    return model.x[p, r] <= model.S[p] * model.u[p, r]\n",
    "\n",
    "model.PipelineSupply = pe.Constraint(model.P, model.R, rule=pipeline_supply_rule)"
   ]
  },
  {
   "cell_type": "markdown",
   "id": "3d669b4b",
   "metadata": {},
   "source": [
    "Constraint #4: Each pipeline p connects to a single refinery [l/s]\n",
    "\n",
    "$\\sum_{r∈e(p,r)} u_{p,r} \\leq 1 \\forall p$ "
   ]
  },
  {
   "cell_type": "code",
   "execution_count": 20,
   "id": "e5ac412a",
   "metadata": {},
   "outputs": [],
   "source": [
    "def one_connection_rule(model, p):\n",
    "    return sum(model.u[p, r] for r in model.R) == 1\n",
    "model.OneConnection = pe.Constraint(model.P, rule=one_connection_rule)"
   ]
  },
  {
   "cell_type": "markdown",
   "id": "3d8db408",
   "metadata": {},
   "source": [
    "Constraint #5: Both pipelines cannot connect adjacent nodes to refinery r\n",
    "\n",
    "$ u_{p=1,r} + \\sum_{r'∈e(r,r')} u_{p=2,r'} \\leq 1 \\forall r$ \n",
    "\n",
    "$ u_{p=2,r} + \\sum_{r'∈e(r,r')} u_{p=1,r'} \\leq 1 \\forall r$ "
   ]
  },
  {
   "cell_type": "code",
   "execution_count": 21,
   "id": "52e9c016",
   "metadata": {},
   "outputs": [],
   "source": [
    "def no_adjacent_rule(model, r):\n",
    "    return model.u[\"P1\", r] + sum(model.u[\"P2\", j] for j in model.r[r]) <= 1\n",
    "model.NoAdjacentP1 = pe.Constraint(model.R, rule=no_adjacent_rule)\n",
    "\n",
    "def no_adjacent_rule2(model, r):\n",
    "    return model.u[\"P2\", r] + sum(model.u[\"P1\", j] for j in model.r[r]) <= 1\n",
    "model.NoAdjacentP2 = pe.Constraint(model.R, rule=no_adjacent_rule2)"
   ]
  },
  {
   "cell_type": "markdown",
   "id": "1e6e66a0",
   "metadata": {},
   "source": [
    "Constraint #6: Maximum non-served demand at refinery r [l/s]\n",
    "\n",
    "$ nsd_r \\leq D_r \\forall r $"
   ]
  },
  {
   "cell_type": "code",
   "execution_count": 22,
   "id": "02f4d6be",
   "metadata": {},
   "outputs": [],
   "source": [
    "def max_unserved_rule(model, r):\n",
    "    return model.nsd[r] <= model.D[r]\n",
    "model.MaxUnserved = pe.Constraint(model.R, rule=max_unserved_rule)"
   ]
  },
  {
   "cell_type": "markdown",
   "id": "aa204a75",
   "metadata": {},
   "source": [
    "#### Solving the problem  "
   ]
  },
  {
   "cell_type": "code",
   "execution_count": 23,
   "id": "00ea03a7",
   "metadata": {},
   "outputs": [
    {
     "name": "stdout",
     "output_type": "stream",
     "text": [
      "Set parameter Username\n",
      "Set parameter LicenseID to value 2707272\n",
      "Academic license - for non-commercial use only - expires 2026-09-11\n",
      "Read LP format model from file C:\\Users\\crist\\AppData\\Local\\Temp\\tmpj7q_ya52.pyomo.lp\n",
      "Reading time = 0.00 seconds\n",
      "x1: 68 rows, 59 columns, 204 nonzeros\n",
      "Gurobi Optimizer version 12.0.3 build v12.0.3rc0 (win64 - Windows 11.0 (26100.2))\n",
      "\n",
      "CPU model: 13th Gen Intel(R) Core(TM) i7-1355U, instruction set [SSE2|AVX|AVX2]\n",
      "Thread count: 10 physical cores, 12 logical processors, using up to 12 threads\n",
      "\n",
      "Optimize a model with 68 rows, 59 columns and 204 nonzeros\n",
      "Model fingerprint: 0x33845fac\n",
      "Variable types: 45 continuous, 14 integer (14 binary)\n",
      "Coefficient statistics:\n",
      "  Matrix range     [1e+00, 3e+03]\n",
      "  Objective range  [3e+02, 5e+02]\n",
      "  Bounds range     [1e+00, 1e+00]\n",
      "  RHS range        [1e+00, 1e+03]\n",
      "Presolve removed 33 rows and 13 columns\n",
      "Presolve time: 0.00s\n",
      "Presolved: 35 rows, 46 columns, 135 nonzeros\n",
      "Variable types: 33 continuous, 13 integer (13 binary)\n",
      "Found heuristic solution: objective 99000.000000\n",
      "Found heuristic solution: objective 90000.000000\n",
      "\n",
      "Root relaxation: cutoff, 22 iterations, 0.00 seconds (0.00 work units)\n",
      "\n",
      "    Nodes    |    Current Node    |     Objective Bounds      |     Work\n",
      " Expl Unexpl |  Obj  Depth IntInf | Incumbent    BestBd   Gap | It/Node Time\n",
      "\n",
      "     0     0     cutoff    0      90000.0000 90000.0000  0.00%     -    0s\n",
      "\n",
      "Explored 1 nodes (22 simplex iterations) in 0.00 seconds (0.00 work units)\n",
      "Thread count was 12 (of 12 available processors)\n",
      "\n",
      "Solution count 2: 90000 99000 \n",
      "\n",
      "Optimal solution found (tolerance 1.00e-04)\n",
      "Best objective 9.000000000000e+04, best bound 9.000000000000e+04, gap 0.0000%\n",
      "Status: ok\n",
      "Termination: optimal\n"
     ]
    }
   ],
   "source": [
    "solver = pe.SolverFactory('gurobi')\n",
    "result = solver.solve(model, tee=True)\n",
    "\n",
    "print(\"Status:\", result.solver.status)\n",
    "print(\"Termination:\", result.solver.termination_condition)"
   ]
  },
  {
   "cell_type": "code",
   "execution_count": 24,
   "id": "e64bec1a",
   "metadata": {},
   "outputs": [
    {
     "name": "stdout",
     "output_type": "stream",
     "text": [
      "\n",
      "Pipeline connections (u[p,r] = 1):\n",
      "  P1 is connected to refinery D\n",
      "  Flow from P1 to D: 1500.0 l/s\n",
      "  P2 is connected to refinery A\n",
      "  Flow from P2 to A: 2500.0 l/s\n",
      "\n",
      "Refinery status:\n",
      "  A: demand=700, served=700, nsd=0, penalty=0 €\n",
      "  B: demand=650, served=350, nsd=300, penalty=90000 €\n",
      "  C: demand=450, served=450, nsd=0, penalty=0 €\n",
      "  D: demand=570, served=570, nsd=0, penalty=0 €\n",
      "  E: demand=490, served=490, nsd=0, penalty=0 €\n",
      "  F: demand=630, served=630, nsd=0, penalty=0 €\n",
      "  G: demand=810, served=810, nsd=0, penalty=0 €\n",
      "\n",
      "TOTAL NSD = 300 l/s\n",
      "Economic impact (objective value) [€]: 90000.0\n",
      "\n",
      "Significant flows in the network:\n",
      "A -> B: 600.0 l/s\n",
      "A -> F: 700.0 l/s\n",
      "A -> G: 850.0 l/s\n",
      "B -> C: 700.0 l/s\n",
      "C -> B: 350.0 l/s\n",
      "C -> G: 600.0 l/s\n",
      "D -> C: 700.0 l/s\n",
      "D -> E: 640.0 l/s\n",
      "D -> G: 140.0 l/s\n",
      "E -> G: 700.0 l/s\n",
      "F -> A: 170.0 l/s\n",
      "F -> E: 550.0 l/s\n",
      "G -> A: 180.0 l/s\n",
      "G -> B: 100.0 l/s\n",
      "G -> D: 550.0 l/s\n",
      "G -> F: 650.0 l/s\n",
      "P1 -> D: 1500.0 l/s\n",
      "P2 -> A: 2500.0 l/s\n"
     ]
    }
   ],
   "source": [
    "# === Pipeline connections ===\n",
    "print(\"\\nPipeline connections (u[p,r] = 1):\")\n",
    "\n",
    "try:\n",
    "    x_index = set(model.X_index)\n",
    "except Exception:\n",
    "    x_index = set(model.x.index_set())\n",
    "\n",
    "for p in model.P:\n",
    "    connected = [r for r in model.R if pe.value(model.u[p, r]) > 0.5]\n",
    "    if connected:\n",
    "        r = connected[0]  # debería haber exactamente una por el constraint\n",
    "        flow = pe.value(model.x[p, r]) if (p, r) in x_index else 0.0\n",
    "        print(f\"  {p} is connected to refinery {r}\")\n",
    "        print(f\"  Flow from {p} to {r}: {flow:.1f} l/s\")\n",
    "    else:\n",
    "        print(f\"  {p} has no active connection\")\n",
    "\n",
    "# === Refinery status ===\n",
    "print(\"\\nRefinery status:\")\n",
    "total_nsd, total_cost = 0.0, 0.0\n",
    "for r in model.R:\n",
    "    D   = pe.value(model.D[r])\n",
    "    nsd = pe.value(model.nsd[r])\n",
    "    served = D - nsd\n",
    "    cost_r = pe.value(model.PD[r]) * nsd\n",
    "    total_nsd  += nsd\n",
    "    total_cost += cost_r\n",
    "    print(f\"  {r}: demand={D:.0f}, served={served:.0f}, nsd={nsd:.0f}, penalty={cost_r:.0f} €\")\n",
    "\n",
    "print(f\"\\nTOTAL NSD = {total_nsd:.0f} l/s\")\n",
    "print(\"Economic impact (objective value) [€]:\", pe.value(model.OBJ))\n",
    "\n",
    "# === Significant flows in the network ===\n",
    "print(\"\\nSignificant flows in the network:\")\n",
    "\n",
    "# orden de fuentes: primero refinerías A..G, luego P1 y P2 al final\n",
    "order_src = ['A','B','C','D','E','F','G','P1','P2']\n",
    "order_tgt = ['A','B','C','D','E','F','G']  # solo refinerías como destino (los pipelines no reciben)\n",
    "\n",
    "rank_src = {n:i for i,n in enumerate(order_src)}\n",
    "rank_tgt = {n:i for i,n in enumerate(order_tgt)}\n",
    "\n",
    "flows = []\n",
    "TH = 1.0  # umbral para mostrar\n",
    "# si tienes model.X_index úsalo; si no, recorre model.x directamente\n",
    "idx = list(model.X_index) if hasattr(model, \"X_index\") else list(model.x)\n",
    "\n",
    "for (i, j) in idx:\n",
    "    v = pe.value(model.x[i, j])\n",
    "    if v is not None and v >= TH:\n",
    "        s_rank = rank_src.get(i, 999)\n",
    "        t_rank = rank_tgt.get(j, 999)\n",
    "        flows.append((s_rank, t_rank, i, j, v))\n",
    "\n",
    "# ordenar por fuente (según orden deseado), luego por destino (A..G)\n",
    "flows.sort(key=lambda t: (t[0], t[1], t[2], t[3]))\n",
    "\n",
    "for _, __, i, j, v in flows:\n",
    "    print(f\"{i} -> {j}: {v:.1f} l/s\")"
   ]
  }
 ],
 "metadata": {
  "kernelspec": {
   "display_name": "icai",
   "language": "python",
   "name": "python3"
  },
  "language_info": {
   "codemirror_mode": {
    "name": "ipython",
    "version": 3
   },
   "file_extension": ".py",
   "mimetype": "text/x-python",
   "name": "python",
   "nbconvert_exporter": "python",
   "pygments_lexer": "ipython3",
   "version": "3.12.7"
  }
 },
 "nbformat": 4,
 "nbformat_minor": 5
}
