{
 "cells": [
  {
   "cell_type": "markdown",
   "id": "a572d262",
   "metadata": {},
   "source": [
    "# Two pipelines Problem\n",
    "\n",
    "Cristina Hernández, Beatriz Jimenez, Macarena Vargas, Guillermo Ruiz"
   ]
  },
  {
   "cell_type": "code",
   "execution_count": 25,
   "id": "0e6593f0",
   "metadata": {},
   "outputs": [],
   "source": [
    "import pyomo.environ as pe\n",
    "import pyomo.opt as po\n",
    "from pyomo.environ import NonNegativeReals, Binary"
   ]
  },
  {
   "cell_type": "markdown",
   "id": "f5147f3f",
   "metadata": {},
   "source": [
    "#### Create the model "
   ]
  },
  {
   "cell_type": "code",
   "execution_count": 26,
   "id": "c0b19cda",
   "metadata": {},
   "outputs": [],
   "source": [
    "model = pe.ConcreteModel()"
   ]
  },
  {
   "cell_type": "markdown",
   "id": "fb5194e5",
   "metadata": {},
   "source": [
    "#### Sets\n",
    "\n",
    "\n",
    "${N}$ : Network nodes = {A, B, C, D, E, F, G, P1, P2}"
   ]
  },
  {
   "cell_type": "code",
   "execution_count": 27,
   "id": "6f23e03f",
   "metadata": {},
   "outputs": [],
   "source": [
    "model.N = pe.Set(initialize = [\"A\", \"B\", \"C\", \"D\", \"E\", \"F\", \"G\", \"P1\", \"P2\"])"
   ]
  },
  {
   "cell_type": "markdown",
   "id": "3af00651",
   "metadata": {},
   "source": [
    "${R}$ : Subset of Refineries  = {A, B, C, D, E, F, G}"
   ]
  },
  {
   "cell_type": "code",
   "execution_count": 28,
   "id": "94f6585a",
   "metadata": {},
   "outputs": [],
   "source": [
    "model.R = pe.Set(initialize = [\"A\", \"B\", \"C\", \"D\", \"E\", \"F\", \"G\"])"
   ]
  },
  {
   "cell_type": "markdown",
   "id": "4edb1936",
   "metadata": {},
   "source": [
    "\n",
    "${P}$ : Subset of Pipelines = {P1, P2}"
   ]
  },
  {
   "cell_type": "code",
   "execution_count": 29,
   "id": "09789bb4",
   "metadata": {},
   "outputs": [],
   "source": [
    "model.P = pe.Set(initialize = [\"P1\", \"P2\"])"
   ]
  },
  {
   "cell_type": "markdown",
   "id": "5aef53da",
   "metadata": {},
   "source": [
    "\n",
    "${E_{i, j}}$ : existing connection between refinery i and refinery j"
   ]
  },
  {
   "cell_type": "code",
   "execution_count": 30,
   "id": "7122c168",
   "metadata": {},
   "outputs": [],
   "source": [
    "existing_connections = [(\"A\", \"B\"), (\"B\", \"C\"), (\"C\", \"D\"), \n",
    "                        (\"D\", \"E\"), (\"E\", \"F\"), (\"F\", \"A\"), \n",
    "                        (\"A\", \"G\"), (\"B\", \"G\"), (\"C\", \"G\"), \n",
    "                        (\"D\", \"G\"), (\"E\", \"G\"), (\"F\", \"G\")]\n",
    "\n",
    "model.E = pe.Set(dimen=2, initialize = existing_connections)"
   ]
  },
  {
   "cell_type": "markdown",
   "id": "be095b32",
   "metadata": {},
   "source": [
    "${r_i}$ : Refineries you can reach from the refinery i"
   ]
  },
  {
   "cell_type": "code",
   "execution_count": 31,
   "id": "6e7f2474",
   "metadata": {},
   "outputs": [],
   "source": [
    "def outgoing_init(model, i):\n",
    "    return [j for (ii, j) in model.E if ii == i]\n",
    "model.r = pe.Set(model.N, initialize=outgoing_init)"
   ]
  },
  {
   "cell_type": "markdown",
   "id": "d0b6ed08",
   "metadata": {},
   "source": [
    "${r'_i}$ : Refineries that can reach the refinery i"
   ]
  },
  {
   "cell_type": "code",
   "execution_count": 32,
   "id": "5c3746c3",
   "metadata": {},
   "outputs": [],
   "source": [
    "def incoming_init(model, i):\n",
    "    return [ii for (ii, j) in model.E if j == i]\n",
    "model.rprime = pe.Set(model.N, initialize=incoming_init)"
   ]
  },
  {
   "cell_type": "markdown",
   "id": "3745025b",
   "metadata": {},
   "source": [
    "#### Parameters\n",
    "\n",
    "${Q_{i, j}}$ : available capacity between refinery i and refinery j [l/s]"
   ]
  },
  {
   "cell_type": "code",
   "execution_count": 33,
   "id": "af6f70c0",
   "metadata": {},
   "outputs": [],
   "source": [
    "capacity_data = {(\"A\", \"B\"): 600, (\"B\", \"C\"): 700, \n",
    "                 (\"C\", \"D\"): 700, (\"D\", \"E\"): 650, \n",
    "                 (\"E\", \"F\"): 550, (\"F\", \"A\"): 700, \n",
    "                 (\"A\", \"G\"): 850, (\"B\", \"G\"): 950, \n",
    "                 (\"C\", \"G\"): 600, (\"D\", \"G\"): 550, \n",
    "                 (\"E\", \"G\"): 700, (\"F\", \"G\"): 650}\n",
    "\n",
    "model.Q = pe.Param(model.E, initialize = capacity_data)"
   ]
  },
  {
   "cell_type": "markdown",
   "id": "19200331",
   "metadata": {},
   "source": [
    "${D_{r}}$ : contracted capacity at refinery r [l/s]"
   ]
  },
  {
   "cell_type": "code",
   "execution_count": 34,
   "id": "e6cfae47",
   "metadata": {},
   "outputs": [],
   "source": [
    "demand_data = {\"A\": 700, \"B\": 650, \"C\": 450, \"D\": 570, \"E\": 490, \"F\": 630, \"G\": 810}\n",
    "\n",
    "model.D = pe.Param(model.R, initialize = demand_data)"
   ]
  },
  {
   "cell_type": "markdown",
   "id": "f0ba37cb",
   "metadata": {},
   "source": [
    "${PD_{r}}$ :  unmet demand penalty at refinery r [€/l/s]"
   ]
  },
  {
   "cell_type": "code",
   "execution_count": 35,
   "id": "9bbe8bfd",
   "metadata": {},
   "outputs": [],
   "source": [
    "penalty_data = {\"A\": 300, \"B\": 300 , \"C\": 400, \"D\": 300, \"E\": 450, \"F\": 340, \"G\": 350}\n",
    "\n",
    "model.PD = pe.Param(model.R, initialize = penalty_data)"
   ]
  },
  {
   "cell_type": "markdown",
   "id": "5b845972",
   "metadata": {},
   "source": [
    "${S{p}}$ : supply capacity of new pipeline p [l/s]"
   ]
  },
  {
   "cell_type": "code",
   "execution_count": 36,
   "id": "fddc2a9f",
   "metadata": {},
   "outputs": [],
   "source": [
    "supply_data = {\"P1\": 1500, \"P2\": 2500}\n",
    "\n",
    "model.S = pe.Param(model.P, initialize = supply_data)"
   ]
  },
  {
   "cell_type": "markdown",
   "id": "534c2bc9",
   "metadata": {},
   "source": [
    "#### Variables"
   ]
  },
  {
   "cell_type": "markdown",
   "id": "51a2dbf3",
   "metadata": {},
   "source": [
    "${X_{i, j}}$ : daily volume of oil from refinery i to refinery j [l/s]\n"
   ]
  },
  {
   "cell_type": "code",
   "execution_count": 37,
   "id": "fbd302dd",
   "metadata": {},
   "outputs": [],
   "source": [
    "PR = {(p, r) for p in model.P for r in model.R}             # pares (pipeline,refinería)\n",
    "model.X_index = pe.Set(dimen=2, initialize=set(model.E.data()) | PR)\n",
    "model.x = pe.Var(model.X_index, domain=NonNegativeReals)"
   ]
  },
  {
   "cell_type": "markdown",
   "id": "7c8f68cb",
   "metadata": {},
   "source": [
    "${nsd_r}$ : non-served demand at refinery r [l/s]"
   ]
  },
  {
   "cell_type": "code",
   "execution_count": 38,
   "id": "0bd25f79",
   "metadata": {},
   "outputs": [],
   "source": [
    "model.nsd = pe.Var(model.R, domain = NonNegativeReals)"
   ]
  },
  {
   "cell_type": "markdown",
   "id": "39122b55",
   "metadata": {},
   "source": [
    "${u_{p, r}}$ : active connection from pipeline p to refinery r {0,1}"
   ]
  },
  {
   "cell_type": "code",
   "execution_count": 39,
   "id": "379d7606",
   "metadata": {},
   "outputs": [],
   "source": [
    "model.u = pe.Var(model.P, model.R, domain = Binary)"
   ]
  },
  {
   "cell_type": "markdown",
   "id": "369aa9ec",
   "metadata": {},
   "source": [
    "#### Objective Function"
   ]
  },
  {
   "cell_type": "markdown",
   "id": "53f75c3a",
   "metadata": {},
   "source": [
    "##### Minimize shortage of contracted demand [€] --> min $\\sum_{r∈ℝ} PD_{r} * nsd_{r}$"
   ]
  },
  {
   "cell_type": "code",
   "execution_count": 40,
   "id": "e21a5222",
   "metadata": {},
   "outputs": [],
   "source": [
    "def obj_rule(model):\n",
    "    return sum(model.PD[r] * model.nsd[r] for r in model.R)\n",
    "\n",
    "model.OBJ = pe.Objective(rule = obj_rule, sense = pe.minimize)"
   ]
  },
  {
   "cell_type": "markdown",
   "id": "0e508a7e",
   "metadata": {},
   "source": [
    "#### Constrains \n",
    "\n",
    "Constraint #1: Balance in refinery r [m3]\n",
    "\n",
    "$\\sum_{i∈e(i,r)} X_{i,r} - \\sum_{i∈e(r,i)}  X_{r,i} = D_r - nsd_r \\forall r$ "
   ]
  },
  {
   "cell_type": "code",
   "execution_count": 41,
   "id": "9b4aac30",
   "metadata": {},
   "outputs": [],
   "source": [
    "def balance_rule(model, r):\n",
    "    inflow_net  = sum(model.x[i, r] for i in model.rprime[r] if (i, r) in model.X_index)\n",
    "    inflow_p    = sum(model.x[p, r] for p in model.P          if (p, r) in model.X_index)  # <-- pipelines\n",
    "    outflow_net = sum(model.x[r, j] for j in model.r[r]       if (r, j) in model.X_index)\n",
    "    return inflow_net + inflow_p - outflow_net == model.D[r] - model.nsd[r]\n",
    "model.Balance = pe.Constraint(model.R, rule=balance_rule)"
   ]
  },
  {
   "cell_type": "markdown",
   "id": "ac6fd022",
   "metadata": {},
   "source": [
    "Constraint #2: Maximum volume from refinery in i to refinery in j [l/s]\n",
    "\n",
    "$X_{r,r'} \\leq Q_{r,r'} \\forall r, r' ∈ e(r, r')$ "
   ]
  },
  {
   "cell_type": "code",
   "execution_count": 42,
   "id": "646e3b96",
   "metadata": {},
   "outputs": [],
   "source": [
    "def capacity_rule(model, i, j):\n",
    "    return model.x[i, j] <= model.Q[i, j]\n",
    "model.Capacity = pe.Constraint(model.E, rule=capacity_rule)"
   ]
  },
  {
   "cell_type": "markdown",
   "id": "e2f68c04",
   "metadata": {},
   "source": [
    "Constraint #3: Maximum supplied volume from pipeline p to refinery r [l/s]\n",
    "\n",
    "$X_{p,r} \\leq S_p * u_{p,r} \\forall p,r $ "
   ]
  },
  {
   "cell_type": "code",
   "execution_count": 43,
   "id": "4ad439bb",
   "metadata": {},
   "outputs": [],
   "source": [
    "def pipeline_supply_rule(model, p, r):\n",
    "    return model.x[p, r] <= model.S[p] * model.u[p, r]\n",
    "\n",
    "model.PipelineSupply = pe.Constraint(model.P, model.R, rule=pipeline_supply_rule)"
   ]
  },
  {
   "cell_type": "markdown",
   "id": "3d669b4b",
   "metadata": {},
   "source": [
    "Constraint #4: Each pipeline p connects to a single refinery [l/s]\n",
    "\n",
    "$\\sum_{r∈e(p,r)} u_{p,r} \\leq 1 \\forall p$ "
   ]
  },
  {
   "cell_type": "code",
   "execution_count": 44,
   "id": "e5ac412a",
   "metadata": {},
   "outputs": [],
   "source": [
    "def one_connection_rule(model, p):\n",
    "    return sum(model.u[p, r] for r in model.R) == 1\n",
    "model.OneConnection = pe.Constraint(model.P, rule=one_connection_rule)"
   ]
  },
  {
   "cell_type": "markdown",
   "id": "3d8db408",
   "metadata": {},
   "source": [
    "Constraint #5: Both pipelines cannot connect adjacent nodes to refinery r\n",
    "\n",
    "$ u_{p=1,r} + \\sum_{r'∈e(r,r')} u_{p=2,r'} \\leq 1 \\forall r$ \n",
    "\n",
    "$ u_{p=2,r} + \\sum_{r'∈e(r,r')} u_{p=1,r'} \\leq 1 \\forall r$ "
   ]
  },
  {
   "cell_type": "code",
   "execution_count": 45,
   "id": "52e9c016",
   "metadata": {},
   "outputs": [],
   "source": [
    "def no_adjacent_rule(model, r):\n",
    "    return model.u[\"P1\", r] + sum(model.u[\"P2\", j] for j in model.r[r]) <= 1\n",
    "model.NoAdjacentP1 = pe.Constraint(model.R, rule=no_adjacent_rule)\n",
    "\n",
    "def no_adjacent_rule2(model, r):\n",
    "    return model.u[\"P2\", r] + sum(model.u[\"P1\", j] for j in model.r[r]) <= 1\n",
    "model.NoAdjacentP2 = pe.Constraint(model.R, rule=no_adjacent_rule2)"
   ]
  },
  {
   "cell_type": "markdown",
   "id": "1e6e66a0",
   "metadata": {},
   "source": [
    "Constraint #6: Maximum non-served demand at refinery r [l/s]\n",
    "\n",
    "$ nsd_r \\leq D_r \\forall r $"
   ]
  },
  {
   "cell_type": "code",
   "execution_count": 46,
   "id": "02f4d6be",
   "metadata": {},
   "outputs": [],
   "source": [
    "def max_unserved_rule(model, r):\n",
    "    return model.nsd[r] <= model.D[r]\n",
    "model.MaxUnserved = pe.Constraint(model.R, rule=max_unserved_rule)"
   ]
  },
  {
   "cell_type": "markdown",
   "id": "aa204a75",
   "metadata": {},
   "source": [
    "#### Solving the problem  "
   ]
  },
  {
   "cell_type": "code",
   "execution_count": 47,
   "id": "00ea03a7",
   "metadata": {},
   "outputs": [
    {
     "name": "stdout",
     "output_type": "stream",
     "text": [
      "Set parameter Username\n",
      "Set parameter LicenseID to value 2707272\n",
      "Academic license - for non-commercial use only - expires 2026-09-11\n",
      "Read LP format model from file C:\\Users\\crist\\AppData\\Local\\Temp\\tmpjdkscwd7.pyomo.lp\n",
      "Reading time = 0.01 seconds\n",
      "x1: 56 rows, 47 columns, 144 nonzeros\n",
      "Gurobi Optimizer version 12.0.3 build v12.0.3rc0 (win64 - Windows 11.0 (26100.2))\n",
      "\n",
      "CPU model: 13th Gen Intel(R) Core(TM) i7-1355U, instruction set [SSE2|AVX|AVX2]\n",
      "Thread count: 10 physical cores, 12 logical processors, using up to 12 threads\n",
      "\n",
      "Optimize a model with 56 rows, 47 columns and 144 nonzeros\n",
      "Model fingerprint: 0xb29fdf0f\n",
      "Variable types: 33 continuous, 14 integer (14 binary)\n",
      "Coefficient statistics:\n",
      "  Matrix range     [1e+00, 3e+03]\n",
      "  Objective range  [3e+02, 5e+02]\n",
      "  Bounds range     [1e+00, 1e+00]\n",
      "  RHS range        [1e+00, 1e+03]\n",
      "Found heuristic solution: objective 1196700.0000\n",
      "Presolve removed 25 rows and 3 columns\n",
      "Presolve time: 0.00s\n",
      "Presolved: 31 rows, 44 columns, 119 nonzeros\n",
      "Variable types: 31 continuous, 13 integer (13 binary)\n",
      "\n",
      "Root relaxation: objective 1.920000e+05, 34 iterations, 0.00 seconds (0.00 work units)\n",
      "\n",
      "    Nodes    |    Current Node    |     Objective Bounds      |     Work\n",
      " Expl Unexpl |  Obj  Depth IntInf | Incumbent    BestBd   Gap | It/Node Time\n",
      "\n",
      "     0     0 192000.000    0    2 1196700.00 192000.000  84.0%     -    0s\n",
      "H    0     0                    369800.00000 192000.000  48.1%     -    0s\n",
      "H    0     0                    267000.00000 192000.000  28.1%     -    0s\n",
      "     0     0 192000.000    0    2 267000.000 192000.000  28.1%     -    0s\n",
      "     0     0 199723.299    0    5 267000.000 199723.299  25.2%     -    0s\n",
      "     0     0 199723.299    0    4 267000.000 199723.299  25.2%     -    0s\n",
      "     0     0 246000.000    0    6 267000.000 246000.000  7.87%     -    0s\n",
      "     0     0 267000.000    0    4 267000.000 267000.000  0.00%     -    0s\n",
      "\n",
      "Cutting planes:\n",
      "  Implied bound: 3\n",
      "  MIR: 1\n",
      "  Flow cover: 7\n",
      "  Flow path: 2\n",
      "\n",
      "Explored 1 nodes (64 simplex iterations) in 0.02 seconds (0.00 work units)\n",
      "Thread count was 12 (of 12 available processors)\n",
      "\n",
      "Solution count 3: 267000 369800 1.1967e+06 \n",
      "\n",
      "Optimal solution found (tolerance 1.00e-04)\n",
      "Best objective 2.670000000000e+05, best bound 2.670000000000e+05, gap 0.0000%\n",
      "Status: ok\n",
      "Termination: optimal\n"
     ]
    }
   ],
   "source": [
    "solver = pe.SolverFactory('gurobi')\n",
    "result = solver.solve(model, tee=True)\n",
    "\n",
    "print(\"Status:\", result.solver.status)\n",
    "print(\"Termination:\", result.solver.termination_condition)"
   ]
  },
  {
   "cell_type": "code",
   "execution_count": 48,
   "id": "e64bec1a",
   "metadata": {},
   "outputs": [
    {
     "name": "stdout",
     "output_type": "stream",
     "text": [
      "\n",
      "Chosen connections (u[p,r] = 1):\n",
      "  P1 -> F\n",
      "  P2 -> B\n",
      "\n",
      "Economic impact (objective value) [€]: 267000.0\n",
      "\n",
      "Breakdown by refinery:\n",
      "  A: nsd = 0.0 l/s  |  cost = 0 €\n",
      "  B: nsd = 0.0 l/s  |  cost = 0 €\n",
      "  C: nsd = 240.0 l/s  |  cost = 96000 €\n",
      "  D: nsd = 570.0 l/s  |  cost = 171000 €\n",
      "  E: nsd = 0.0 l/s  |  cost = 0 €\n",
      "  F: nsd = 0.0 l/s  |  cost = 0 €\n",
      "  G: nsd = 0.0 l/s  |  cost = 0 €\n",
      "\n",
      "TOTAL NSD = 810.0 l/s\n"
     ]
    }
   ],
   "source": [
    "print(\"\\nChosen connections (u[p,r] = 1):\")\n",
    "for p in model.P:\n",
    "    for r in model.R:\n",
    "        if pe.value(model.u[p, r]) > 0.5:\n",
    "            print(f\"  {p} -> {r}\")\n",
    "\n",
    "# Coste económico mínimo (penalización total) y desglose\n",
    "total_cost = pe.value(model.OBJ)\n",
    "print(\"\\nEconomic impact (objective value) [€]:\", total_cost)\n",
    "\n",
    "# (opcional) desglose por refinería y total NSD\n",
    "print(\"\\nBreakdown by refinery:\")\n",
    "total_nsd = 0.0\n",
    "for r in model.R:\n",
    "    nsd_r = pe.value(model.nsd[r])\n",
    "    cost_r = pe.value(model.PD[r]) * nsd_r\n",
    "    total_nsd += nsd_r\n",
    "    print(f\"  {r}: nsd = {nsd_r:.1f} l/s  |  cost = {cost_r:.0f} €\")\n",
    "\n",
    "print(f\"\\nTOTAL NSD = {total_nsd:.1f} l/s\")"
   ]
  }
 ],
 "metadata": {
  "kernelspec": {
   "display_name": "icai",
   "language": "python",
   "name": "python3"
  },
  "language_info": {
   "codemirror_mode": {
    "name": "ipython",
    "version": 3
   },
   "file_extension": ".py",
   "mimetype": "text/x-python",
   "name": "python",
   "nbconvert_exporter": "python",
   "pygments_lexer": "ipython3",
   "version": "3.12.7"
  }
 },
 "nbformat": 4,
 "nbformat_minor": 5
}
